{
 "cells": [
  {
   "cell_type": "code",
   "execution_count": 1,
   "metadata": {
    "collapsed": false,
    "jupyter": {
     "outputs_hidden": false
    },
    "pycharm": {
     "name": "#%%\n"
    }
   },
   "outputs": [],
   "source": [
    "### WIP\n",
    "\n"
   ]
  },
  {
   "cell_type": "code",
   "execution_count": 2,
   "metadata": {},
   "outputs": [],
   "source": [
    "# https://github.com/SeldonIO/alibi-detect#drift-detection"
   ]
  },
  {
   "cell_type": "code",
   "execution_count": 3,
   "metadata": {
    "collapsed": false,
    "jupyter": {
     "outputs_hidden": false
    },
    "pycharm": {
     "name": "#%%\n"
    }
   },
   "outputs": [],
   "source": [
    "#pip  install alibi-detect --user\n",
    "#pip  install tensorflow\n",
    "\n",
    "#pip  install alibi\n",
    "# !pip install catboost\n",
    "# !pip install shap\n",
    "# !pip install xgboost\n"
   ]
  },
  {
   "cell_type": "code",
   "execution_count": 4,
   "metadata": {
    "collapsed": false,
    "jupyter": {
     "outputs_hidden": false
    },
    "pycharm": {
     "name": "#%%\n"
    }
   },
   "outputs": [],
   "source": [
    "\n",
    "\n",
    "import alibi\n",
    "import matplotlib.pyplot as plt\n",
    "\n",
    "from alibi_detect.cd import TabularDrift\n",
    "from alibi_detect.utils.saving import save_detector, load_detector\n",
    "\n",
    "\n",
    "import pandas as pd\n",
    "import numpy as np\n",
    "import matplotlib as mat\n",
    "import matplotlib.pyplot as plt    \n",
    "import seaborn as sns\n",
    "%matplotlib inline\n",
    "\n",
    "from sklearn.model_selection import train_test_split\n",
    "from sklearn.model_selection import cross_val_score\n",
    "from sklearn.model_selection import RepeatedStratifiedKFold\n",
    "from sklearn import metrics\n",
    "from sklearn.preprocessing import LabelEncoder\n",
    "from sklearn.preprocessing import OneHotEncoder\n",
    "from sklearn.preprocessing import StandardScaler\n",
    "from sklearn.pipeline import Pipeline\n",
    "from sklearn.compose import ColumnTransformer\n",
    "\n",
    "from sklearn.linear_model import LogisticRegression\n",
    "from sklearn.ensemble import RandomForestClassifier\n",
    "from xgboost import XGBClassifier\n",
    "from catboost import CatBoostClassifier\n",
    "from catboost import Pool\n",
    "\n",
    "import shap\n",
    "\n",
    "import warnings"
   ]
  },
  {
   "cell_type": "code",
   "execution_count": 5,
   "metadata": {
    "collapsed": false,
    "jupyter": {
     "outputs_hidden": false
    },
    "pycharm": {
     "name": "#%%\n"
    }
   },
   "outputs": [],
   "source": [
    "data = pd.read_csv('data.csv')\n",
    "\n",
    "# cd = MMDDrift(x_ref, backend='tensorflow', p_val=.05)\n",
    "# preds = cd.predict(x)"
   ]
  },
  {
   "cell_type": "code",
   "execution_count": 6,
   "metadata": {
    "collapsed": false,
    "jupyter": {
     "outputs_hidden": false
    },
    "pycharm": {
     "name": "#%%\n"
    }
   },
   "outputs": [
    {
     "data": {
      "text/html": [
       "<div>\n",
       "<style scoped>\n",
       "    .dataframe tbody tr th:only-of-type {\n",
       "        vertical-align: middle;\n",
       "    }\n",
       "\n",
       "    .dataframe tbody tr th {\n",
       "        vertical-align: top;\n",
       "    }\n",
       "\n",
       "    .dataframe thead th {\n",
       "        text-align: right;\n",
       "    }\n",
       "</style>\n",
       "<table border=\"1\" class=\"dataframe\">\n",
       "  <thead>\n",
       "    <tr style=\"text-align: right;\">\n",
       "      <th></th>\n",
       "      <th>customerID</th>\n",
       "      <th>gender</th>\n",
       "      <th>SeniorCitizen</th>\n",
       "      <th>Partner</th>\n",
       "      <th>Dependents</th>\n",
       "      <th>tenure</th>\n",
       "      <th>PhoneService</th>\n",
       "      <th>MultipleLines</th>\n",
       "      <th>InternetService</th>\n",
       "      <th>OnlineSecurity</th>\n",
       "      <th>...</th>\n",
       "      <th>DeviceProtection</th>\n",
       "      <th>TechSupport</th>\n",
       "      <th>StreamingTV</th>\n",
       "      <th>StreamingMovies</th>\n",
       "      <th>Contract</th>\n",
       "      <th>PaperlessBilling</th>\n",
       "      <th>PaymentMethod</th>\n",
       "      <th>MonthlyCharges</th>\n",
       "      <th>TotalCharges</th>\n",
       "      <th>Churn</th>\n",
       "    </tr>\n",
       "  </thead>\n",
       "  <tbody>\n",
       "    <tr>\n",
       "      <th>0</th>\n",
       "      <td>148</td>\n",
       "      <td>Male</td>\n",
       "      <td>0</td>\n",
       "      <td>No</td>\n",
       "      <td>No</td>\n",
       "      <td>1</td>\n",
       "      <td>Yes</td>\n",
       "      <td>No</td>\n",
       "      <td>DSL</td>\n",
       "      <td>No</td>\n",
       "      <td>...</td>\n",
       "      <td>No</td>\n",
       "      <td>No</td>\n",
       "      <td>No</td>\n",
       "      <td>No</td>\n",
       "      <td>Month-to-month</td>\n",
       "      <td>Yes</td>\n",
       "      <td>Electronic check</td>\n",
       "      <td>45.65</td>\n",
       "      <td>45.65</td>\n",
       "      <td>Yes</td>\n",
       "    </tr>\n",
       "    <tr>\n",
       "      <th>1</th>\n",
       "      <td>463</td>\n",
       "      <td>Male</td>\n",
       "      <td>0</td>\n",
       "      <td>Yes</td>\n",
       "      <td>Yes</td>\n",
       "      <td>4</td>\n",
       "      <td>Yes</td>\n",
       "      <td>Yes</td>\n",
       "      <td>Fiber optic</td>\n",
       "      <td>No</td>\n",
       "      <td>...</td>\n",
       "      <td>Yes</td>\n",
       "      <td>No</td>\n",
       "      <td>Yes</td>\n",
       "      <td>Yes</td>\n",
       "      <td>Month-to-month</td>\n",
       "      <td>No</td>\n",
       "      <td>Electronic check</td>\n",
       "      <td>101.15</td>\n",
       "      <td>385.90</td>\n",
       "      <td>Yes</td>\n",
       "    </tr>\n",
       "    <tr>\n",
       "      <th>2</th>\n",
       "      <td>471</td>\n",
       "      <td>Female</td>\n",
       "      <td>1</td>\n",
       "      <td>No</td>\n",
       "      <td>No</td>\n",
       "      <td>17</td>\n",
       "      <td>Yes</td>\n",
       "      <td>No</td>\n",
       "      <td>No</td>\n",
       "      <td>No internet service</td>\n",
       "      <td>...</td>\n",
       "      <td>No internet service</td>\n",
       "      <td>No internet service</td>\n",
       "      <td>No internet service</td>\n",
       "      <td>No internet service</td>\n",
       "      <td>One year</td>\n",
       "      <td>No</td>\n",
       "      <td>Mailed check</td>\n",
       "      <td>20.65</td>\n",
       "      <td>330.60</td>\n",
       "      <td>No</td>\n",
       "    </tr>\n",
       "    <tr>\n",
       "      <th>3</th>\n",
       "      <td>496</td>\n",
       "      <td>Male</td>\n",
       "      <td>0</td>\n",
       "      <td>No</td>\n",
       "      <td>No</td>\n",
       "      <td>22</td>\n",
       "      <td>No</td>\n",
       "      <td>No phone service</td>\n",
       "      <td>DSL</td>\n",
       "      <td>No</td>\n",
       "      <td>...</td>\n",
       "      <td>Yes</td>\n",
       "      <td>No</td>\n",
       "      <td>No</td>\n",
       "      <td>Yes</td>\n",
       "      <td>One year</td>\n",
       "      <td>Yes</td>\n",
       "      <td>Bank transfer (automatic)</td>\n",
       "      <td>43.75</td>\n",
       "      <td>903.60</td>\n",
       "      <td>Yes</td>\n",
       "    </tr>\n",
       "    <tr>\n",
       "      <th>4</th>\n",
       "      <td>833</td>\n",
       "      <td>Female</td>\n",
       "      <td>0</td>\n",
       "      <td>Yes</td>\n",
       "      <td>Yes</td>\n",
       "      <td>70</td>\n",
       "      <td>Yes</td>\n",
       "      <td>No</td>\n",
       "      <td>DSL</td>\n",
       "      <td>Yes</td>\n",
       "      <td>...</td>\n",
       "      <td>Yes</td>\n",
       "      <td>Yes</td>\n",
       "      <td>No</td>\n",
       "      <td>Yes</td>\n",
       "      <td>One year</td>\n",
       "      <td>No</td>\n",
       "      <td>Credit card (automatic)</td>\n",
       "      <td>74.10</td>\n",
       "      <td>5222.30</td>\n",
       "      <td>No</td>\n",
       "    </tr>\n",
       "  </tbody>\n",
       "</table>\n",
       "<p>5 rows × 21 columns</p>\n",
       "</div>"
      ],
      "text/plain": [
       "   customerID  gender  SeniorCitizen Partner Dependents  tenure PhoneService  \\\n",
       "0         148    Male              0      No         No       1          Yes   \n",
       "1         463    Male              0     Yes        Yes       4          Yes   \n",
       "2         471  Female              1      No         No      17          Yes   \n",
       "3         496    Male              0      No         No      22           No   \n",
       "4         833  Female              0     Yes        Yes      70          Yes   \n",
       "\n",
       "      MultipleLines InternetService       OnlineSecurity  ...  \\\n",
       "0                No             DSL                   No  ...   \n",
       "1               Yes     Fiber optic                   No  ...   \n",
       "2                No              No  No internet service  ...   \n",
       "3  No phone service             DSL                   No  ...   \n",
       "4                No             DSL                  Yes  ...   \n",
       "\n",
       "      DeviceProtection          TechSupport          StreamingTV  \\\n",
       "0                   No                   No                   No   \n",
       "1                  Yes                   No                  Yes   \n",
       "2  No internet service  No internet service  No internet service   \n",
       "3                  Yes                   No                   No   \n",
       "4                  Yes                  Yes                   No   \n",
       "\n",
       "       StreamingMovies        Contract PaperlessBilling  \\\n",
       "0                   No  Month-to-month              Yes   \n",
       "1                  Yes  Month-to-month               No   \n",
       "2  No internet service        One year               No   \n",
       "3                  Yes        One year              Yes   \n",
       "4                  Yes        One year               No   \n",
       "\n",
       "               PaymentMethod MonthlyCharges  TotalCharges  Churn  \n",
       "0           Electronic check          45.65         45.65    Yes  \n",
       "1           Electronic check         101.15        385.90    Yes  \n",
       "2               Mailed check          20.65        330.60     No  \n",
       "3  Bank transfer (automatic)          43.75        903.60    Yes  \n",
       "4    Credit card (automatic)          74.10       5222.30     No  \n",
       "\n",
       "[5 rows x 21 columns]"
      ]
     },
     "execution_count": 6,
     "metadata": {},
     "output_type": "execute_result"
    }
   ],
   "source": [
    "data.head(5)\n"
   ]
  },
  {
   "cell_type": "code",
   "execution_count": 34,
   "metadata": {
    "collapsed": false,
    "jupyter": {
     "outputs_hidden": false
    },
    "pycharm": {
     "name": "#%%\n"
    }
   },
   "outputs": [
    {
     "data": {
      "text/html": [
       "<div>\n",
       "<style scoped>\n",
       "    .dataframe tbody tr th:only-of-type {\n",
       "        vertical-align: middle;\n",
       "    }\n",
       "\n",
       "    .dataframe tbody tr th {\n",
       "        vertical-align: top;\n",
       "    }\n",
       "\n",
       "    .dataframe thead th {\n",
       "        text-align: right;\n",
       "    }\n",
       "</style>\n",
       "<table border=\"1\" class=\"dataframe\">\n",
       "  <thead>\n",
       "    <tr style=\"text-align: right;\">\n",
       "      <th></th>\n",
       "      <th>gender_1</th>\n",
       "      <th>gender_2</th>\n",
       "      <th>SeniorCitizen</th>\n",
       "      <th>Partner_1</th>\n",
       "      <th>Partner_2</th>\n",
       "      <th>Dependents_1</th>\n",
       "      <th>Dependents_2</th>\n",
       "      <th>tenure</th>\n",
       "      <th>PhoneService_1</th>\n",
       "      <th>PhoneService_2</th>\n",
       "      <th>...</th>\n",
       "      <th>StreamingTV_3</th>\n",
       "      <th>StreamingMovies_1</th>\n",
       "      <th>StreamingMovies_2</th>\n",
       "      <th>StreamingMovies_3</th>\n",
       "      <th>Contract</th>\n",
       "      <th>PaperlessBilling_1</th>\n",
       "      <th>PaperlessBilling_2</th>\n",
       "      <th>PaymentMethod</th>\n",
       "      <th>MonthlyCharges</th>\n",
       "      <th>TotalCharges</th>\n",
       "    </tr>\n",
       "  </thead>\n",
       "  <tbody>\n",
       "    <tr>\n",
       "      <th>0</th>\n",
       "      <td>0</td>\n",
       "      <td>0</td>\n",
       "      <td>0</td>\n",
       "      <td>0</td>\n",
       "      <td>0</td>\n",
       "      <td>0</td>\n",
       "      <td>0</td>\n",
       "      <td>1</td>\n",
       "      <td>0</td>\n",
       "      <td>0</td>\n",
       "      <td>...</td>\n",
       "      <td>0</td>\n",
       "      <td>0</td>\n",
       "      <td>0</td>\n",
       "      <td>0</td>\n",
       "      <td>Month-to-month</td>\n",
       "      <td>0</td>\n",
       "      <td>0</td>\n",
       "      <td>Electronic check</td>\n",
       "      <td>45.65</td>\n",
       "      <td>45.65</td>\n",
       "    </tr>\n",
       "    <tr>\n",
       "      <th>1</th>\n",
       "      <td>0</td>\n",
       "      <td>0</td>\n",
       "      <td>0</td>\n",
       "      <td>0</td>\n",
       "      <td>0</td>\n",
       "      <td>0</td>\n",
       "      <td>0</td>\n",
       "      <td>4</td>\n",
       "      <td>0</td>\n",
       "      <td>0</td>\n",
       "      <td>...</td>\n",
       "      <td>0</td>\n",
       "      <td>0</td>\n",
       "      <td>0</td>\n",
       "      <td>0</td>\n",
       "      <td>Month-to-month</td>\n",
       "      <td>0</td>\n",
       "      <td>0</td>\n",
       "      <td>Electronic check</td>\n",
       "      <td>101.15</td>\n",
       "      <td>385.90</td>\n",
       "    </tr>\n",
       "    <tr>\n",
       "      <th>2</th>\n",
       "      <td>0</td>\n",
       "      <td>0</td>\n",
       "      <td>1</td>\n",
       "      <td>0</td>\n",
       "      <td>0</td>\n",
       "      <td>0</td>\n",
       "      <td>0</td>\n",
       "      <td>17</td>\n",
       "      <td>0</td>\n",
       "      <td>0</td>\n",
       "      <td>...</td>\n",
       "      <td>0</td>\n",
       "      <td>0</td>\n",
       "      <td>0</td>\n",
       "      <td>0</td>\n",
       "      <td>One year</td>\n",
       "      <td>0</td>\n",
       "      <td>0</td>\n",
       "      <td>Mailed check</td>\n",
       "      <td>20.65</td>\n",
       "      <td>330.60</td>\n",
       "    </tr>\n",
       "    <tr>\n",
       "      <th>3</th>\n",
       "      <td>0</td>\n",
       "      <td>0</td>\n",
       "      <td>0</td>\n",
       "      <td>0</td>\n",
       "      <td>0</td>\n",
       "      <td>0</td>\n",
       "      <td>0</td>\n",
       "      <td>22</td>\n",
       "      <td>0</td>\n",
       "      <td>0</td>\n",
       "      <td>...</td>\n",
       "      <td>0</td>\n",
       "      <td>0</td>\n",
       "      <td>0</td>\n",
       "      <td>0</td>\n",
       "      <td>One year</td>\n",
       "      <td>0</td>\n",
       "      <td>0</td>\n",
       "      <td>Bank transfer (automatic)</td>\n",
       "      <td>43.75</td>\n",
       "      <td>903.60</td>\n",
       "    </tr>\n",
       "    <tr>\n",
       "      <th>4</th>\n",
       "      <td>0</td>\n",
       "      <td>0</td>\n",
       "      <td>0</td>\n",
       "      <td>0</td>\n",
       "      <td>0</td>\n",
       "      <td>0</td>\n",
       "      <td>0</td>\n",
       "      <td>70</td>\n",
       "      <td>0</td>\n",
       "      <td>0</td>\n",
       "      <td>...</td>\n",
       "      <td>0</td>\n",
       "      <td>0</td>\n",
       "      <td>0</td>\n",
       "      <td>0</td>\n",
       "      <td>One year</td>\n",
       "      <td>0</td>\n",
       "      <td>0</td>\n",
       "      <td>Credit card (automatic)</td>\n",
       "      <td>74.10</td>\n",
       "      <td>5222.30</td>\n",
       "    </tr>\n",
       "  </tbody>\n",
       "</table>\n",
       "<p>5 rows × 28 columns</p>\n",
       "</div>"
      ],
      "text/plain": [
       "   gender_1  gender_2  SeniorCitizen  Partner_1  Partner_2  Dependents_1  \\\n",
       "0         0         0              0          0          0             0   \n",
       "1         0         0              0          0          0             0   \n",
       "2         0         0              1          0          0             0   \n",
       "3         0         0              0          0          0             0   \n",
       "4         0         0              0          0          0             0   \n",
       "\n",
       "   Dependents_2  tenure  PhoneService_1  PhoneService_2  ... StreamingTV_3  \\\n",
       "0             0       1               0               0  ...             0   \n",
       "1             0       4               0               0  ...             0   \n",
       "2             0      17               0               0  ...             0   \n",
       "3             0      22               0               0  ...             0   \n",
       "4             0      70               0               0  ...             0   \n",
       "\n",
       "  StreamingMovies_1 StreamingMovies_2 StreamingMovies_3        Contract  \\\n",
       "0                 0                 0                 0  Month-to-month   \n",
       "1                 0                 0                 0  Month-to-month   \n",
       "2                 0                 0                 0        One year   \n",
       "3                 0                 0                 0        One year   \n",
       "4                 0                 0                 0        One year   \n",
       "\n",
       "  PaperlessBilling_1  PaperlessBilling_2              PaymentMethod  \\\n",
       "0                  0                   0           Electronic check   \n",
       "1                  0                   0           Electronic check   \n",
       "2                  0                   0               Mailed check   \n",
       "3                  0                   0  Bank transfer (automatic)   \n",
       "4                  0                   0    Credit card (automatic)   \n",
       "\n",
       "   MonthlyCharges  TotalCharges  \n",
       "0           45.65         45.65  \n",
       "1          101.15        385.90  \n",
       "2           20.65        330.60  \n",
       "3           43.75        903.60  \n",
       "4           74.10       5222.30  \n",
       "\n",
       "[5 rows x 28 columns]"
      ]
     },
     "execution_count": 34,
     "metadata": {},
     "output_type": "execute_result"
    }
   ],
   "source": [
    "# do all data massaging\n",
    "# Convert binary variable into numeric so plotting is easier. We need to later take mean\n",
    "data['Churn'] = data['Churn'].map({'Yes': 1, 'No': 0})\n",
    "\n",
    "data.replace(\" \", np.nan, inplace=True)\n",
    "\n",
    "data['TotalCharges'] = pd.to_numeric(data['TotalCharges'])\n",
    "\n",
    "mean = data['TotalCharges'].mean()\n",
    "data.fillna(mean, inplace=True)\n",
    "data_enc = data.drop(['Churn', 'customerID'], axis=1)\n",
    "data_enc.head(5)\n",
    "labels = data['Churn']\n",
    "\n",
    "\n",
    "categories_per_feature = ['MultipleLines', 'InternetService', 'Contract', 'PaymentMethod', 'OnlineSecurity', 'OnlineBackup',\n",
    "         'DeviceProtection', 'TechSupport']\n",
    "\n",
    "\n",
    "\n",
    "# import category_encoders as ce\n",
    "# import joblib\n",
    "\n",
    "# names = ['gender', 'Partner', 'Dependents', 'PhoneService', 'StreamingTV', 'StreamingMovies', 'PaperlessBilling']\n",
    "# # for column in names:\n",
    "# #     labelencoder(column)\n",
    "# data_enc = data\n",
    "# data_enc = data_enc.drop(['Churn', 'customerID'], axis=1)\n",
    "# enc = ce.ordinal.OrdinalEncoder(cols=names)\n",
    "# enc.fit(data_enc)\n",
    "# labelled_set = enc.transform(data_enc)\n",
    "\n",
    "# categories_per_feature = ['MultipleLines', 'InternetService', 'Contract', 'PaymentMethod', 'OnlineSecurity', 'OnlineBackup',\n",
    "#          'DeviceProtection', 'TechSupport']\n",
    "\n",
    "# ohe = ce.OneHotEncoder(cols=names)\n",
    "# data_ohe = data\n",
    "# data_ohe = data_ohe.drop(['Churn', 'customerID'], axis=1)\n",
    "# ohe.fit(data_ohe)\n",
    "# final_set = ohe.transform(labelled_set)\n",
    "\n",
    "data_enc.head(5)"
   ]
  },
  {
   "cell_type": "markdown",
   "metadata": {},
   "source": [
    "We can divide the features into the following groups:\n",
    "- Demographic features;\n",
    "- Services related features\n",
    "- Account information related features (categorical and numerical).\n",
    "\n"
   ]
  },
  {
   "cell_type": "code",
   "execution_count": 8,
   "metadata": {
    "collapsed": false,
    "jupyter": {
     "outputs_hidden": false
    },
    "pycharm": {
     "name": "#%%\n"
    }
   },
   "outputs": [],
   "source": [
    "demo_features = ['gender', 'SeniorCitizen', 'Partner', 'Dependents']\n",
    "\n",
    "serv_features = ['PhoneService', 'MultipleLines', 'InternetService', 'OnlineSecurity', 'OnlineBackup'\n",
    "                , 'DeviceProtection', 'TechSupport', 'StreamingTV', 'StreamingMovies']\n",
    "\n",
    "cat_accinfo_features = ['Contract', 'PaperlessBilling', 'PaymentMethod']\n",
    "\n",
    "num_accinfo_features = ['tenure', 'MonthlyCharges', 'TotalCharges']\n",
    "num_features = num_accinfo_features\n"
   ]
  },
  {
   "cell_type": "code",
   "execution_count": 9,
   "metadata": {
    "collapsed": false,
    "jupyter": {
     "outputs_hidden": false
    },
    "pycharm": {
     "name": "#%%\n"
    }
   },
   "outputs": [
    {
     "name": "stdout",
     "output_type": "stream",
     "text": [
      "Training Data Shape (4930, 19) (4930,)\n",
      "Testing Data Shape (2113, 19) (2113,)\n"
     ]
    }
   ],
   "source": [
    "\n",
    "from sklearn.model_selection import train_test_split\n",
    "labels = data['Churn']\n",
    "X_train, X_test, Y_train, Y_test = train_test_split(data_enc, labels, test_size=0.3)\n",
    "print ('Training Data Shape',X_train.shape, Y_train.shape)\n",
    "print ('Testing Data Shape',X_test.shape, Y_test.shape)\n",
    "\n",
    "Y = data['Churn']\n",
    "X = data_enc\n",
    "\n",
    "X_test_1, X_test_2, Y_test_1, Y_test_2 = train_test_split(X_test, Y_test, test_size=0.5)\n",
    "\n"
   ]
  },
  {
   "cell_type": "code",
   "execution_count": 10,
   "metadata": {},
   "outputs": [
    {
     "name": "stdout",
     "output_type": "stream",
     "text": [
      "(4930, 19)\n",
      "(1056, 19)\n",
      "(1057, 19)\n"
     ]
    }
   ],
   "source": [
    "print(X_train.shape)\n",
    "\n",
    "\n",
    "print(X_test_1.shape)\n",
    "print(X_test_2.shape)"
   ]
  },
  {
   "cell_type": "markdown",
   "metadata": {},
   "source": [
    "## <a id=\"45\">Catboost</a> \n",
    "We utilise the catboost to figure out which features are more important, we can utilise the other techniques to find the most important features such as random forest. On the other hand, we can take benefits of the dimention reduction models to transfer and find the most effective features."
   ]
  },
  {
   "cell_type": "code",
   "execution_count": 11,
   "metadata": {},
   "outputs": [
    {
     "name": "stdout",
     "output_type": "stream",
     "text": [
      "['gender', 'SeniorCitizen', 'Partner', 'Dependents', 'PhoneService', 'MultipleLines', 'InternetService', 'OnlineSecurity', 'OnlineBackup', 'DeviceProtection', 'TechSupport', 'StreamingTV', 'StreamingMovies', 'Contract', 'PaperlessBilling', 'PaymentMethod']\n"
     ]
    }
   ],
   "source": [
    "from catboost import Pool\n",
    "from catboost import CatBoostClassifier\n",
    "import seaborn as sns\n",
    "categorical_ft = [x for x in X.columns if x not in num_features]\n",
    "print(categorical_ft)\n",
    "\n"
   ]
  },
  {
   "cell_type": "code",
   "execution_count": 12,
   "metadata": {},
   "outputs": [
    {
     "data": {
      "text/plain": [
       "<catboost.core.CatBoostClassifier at 0x7fdc1441fe20>"
      ]
     },
     "execution_count": 12,
     "metadata": {},
     "output_type": "execute_result"
    }
   ],
   "source": [
    "cat_model = CatBoostClassifier (random_state = 42, eval_metric = 'AUC', cat_features = categorical_ft, verbose = 0)\n",
    "#cat_model.get_params()\n",
    "\n",
    "cat_param = {'n_estimators':100}\n",
    "cat_model.set_params(**cat_param) "
   ]
  },
  {
   "cell_type": "code",
   "execution_count": 13,
   "metadata": {},
   "outputs": [
    {
     "name": "stdout",
     "output_type": "stream",
     "text": [
      "Test Accuracy:  0.8007572172266919\n"
     ]
    }
   ],
   "source": [
    "cat_model.fit(X_train, Y_train, eval_set = [(X_test,Y_test)], cat_features = categorical_ft)\n",
    "\n",
    "#xgb_model.fit(X_train, Y_train, early_stopping_rounds = 100, eval_set = [(X_test,Y_test)])\n",
    "#cat_model.fit(X_train, Y_train)\n",
    "\n",
    "pred_cat = cat_model.predict(X_test)\n",
    "\n",
    "print(\"Test Accuracy: \",metrics.accuracy_score(Y_test, pred_cat))"
   ]
  },
  {
   "cell_type": "code",
   "execution_count": 14,
   "metadata": {},
   "outputs": [
    {
     "data": {
      "image/png": "[encoded data removed]",
      "text/plain": [
       "<Figure size 432x288 with 2 Axes>"
      ]
     },
     "metadata": {
      "needs_background": "light"
     },
     "output_type": "display_data"
    }
   ],
   "source": [
    "cat_confusion_matrix = metrics.confusion_matrix(Y_test, pred_cat)\n",
    "sns.heatmap(cat_confusion_matrix, annot=True, fmt=\"d\")\n",
    "\n",
    "plt.xlabel(\"Predicted Label\", fontsize= 12)\n",
    "plt.ylabel(\"True Label\", fontsize= 12)\n",
    "\n",
    "plt.show()"
   ]
  },
  {
   "cell_type": "code",
   "execution_count": 15,
   "metadata": {},
   "outputs": [
    {
     "name": "stdout",
     "output_type": "stream",
     "text": [
      "              precision    recall  f1-score   support\n",
      "\n",
      "           0       0.83      0.91      0.87      1547\n",
      "           1       0.67      0.49      0.57       566\n",
      "\n",
      "    accuracy                           0.80      2113\n",
      "   macro avg       0.75      0.70      0.72      2113\n",
      "weighted avg       0.79      0.80      0.79      2113\n",
      "\n"
     ]
    }
   ],
   "source": [
    "print(metrics.classification_report(Y_test, pred_cat, labels = [0, 1]))"
   ]
  },
  {
   "cell_type": "code",
   "execution_count": 16,
   "metadata": {},
   "outputs": [
    {
     "name": "stdout",
     "output_type": "stream",
     "text": [
      "ROC_AUC:  0.8439159572499835\n"
     ]
    },
    {
     "data": {
      "image/png": "[encoded data removed]",
      "text/plain": [
       "<Figure size 432x288 with 1 Axes>"
      ]
     },
     "metadata": {
      "needs_background": "light"
     },
     "output_type": "display_data"
    }
   ],
   "source": [
    "cat_pred_proba = cat_model.predict_proba(X_test)[:,1]\n",
    "\n",
    "cat_roc_auc = metrics.roc_auc_score(Y_test, cat_pred_proba)\n",
    "print('ROC_AUC: ', cat_roc_auc)\n",
    "\n",
    "cat_fpr, cat_tpr, thresholds = metrics.roc_curve(Y_test, cat_pred_proba)\n",
    "\n",
    "plt.plot(cat_fpr,cat_tpr, label = 'ROC_AUC = %0.3f' % cat_roc_auc)\n",
    "\n",
    "plt.xlabel(\"False Positive Rate\", fontsize= 12)\n",
    "plt.ylabel(\"True Positive Rate\", fontsize= 12)\n",
    "plt.legend(loc=\"lower right\")\n",
    "\n",
    "plt.show()"
   ]
  },
  {
   "cell_type": "markdown",
   "metadata": {},
   "source": [
    "## <a id=\"46\">Feature Importance and SHAP Plot</a>"
   ]
  },
  {
   "cell_type": "markdown",
   "metadata": {},
   "source": [
    "Let’s see what features have more importance for the Catboost’s predictions."
   ]
  },
  {
   "cell_type": "code",
   "execution_count": 17,
   "metadata": {},
   "outputs": [
    {
     "data": {
      "text/html": [
       "<div>\n",
       "<style scoped>\n",
       "    .dataframe tbody tr th:only-of-type {\n",
       "        vertical-align: middle;\n",
       "    }\n",
       "\n",
       "    .dataframe tbody tr th {\n",
       "        vertical-align: top;\n",
       "    }\n",
       "\n",
       "    .dataframe thead th {\n",
       "        text-align: right;\n",
       "    }\n",
       "</style>\n",
       "<table border=\"1\" class=\"dataframe\">\n",
       "  <thead>\n",
       "    <tr style=\"text-align: right;\">\n",
       "      <th></th>\n",
       "      <th>feature_importance</th>\n",
       "      <th>feature_names</th>\n",
       "    </tr>\n",
       "  </thead>\n",
       "  <tbody>\n",
       "    <tr>\n",
       "      <th>4</th>\n",
       "      <td>24.507032</td>\n",
       "      <td>tenure</td>\n",
       "    </tr>\n",
       "    <tr>\n",
       "      <th>17</th>\n",
       "      <td>18.390073</td>\n",
       "      <td>MonthlyCharges</td>\n",
       "    </tr>\n",
       "    <tr>\n",
       "      <th>14</th>\n",
       "      <td>16.429965</td>\n",
       "      <td>Contract</td>\n",
       "    </tr>\n",
       "    <tr>\n",
       "      <th>18</th>\n",
       "      <td>6.125202</td>\n",
       "      <td>TotalCharges</td>\n",
       "    </tr>\n",
       "    <tr>\n",
       "      <th>11</th>\n",
       "      <td>5.949266</td>\n",
       "      <td>TechSupport</td>\n",
       "    </tr>\n",
       "    <tr>\n",
       "      <th>15</th>\n",
       "      <td>5.046415</td>\n",
       "      <td>PaperlessBilling</td>\n",
       "    </tr>\n",
       "    <tr>\n",
       "      <th>8</th>\n",
       "      <td>4.577087</td>\n",
       "      <td>OnlineSecurity</td>\n",
       "    </tr>\n",
       "    <tr>\n",
       "      <th>16</th>\n",
       "      <td>3.663959</td>\n",
       "      <td>PaymentMethod</td>\n",
       "    </tr>\n",
       "    <tr>\n",
       "      <th>1</th>\n",
       "      <td>3.202436</td>\n",
       "      <td>SeniorCitizen</td>\n",
       "    </tr>\n",
       "    <tr>\n",
       "      <th>7</th>\n",
       "      <td>3.110529</td>\n",
       "      <td>InternetService</td>\n",
       "    </tr>\n",
       "    <tr>\n",
       "      <th>6</th>\n",
       "      <td>2.597212</td>\n",
       "      <td>MultipleLines</td>\n",
       "    </tr>\n",
       "    <tr>\n",
       "      <th>9</th>\n",
       "      <td>1.412398</td>\n",
       "      <td>OnlineBackup</td>\n",
       "    </tr>\n",
       "    <tr>\n",
       "      <th>0</th>\n",
       "      <td>1.338586</td>\n",
       "      <td>gender</td>\n",
       "    </tr>\n",
       "    <tr>\n",
       "      <th>2</th>\n",
       "      <td>0.802167</td>\n",
       "      <td>Partner</td>\n",
       "    </tr>\n",
       "    <tr>\n",
       "      <th>5</th>\n",
       "      <td>0.762993</td>\n",
       "      <td>PhoneService</td>\n",
       "    </tr>\n",
       "    <tr>\n",
       "      <th>10</th>\n",
       "      <td>0.735999</td>\n",
       "      <td>DeviceProtection</td>\n",
       "    </tr>\n",
       "    <tr>\n",
       "      <th>12</th>\n",
       "      <td>0.657794</td>\n",
       "      <td>StreamingTV</td>\n",
       "    </tr>\n",
       "    <tr>\n",
       "      <th>13</th>\n",
       "      <td>0.382958</td>\n",
       "      <td>StreamingMovies</td>\n",
       "    </tr>\n",
       "    <tr>\n",
       "      <th>3</th>\n",
       "      <td>0.307930</td>\n",
       "      <td>Dependents</td>\n",
       "    </tr>\n",
       "  </tbody>\n",
       "</table>\n",
       "</div>"
      ],
      "text/plain": [
       "    feature_importance     feature_names\n",
       "4            24.507032            tenure\n",
       "17           18.390073    MonthlyCharges\n",
       "14           16.429965          Contract\n",
       "18            6.125202      TotalCharges\n",
       "11            5.949266       TechSupport\n",
       "15            5.046415  PaperlessBilling\n",
       "8             4.577087    OnlineSecurity\n",
       "16            3.663959     PaymentMethod\n",
       "1             3.202436     SeniorCitizen\n",
       "7             3.110529   InternetService\n",
       "6             2.597212     MultipleLines\n",
       "9             1.412398      OnlineBackup\n",
       "0             1.338586            gender\n",
       "2             0.802167           Partner\n",
       "5             0.762993      PhoneService\n",
       "10            0.735999  DeviceProtection\n",
       "12            0.657794       StreamingTV\n",
       "13            0.382958   StreamingMovies\n",
       "3             0.307930        Dependents"
      ]
     },
     "execution_count": 17,
     "metadata": {},
     "output_type": "execute_result"
    }
   ],
   "source": [
    "pool = Pool(X_train, Y_train, cat_features=categorical_ft)\n",
    "\n",
    "Feature_importance = pd.DataFrame({'feature_importance': cat_model.get_feature_importance(pool), \n",
    "                      'feature_names': X_train.columns}).sort_values(by=['feature_importance'], \n",
    "                                                           ascending=False)\n",
    "\n",
    "Feature_importance"
   ]
  },
  {
   "cell_type": "code",
   "execution_count": 18,
   "metadata": {},
   "outputs": [
    {
     "data": {
      "image/png": "[encoded data removed]",
      "text/plain": [
       "<Figure size 720x720 with 1 Axes>"
      ]
     },
     "metadata": {
      "needs_background": "light"
     },
     "output_type": "display_data"
    }
   ],
   "source": [
    "plt.figure(figsize=(10,10))\n",
    "\n",
    "sns.barplot(x=Feature_importance['feature_importance'], y=Feature_importance['feature_names'], palette = 'rocket')\n",
    "\n",
    "plt.show()"
   ]
  },
  {
   "cell_type": "markdown",
   "metadata": {},
   "source": [
    "Select the most importat features to generate all possible combination of the features. \n",
    "Due to large range of numeric features we need to quantise the features values. "
   ]
  },
  {
   "cell_type": "code",
   "execution_count": 19,
   "metadata": {},
   "outputs": [
    {
     "name": "stdout",
     "output_type": "stream",
     "text": [
      "[array([0, 1]), array([ 0.,  8., 16., 24., 32., 40., 48., 56., 64., 72.]), array(['No', 'Yes', 'No phone service'], dtype=object), array(['No', 'No internet service', 'Yes'], dtype=object), array(['No', 'No internet service', 'Yes'], dtype=object), array(['Month-to-month', 'One year', 'Two year'], dtype=object), array(['Yes', 'No'], dtype=object), array(['Electronic check', 'Mailed check', 'Bank transfer (automatic)',\n",
      "       'Credit card (automatic)'], dtype=object), array([ 18.25      ,  29.41666667,  40.58333333,  51.75      ,\n",
      "        62.91666667,  74.08333333,  85.25      ,  96.41666667,\n",
      "       107.58333333, 118.75      ]), array([  18.8       ,  981.68888889, 1944.57777778, 2907.46666667,\n",
      "       3870.35555556, 4833.24444444, 5796.13333333, 6759.02222222,\n",
      "       7721.91111111, 8684.8       ])]\n"
     ]
    }
   ],
   "source": [
    "data_enc.columns\n",
    "data_enc.nunique()\n",
    "features = []\n",
    "features_name = []\n",
    "for col in data_enc:\n",
    "#   print(df[col].unique())\n",
    "    if len (data_enc[col].unique())>10:\n",
    "        min_f = min(data_enc[col].unique())\n",
    "        max_f = max(data_enc[col].unique())\n",
    "        new_range = np.linspace(min_f, max_f, 10)\n",
    "        features.append(new_range)\n",
    "        features_name.append(col)\n",
    "    elif col =='PaymentMethod'  or col =='Contract' or col== 'MultipleLines' or col== 'SeniorCitizen' or col == 'OnlineSecurity' or col =='TechSupport' or col=='PaperlessBilling':\n",
    "        \n",
    "        features.append(data_enc[col].unique())\n",
    "        features_name.append(col)\n",
    "        \n",
    "print (features)\n"
   ]
  },
  {
   "cell_type": "markdown",
   "metadata": {},
   "source": [
    "generate all possible combination"
   ]
  },
  {
   "cell_type": "code",
   "execution_count": 20,
   "metadata": {},
   "outputs": [],
   "source": [
    "import itertools\n",
    "combination = list(itertools.product(*features))"
   ]
  },
  {
   "cell_type": "markdown",
   "metadata": {},
   "source": [
    "Filter the dataset based on the most important features"
   ]
  },
  {
   "cell_type": "code",
   "execution_count": 21,
   "metadata": {},
   "outputs": [],
   "source": [
    "data_enc1 = data_enc[features_name]\n",
    "\n"
   ]
  },
  {
   "cell_type": "markdown",
   "metadata": {},
   "source": [
    "Convert the nominal value to the numeric one"
   ]
  },
  {
   "cell_type": "code",
   "execution_count": 22,
   "metadata": {},
   "outputs": [
    {
     "name": "stderr",
     "output_type": "stream",
     "text": [
      "\n",
      "A value is trying to be set on a copy of a slice from a DataFrame.\n",
      "Try using .loc[row_indexer,col_indexer] = value instead\n",
      "\n",
      "See the caveats in the documentation: https://pandas.pydata.org/pandas-docs/stable/user_guide/indexing.html#returning-a-view-versus-a-copy\n",
      "\n",
      "A value is trying to be set on a copy of a slice from a DataFrame.\n",
      "Try using .loc[row_indexer,col_indexer] = value instead\n",
      "\n",
      "See the caveats in the documentation: https://pandas.pydata.org/pandas-docs/stable/user_guide/indexing.html#returning-a-view-versus-a-copy\n",
      "\n",
      "A value is trying to be set on a copy of a slice from a DataFrame.\n",
      "Try using .loc[row_indexer,col_indexer] = value instead\n",
      "\n",
      "See the caveats in the documentation: https://pandas.pydata.org/pandas-docs/stable/user_guide/indexing.html#returning-a-view-versus-a-copy\n",
      "\n",
      "A value is trying to be set on a copy of a slice from a DataFrame.\n",
      "Try using .loc[row_indexer,col_indexer] = value instead\n",
      "\n",
      "See the caveats in the documentation: https://pandas.pydata.org/pandas-docs/stable/user_guide/indexing.html#returning-a-view-versus-a-copy\n",
      "\n",
      "A value is trying to be set on a copy of a slice from a DataFrame.\n",
      "Try using .loc[row_indexer,col_indexer] = value instead\n",
      "\n",
      "See the caveats in the documentation: https://pandas.pydata.org/pandas-docs/stable/user_guide/indexing.html#returning-a-view-versus-a-copy\n",
      "\n",
      "A value is trying to be set on a copy of a slice from a DataFrame.\n",
      "Try using .loc[row_indexer,col_indexer] = value instead\n",
      "\n",
      "See the caveats in the documentation: https://pandas.pydata.org/pandas-docs/stable/user_guide/indexing.html#returning-a-view-versus-a-copy\n"
     ]
    }
   ],
   "source": [
    "yes_or_no_map = {'No': 0, 'Yes': 1} #seniorcitizen, partner, dependents, phoneservice, paperlessbilling\n",
    "multiplelines_map = {'No phone service': -1, 'No': 0, 'Yes': 1}\n",
    "add_netservices_map = {'No internet service': -1, 'No': 0, 'Yes': 1} #onlinesecurity, onlinebackup, deviceprotection,techsupport,streaming services\n",
    "contract_map = {'Month-to-month': 0, 'One year': 1, 'Two year': 2}\n",
    "paymentmethod_map = {'Electronic check': 0, 'Mailed check': 1, 'Bank transfer (automatic)': 2, 'Credit card (automatic)': 3}\n",
    "\n",
    "\n",
    "\n",
    "\n",
    "# data_enc1['SeniorCitizen'] = data_enc1['SeniorCitizen'].map(yes_or_no_map).stype('int')\n",
    "data_enc1['MultipleLines'] = data_enc1['MultipleLines'].map(multiplelines_map).astype('int')\n",
    "data_enc1['OnlineSecurity'] = data_enc1['OnlineSecurity'].map(add_netservices_map).astype('int')\n",
    "data_enc1['TechSupport'] = data_enc1['TechSupport'].map(add_netservices_map).astype('int')\n",
    "data_enc1['Contract'] = data_enc1['Contract'].map(contract_map).astype('int')\n",
    "data_enc1['PaperlessBilling'] = data_enc1['PaperlessBilling'].map(yes_or_no_map).astype('int')\n",
    "data_enc1['PaymentMethod'] = data_enc1['PaymentMethod'].map(paymentmethod_map).astype('int')"
   ]
  },
  {
   "cell_type": "markdown",
   "metadata": {},
   "source": [
    "Scale the float features with the large range to 20 different scale via closest value."
   ]
  },
  {
   "cell_type": "code",
   "execution_count": 23,
   "metadata": {},
   "outputs": [],
   "source": [
    "\n",
    "data_enc2 = data_enc1.copy()\n",
    "for index, row in data_enc1.iterrows():\n",
    "\n",
    "    absolute_difference_function_tc = lambda list_value : abs(list_value - data_enc1.loc[index,'TotalCharges'])\n",
    "    closest_value_tc = min(features[9], key=absolute_difference_function_tc)\n",
    "    data_enc2.loc[index, 'TotalCharges']= closest_value_tc\n",
    "\n",
    "    absolute_difference_function_mc = lambda list_value : abs(list_value - data_enc1.loc[index,'MonthlyCharges'])\n",
    "    closest_value_mc = min(features[8], key=absolute_difference_function_mc)\n",
    "    data_enc2.loc[index, 'MonthlyCharges']= closest_value_mc\n",
    "\n",
    "    absolute_difference_function_t = lambda list_value : abs(list_value - data_enc1.loc[index,'tenure'])\n",
    "    closest_value_t = min(features[1], key=absolute_difference_function_t)\n",
    "    data_enc2.loc[index, 'tenure']= closest_value_t\n",
    "\n",
    "    "
   ]
  },
  {
   "cell_type": "markdown",
   "metadata": {},
   "source": [
    "Apply K-means on original data to cluster them to several groups.\n",
    "We need to do this to reduce the amount of Comparison by the all possible combinations.\n"
   ]
  },
  {
   "cell_type": "code",
   "execution_count": 24,
   "metadata": {},
   "outputs": [],
   "source": [
    "from sklearn.cluster import KMeans\n",
    "import numpy as np\n",
    "\n",
    "kmeans = KMeans(n_clusters=150, random_state=0).fit(data_enc2)\n",
    "kcenter = kmeans.cluster_centers_\n",
    "\n",
    "\n"
   ]
  },
  {
   "cell_type": "markdown",
   "metadata": {},
   "source": [
    "Train the KNN by feeding all center samples to it :)."
   ]
  },
  {
   "cell_type": "code",
   "execution_count": 25,
   "metadata": {},
   "outputs": [
    {
     "data": {
      "text/plain": [
       "NearestNeighbors(n_neighbors=1)"
      ]
     },
     "execution_count": 25,
     "metadata": {},
     "output_type": "execute_result"
    }
   ],
   "source": [
    "\n",
    "from sklearn.neighbors import NearestNeighbors\n",
    "neigh = NearestNeighbors(n_neighbors=1)\n",
    "neigh.fit(kcenter)"
   ]
  },
  {
   "cell_type": "markdown",
   "metadata": {},
   "source": [
    "Then the next step could be one of these two different pathes:\n",
    "    \n",
    "    - feed all sample one by one and extract their  Corresponding ks test or p-value;\n",
    "    \n",
    "    - apply the Kmeans and then get the centers and finnaly get the corresponding P-value.\n",
    "    \n",
    "    "
   ]
  },
  {
   "cell_type": "code",
   "execution_count": 26,
   "metadata": {},
   "outputs": [],
   "source": [
    "\n",
    "df_combination = pd.DataFrame (combination,columns=features_name)\n",
    "df_combination['MultipleLines'] = df_combination['MultipleLines'].map(multiplelines_map).astype('int')\n",
    "df_combination['OnlineSecurity'] = df_combination['OnlineSecurity'].map(add_netservices_map).astype('int')\n",
    "df_combination['TechSupport'] = df_combination['TechSupport'].map(add_netservices_map).astype('int')\n",
    "df_combination['Contract'] = df_combination['Contract'].map(contract_map).astype('int')\n",
    "df_combination['PaperlessBilling'] = df_combination['PaperlessBilling'].map(yes_or_no_map).astype('int')\n",
    "df_combination['PaymentMethod'] = df_combination['PaymentMethod'].map(paymentmethod_map).astype('int')\n",
    "df_combination.sort_index(inplace =True)\n"
   ]
  },
  {
   "cell_type": "code",
   "execution_count": 27,
   "metadata": {},
   "outputs": [],
   "source": [
    "# df_combination.shape\n",
    "list_dist = []\n",
    "for index, row in df_combination.iterrows(): \n",
    "    list_dist.append(neigh.kneighbors([df_combination.iloc[index].values]))"
   ]
  },
  {
   "cell_type": "code",
   "execution_count": 28,
   "metadata": {},
   "outputs": [],
   "source": [
    "kmeans_comb = KMeans(n_clusters=100, random_state=0).fit(df_combination)\n",
    "kmeans_comb_center = kmeans_comb.cluster_centers_\n"
   ]
  },
  {
   "cell_type": "code",
   "execution_count": 31,
   "metadata": {},
   "outputs": [
    {
     "data": {
      "text/plain": [
       "array([[5.00000000e-01, 5.71428571e+01, 0.00000000e+00, 0.00000000e+00,\n",
       "        0.00000000e+00, 1.00000000e+00, 5.00000000e-01, 1.50000000e+00,\n",
       "        1.08380952e+02, 5.79613333e+03],\n",
       "       [5.00000000e-01, 4.14545455e+01, 0.00000000e+00, 0.00000000e+00,\n",
       "        0.00000000e+00, 1.00000000e+00, 5.00000000e-01, 1.50000000e+00,\n",
       "        3.55075758e+01, 1.94457778e+03],\n",
       "       [5.00000000e-01, 4.26666667e+01, 0.00000000e+00, 0.00000000e+00,\n",
       "        0.00000000e+00, 1.00000000e+00, 5.00000000e-01, 1.50000000e+00,\n",
       "        4.18240741e+01, 8.68480000e+03],\n",
       "       [5.00000000e-01, 2.61818182e+01, 0.00000000e+00, 0.00000000e+00,\n",
       "        0.00000000e+00, 1.00000000e+00, 5.00000000e-01, 1.50000000e+00,\n",
       "        5.37803030e+01, 3.87035556e+03],\n",
       "       [5.00000000e-01, 3.60000000e+01, 0.00000000e+00, 0.00000000e+00,\n",
       "        0.00000000e+00, 1.00000000e+00, 5.00000000e-01, 1.50000000e+00,\n",
       "        8.30166667e+01, 1.88000000e+01],\n",
       "       [5.00000000e-01, 6.40000000e+01, 0.00000000e+00, 0.00000000e+00,\n",
       "        0.00000000e+00, 1.00000000e+00, 5.00000000e-01, 1.50000000e+00,\n",
       "        6.85000000e+01, 6.75902222e+03],\n",
       "       [5.00000000e-01, 1.26666667e+01, 0.00000000e+00, 0.00000000e+00,\n",
       "        0.00000000e+00, 1.00000000e+00, 5.00000000e-01, 1.50000000e+00,\n",
       "        5.36111111e+01, 4.83324444e+03],\n",
       "       [5.00000000e-01, 3.73333333e+01, 0.00000000e+00, 0.00000000e+00,\n",
       "        0.00000000e+00, 1.00000000e+00, 5.00000000e-01, 1.50000000e+00,\n",
       "        6.53981481e+01, 7.72191111e+03],\n",
       "       [5.00000000e-01, 6.10909091e+01, 0.00000000e+00, 0.00000000e+00,\n",
       "        0.00000000e+00, 1.00000000e+00, 5.00000000e-01, 1.50000000e+00,\n",
       "        5.27651515e+01, 2.90746667e+03],\n",
       "       [5.00000000e-01, 1.20000000e+01, 0.00000000e+00, 0.00000000e+00,\n",
       "        0.00000000e+00, 1.00000000e+00, 5.00000000e-01, 1.50000000e+00,\n",
       "        7.96666667e+01, 9.81688889e+02],\n",
       "       [5.00000000e-01, 5.95000000e+01, 0.00000000e+00, 0.00000000e+00,\n",
       "        0.00000000e+00, 1.00000000e+00, 5.00000000e-01, 1.50000000e+00,\n",
       "        6.98958333e+01, 5.79613333e+03],\n",
       "       [5.00000000e-01, 1.52727273e+01, 0.00000000e+00, 0.00000000e+00,\n",
       "        0.00000000e+00, 1.00000000e+00, 5.00000000e-01, 1.50000000e+00,\n",
       "        5.37803030e+01, 6.75902222e+03],\n",
       "       [5.00000000e-01, 1.48571429e+01, 0.00000000e+00, 0.00000000e+00,\n",
       "        0.00000000e+00, 1.00000000e+00, 5.00000000e-01, 1.50000000e+00,\n",
       "        1.08380952e+02, 3.87035556e+03],\n",
       "       [5.00000000e-01, 8.00000000e+00, 0.00000000e+00, 0.00000000e+00,\n",
       "        0.00000000e+00, 1.00000000e+00, 5.00000000e-01, 1.50000000e+00,\n",
       "        1.07583333e+02, 8.68480000e+03],\n",
       "       [5.00000000e-01, 3.60000000e+01, 0.00000000e+00, 0.00000000e+00,\n",
       "        0.00000000e+00, 1.00000000e+00, 5.00000000e-01, 1.50000000e+00,\n",
       "        1.13166667e+02, 1.94457778e+03],\n",
       "       [5.00000000e-01, 6.40000000e+01, 0.00000000e+00, 0.00000000e+00,\n",
       "        0.00000000e+00, 1.00000000e+00, 5.00000000e-01, 1.50000000e+00,\n",
       "        8.52500000e+01, 4.83324444e+03],\n",
       "       [5.00000000e-01, 1.26666667e+01, 0.00000000e+00, 0.00000000e+00,\n",
       "        0.00000000e+00, 1.00000000e+00, 5.00000000e-01, 1.50000000e+00,\n",
       "        2.75555556e+01, 2.90746667e+03],\n",
       "       [5.00000000e-01, 1.52727273e+01, 0.00000000e+00, 0.00000000e+00,\n",
       "        0.00000000e+00, 1.00000000e+00, 5.00000000e-01, 1.50000000e+00,\n",
       "        8.32196970e+01, 6.75902222e+03],\n",
       "       [5.00000000e-01, 5.20000000e+01, 0.00000000e+00, 0.00000000e+00,\n",
       "        0.00000000e+00, 1.00000000e+00, 5.00000000e-01, 1.50000000e+00,\n",
       "        2.38333333e+01, 9.81688889e+02],\n",
       "       [5.00000000e-01, 1.41538462e+01, 0.00000000e+00, 0.00000000e+00,\n",
       "        0.00000000e+00, 1.00000000e+00, 5.00000000e-01, 1.50000000e+00,\n",
       "        2.76987179e+01, 5.79613333e+03],\n",
       "       [5.00000000e-01, 3.10000000e+01, 0.00000000e+00, 0.00000000e+00,\n",
       "        0.00000000e+00, 1.00000000e+00, 5.00000000e-01, 1.50000000e+00,\n",
       "        1.08979167e+02, 4.83324444e+03],\n",
       "       [5.00000000e-01, 6.00000000e+01, 0.00000000e+00, 0.00000000e+00,\n",
       "        0.00000000e+00, 1.00000000e+00, 5.00000000e-01, 1.50000000e+00,\n",
       "        9.08333333e+01, 8.68480000e+03],\n",
       "       [5.00000000e-01, 3.60000000e+01, 0.00000000e+00, 0.00000000e+00,\n",
       "        0.00000000e+00, 1.00000000e+00, 5.00000000e-01, 1.50000000e+00,\n",
       "        2.71833333e+01, 1.88000000e+01],\n",
       "       [5.00000000e-01, 7.00000000e+00, 0.00000000e+00, 0.00000000e+00,\n",
       "        0.00000000e+00, 1.00000000e+00, 5.00000000e-01, 1.50000000e+00,\n",
       "        6.15208333e+01, 2.90746667e+03],\n",
       "       [5.00000000e-01, 1.20000000e+01, 0.00000000e+00, 0.00000000e+00,\n",
       "        0.00000000e+00, 1.00000000e+00, 5.00000000e-01, 1.50000000e+00,\n",
       "        4.61666667e+01, 8.68480000e+03],\n",
       "       [5.00000000e-01, 3.60000000e+01, 0.00000000e+00, 0.00000000e+00,\n",
       "        0.00000000e+00, 1.00000000e+00, 5.00000000e-01, 1.50000000e+00,\n",
       "        1.09816667e+02, 2.90746667e+03],\n",
       "       [5.00000000e-01, 6.00000000e+01, 0.00000000e+00, 0.00000000e+00,\n",
       "        0.00000000e+00, 1.00000000e+00, 5.00000000e-01, 1.50000000e+00,\n",
       "        5.17500000e+01, 3.87035556e+03],\n",
       "       [5.00000000e-01, 1.09090909e+01, 0.00000000e+00, 0.00000000e+00,\n",
       "        0.00000000e+00, 1.00000000e+00, 5.00000000e-01, 1.50000000e+00,\n",
       "        6.19015152e+01, 7.72191111e+03],\n",
       "       [5.00000000e-01, 4.00000000e+01, 0.00000000e+00, 0.00000000e+00,\n",
       "        0.00000000e+00, 1.00000000e+00, 5.00000000e-01, 1.50000000e+00,\n",
       "        2.94166667e+01, 7.72191111e+03],\n",
       "       [5.00000000e-01, 1.23636364e+01, 0.00000000e+00, 0.00000000e+00,\n",
       "        0.00000000e+00, 1.00000000e+00, 5.00000000e-01, 1.50000000e+00,\n",
       "        1.10628788e+02, 5.79613333e+03],\n",
       "       [5.00000000e-01, 6.31111111e+01, 0.00000000e+00, 0.00000000e+00,\n",
       "        0.00000000e+00, 1.00000000e+00, 5.00000000e-01, 1.50000000e+00,\n",
       "        7.53240741e+01, 9.81688889e+02],\n",
       "       [5.00000000e-01, 6.00000000e+01, 0.00000000e+00, 0.00000000e+00,\n",
       "        0.00000000e+00, 1.00000000e+00, 5.00000000e-01, 1.50000000e+00,\n",
       "        9.08333333e+01, 1.94457778e+03],\n",
       "       [5.00000000e-01, 3.05454545e+01, 0.00000000e+00, 0.00000000e+00,\n",
       "        0.00000000e+00, 1.00000000e+00, 5.00000000e-01, 1.50000000e+00,\n",
       "        8.32196970e+01, 1.94457778e+03],\n",
       "       [5.00000000e-01, 5.71428571e+01, 0.00000000e+00, 0.00000000e+00,\n",
       "        0.00000000e+00, 1.00000000e+00, 5.00000000e-01, 1.50000000e+00,\n",
       "        1.08380952e+02, 1.88000000e+01],\n",
       "       [5.00000000e-01, 1.04000000e+01, 0.00000000e+00, 0.00000000e+00,\n",
       "        0.00000000e+00, 1.00000000e+00, 5.00000000e-01, 1.50000000e+00,\n",
       "        2.71833333e+01, 9.81688889e+02],\n",
       "       [5.00000000e-01, 2.13333333e+01, 0.00000000e+00, 0.00000000e+00,\n",
       "        0.00000000e+00, 1.00000000e+00, 5.00000000e-01, 1.50000000e+00,\n",
       "        1.15027778e+02, 7.72191111e+03],\n",
       "       [5.00000000e-01, 1.42222222e+01, 0.00000000e+00, 0.00000000e+00,\n",
       "        0.00000000e+00, 1.00000000e+00, 5.00000000e-01, 1.50000000e+00,\n",
       "        2.32129630e+01, 4.83324444e+03],\n",
       "       [5.00000000e-01, 5.60000000e+01, 0.00000000e+00, 0.00000000e+00,\n",
       "        0.00000000e+00, 1.00000000e+00, 5.00000000e-01, 1.50000000e+00,\n",
       "        1.13166667e+02, 3.87035556e+03],\n",
       "       [5.00000000e-01, 6.50000000e+01, 0.00000000e+00, 0.00000000e+00,\n",
       "        0.00000000e+00, 1.00000000e+00, 5.00000000e-01, 1.50000000e+00,\n",
       "        8.38541667e+01, 7.72191111e+03],\n",
       "       [5.00000000e-01, 6.30000000e+01, 0.00000000e+00, 0.00000000e+00,\n",
       "        0.00000000e+00, 1.00000000e+00, 5.00000000e-01, 1.50000000e+00,\n",
       "        2.52291667e+01, 4.83324444e+03],\n",
       "       [5.00000000e-01, 1.81818182e+01, 0.00000000e+00, 0.00000000e+00,\n",
       "        0.00000000e+00, 1.00000000e+00, 5.00000000e-01, 1.50000000e+00,\n",
       "        2.33257576e+01, 8.68480000e+03],\n",
       "       [5.00000000e-01, 1.48571429e+01, 0.00000000e+00, 0.00000000e+00,\n",
       "        0.00000000e+00, 1.00000000e+00, 5.00000000e-01, 1.50000000e+00,\n",
       "        1.08380952e+02, 1.88000000e+01],\n",
       "       [5.00000000e-01, 5.77777778e+01, 0.00000000e+00, 0.00000000e+00,\n",
       "        0.00000000e+00, 1.00000000e+00, 5.00000000e-01, 1.50000000e+00,\n",
       "        2.32129630e+01, 2.90746667e+03],\n",
       "       [5.00000000e-01, 9.60000000e+00, 0.00000000e+00, 0.00000000e+00,\n",
       "        0.00000000e+00, 1.00000000e+00, 5.00000000e-01, 1.50000000e+00,\n",
       "        3.05333333e+01, 1.88000000e+01],\n",
       "       [5.00000000e-01, 3.60000000e+01, 0.00000000e+00, 0.00000000e+00,\n",
       "        0.00000000e+00, 1.00000000e+00, 5.00000000e-01, 1.50000000e+00,\n",
       "        1.09816667e+02, 6.75902222e+03],\n",
       "       [5.00000000e-01, 3.10000000e+01, 0.00000000e+00, 0.00000000e+00,\n",
       "        0.00000000e+00, 1.00000000e+00, 5.00000000e-01, 1.50000000e+00,\n",
       "        2.52291667e+01, 3.87035556e+03],\n",
       "       [5.00000000e-01, 3.60000000e+01, 0.00000000e+00, 0.00000000e+00,\n",
       "        0.00000000e+00, 1.00000000e+00, 5.00000000e-01, 1.50000000e+00,\n",
       "        1.13166667e+02, 9.81688889e+02],\n",
       "       [5.00000000e-01, 2.88000000e+01, 0.00000000e+00, 0.00000000e+00,\n",
       "        0.00000000e+00, 1.00000000e+00, 5.00000000e-01, 1.50000000e+00,\n",
       "        9.08333333e+01, 5.79613333e+03],\n",
       "       [5.00000000e-01, 3.60000000e+01, 0.00000000e+00, 0.00000000e+00,\n",
       "        0.00000000e+00, 1.00000000e+00, 5.00000000e-01, 1.50000000e+00,\n",
       "        2.71833333e+01, 6.75902222e+03],\n",
       "       [5.00000000e-01, 3.84000000e+01, 0.00000000e+00, 0.00000000e+00,\n",
       "        0.00000000e+00, 1.00000000e+00, 5.00000000e-01, 1.50000000e+00,\n",
       "        8.52500000e+01, 3.87035556e+03],\n",
       "       [5.00000000e-01, 5.71428571e+01, 0.00000000e+00, 0.00000000e+00,\n",
       "        0.00000000e+00, 1.00000000e+00, 5.00000000e-01, 1.50000000e+00,\n",
       "        2.86190476e+01, 5.79613333e+03],\n",
       "       [5.00000000e-01, 5.41538462e+01, 0.00000000e+00, 0.00000000e+00,\n",
       "        0.00000000e+00, 1.00000000e+00, 5.00000000e-01, 1.50000000e+00,\n",
       "        5.00320513e+01, 9.81688889e+02],\n",
       "       [5.00000000e-01, 1.20000000e+01, 0.00000000e+00, 0.00000000e+00,\n",
       "        0.00000000e+00, 1.00000000e+00, 5.00000000e-01, 1.50000000e+00,\n",
       "        4.61666667e+01, 1.94457778e+03],\n",
       "       [5.00000000e-01, 6.51428571e+01, 0.00000000e+00, 0.00000000e+00,\n",
       "        0.00000000e+00, 1.00000000e+00, 5.00000000e-01, 1.50000000e+00,\n",
       "        2.62261905e+01, 7.72191111e+03],\n",
       "       [5.00000000e-01, 3.40000000e+01, 0.00000000e+00, 0.00000000e+00,\n",
       "        0.00000000e+00, 1.00000000e+00, 5.00000000e-01, 1.50000000e+00,\n",
       "        1.03861111e+02, 8.68480000e+03],\n",
       "       [5.00000000e-01, 8.66666667e+00, 0.00000000e+00, 0.00000000e+00,\n",
       "        0.00000000e+00, 1.00000000e+00, 5.00000000e-01, 1.50000000e+00,\n",
       "        1.02930556e+02, 2.90746667e+03],\n",
       "       [5.00000000e-01, 2.90909091e+01, 0.00000000e+00, 0.00000000e+00,\n",
       "        0.00000000e+00, 1.00000000e+00, 5.00000000e-01, 1.50000000e+00,\n",
       "        7.50984848e+01, 2.90746667e+03],\n",
       "       [5.00000000e-01, 3.20000000e+01, 0.00000000e+00, 0.00000000e+00,\n",
       "        0.00000000e+00, 1.00000000e+00, 5.00000000e-01, 1.50000000e+00,\n",
       "        5.17500000e+01, 5.79613333e+03],\n",
       "       [5.00000000e-01, 6.48000000e+01, 0.00000000e+00, 0.00000000e+00,\n",
       "        0.00000000e+00, 1.00000000e+00, 5.00000000e-01, 1.50000000e+00,\n",
       "        3.16500000e+01, 1.88000000e+01],\n",
       "       [5.00000000e-01, 6.40000000e+01, 0.00000000e+00, 0.00000000e+00,\n",
       "        0.00000000e+00, 1.00000000e+00, 5.00000000e-01, 1.50000000e+00,\n",
       "        1.13166667e+02, 2.90746667e+03],\n",
       "       [5.00000000e-01, 6.50000000e+01, 0.00000000e+00, 0.00000000e+00,\n",
       "        0.00000000e+00, 1.00000000e+00, 5.00000000e-01, 1.50000000e+00,\n",
       "        2.80208333e+01, 1.94457778e+03],\n",
       "       [5.00000000e-01, 8.00000000e+00, 0.00000000e+00, 0.00000000e+00,\n",
       "        0.00000000e+00, 1.00000000e+00, 5.00000000e-01, 1.50000000e+00,\n",
       "        1.07583333e+02, 9.81688889e+02],\n",
       "       [5.00000000e-01, 6.00000000e+01, 0.00000000e+00, 0.00000000e+00,\n",
       "        0.00000000e+00, 1.00000000e+00, 5.00000000e-01, 1.50000000e+00,\n",
       "        2.38333333e+01, 3.87035556e+03],\n",
       "       [5.00000000e-01, 1.20000000e+01, 0.00000000e+00, 0.00000000e+00,\n",
       "        0.00000000e+00, 1.00000000e+00, 5.00000000e-01, 1.50000000e+00,\n",
       "        2.94166667e+01, 7.72191111e+03],\n",
       "       [5.00000000e-01, 7.00000000e+00, 0.00000000e+00, 0.00000000e+00,\n",
       "        0.00000000e+00, 1.00000000e+00, 5.00000000e-01, 1.50000000e+00,\n",
       "        2.80208333e+01, 6.75902222e+03],\n",
       "       [5.00000000e-01, 1.78461538e+01, 0.00000000e+00, 0.00000000e+00,\n",
       "        0.00000000e+00, 1.00000000e+00, 5.00000000e-01, 1.50000000e+00,\n",
       "        5.34679487e+01, 9.81688889e+02],\n",
       "       [5.00000000e-01, 1.20000000e+01, 0.00000000e+00, 0.00000000e+00,\n",
       "        0.00000000e+00, 1.00000000e+00, 5.00000000e-01, 1.50000000e+00,\n",
       "        7.96666667e+01, 4.83324444e+03],\n",
       "       [5.00000000e-01, 6.24000000e+01, 0.00000000e+00, 0.00000000e+00,\n",
       "        0.00000000e+00, 1.00000000e+00, 5.00000000e-01, 1.50000000e+00,\n",
       "        1.06466667e+02, 6.75902222e+03],\n",
       "       [5.00000000e-01, 4.10000000e+01, 0.00000000e+00, 0.00000000e+00,\n",
       "        0.00000000e+00, 1.00000000e+00, 5.00000000e-01, 1.50000000e+00,\n",
       "        8.38541667e+01, 4.83324444e+03],\n",
       "       [5.00000000e-01, 5.84615385e+01, 0.00000000e+00, 0.00000000e+00,\n",
       "        0.00000000e+00, 1.00000000e+00, 5.00000000e-01, 1.50000000e+00,\n",
       "        6.29166667e+01, 1.94457778e+03],\n",
       "       [5.00000000e-01, 7.00000000e+00, 0.00000000e+00, 0.00000000e+00,\n",
       "        0.00000000e+00, 1.00000000e+00, 5.00000000e-01, 1.50000000e+00,\n",
       "        1.08979167e+02, 6.75902222e+03],\n",
       "       [5.00000000e-01, 8.88888889e+00, 0.00000000e+00, 0.00000000e+00,\n",
       "        0.00000000e+00, 1.00000000e+00, 5.00000000e-01, 1.50000000e+00,\n",
       "        7.16018519e+01, 1.94457778e+03],\n",
       "       [5.00000000e-01, 8.88888889e+00, 0.00000000e+00, 0.00000000e+00,\n",
       "        0.00000000e+00, 1.00000000e+00, 5.00000000e-01, 1.50000000e+00,\n",
       "        7.53240741e+01, 3.87035556e+03],\n",
       "       [5.00000000e-01, 6.40000000e+01, 0.00000000e+00, 0.00000000e+00,\n",
       "        0.00000000e+00, 1.00000000e+00, 5.00000000e-01, 1.50000000e+00,\n",
       "        1.07583333e+02, 9.81688889e+02],\n",
       "       [5.00000000e-01, 4.26666667e+01, 0.00000000e+00, 0.00000000e+00,\n",
       "        0.00000000e+00, 1.00000000e+00, 5.00000000e-01, 1.50000000e+00,\n",
       "        9.51759259e+01, 7.72191111e+03],\n",
       "       [5.00000000e-01, 5.81818182e+01, 0.00000000e+00, 0.00000000e+00,\n",
       "        0.00000000e+00, 1.00000000e+00, 5.00000000e-01, 1.50000000e+00,\n",
       "        5.47954545e+01, 4.83324444e+03],\n",
       "       [5.00000000e-01, 1.02857143e+01, 0.00000000e+00, 0.00000000e+00,\n",
       "        0.00000000e+00, 1.00000000e+00, 5.00000000e-01, 1.50000000e+00,\n",
       "        6.69047619e+01, 1.88000000e+01],\n",
       "       [5.00000000e-01, 6.50000000e+01, 0.00000000e+00, 0.00000000e+00,\n",
       "        0.00000000e+00, 1.00000000e+00, 5.00000000e-01, 1.50000000e+00,\n",
       "        7.54791667e+01, 1.88000000e+01],\n",
       "       [5.00000000e-01, 5.78461538e+01, 0.00000000e+00, 0.00000000e+00,\n",
       "        0.00000000e+00, 1.00000000e+00, 5.00000000e-01, 1.50000000e+00,\n",
       "        6.46346154e+01, 8.68480000e+03],\n",
       "       [5.00000000e-01, 8.00000000e+00, 0.00000000e+00, 0.00000000e+00,\n",
       "        0.00000000e+00, 1.00000000e+00, 5.00000000e-01, 1.50000000e+00,\n",
       "        6.90075758e+01, 5.79613333e+03],\n",
       "       [5.00000000e-01, 3.73333333e+01, 0.00000000e+00, 0.00000000e+00,\n",
       "        0.00000000e+00, 1.00000000e+00, 5.00000000e-01, 1.50000000e+00,\n",
       "        8.77314815e+01, 9.81688889e+02],\n",
       "       [5.00000000e-01, 1.42222222e+01, 0.00000000e+00, 0.00000000e+00,\n",
       "        0.00000000e+00, 1.00000000e+00, 5.00000000e-01, 1.50000000e+00,\n",
       "        2.32129630e+01, 1.94457778e+03],\n",
       "       [5.00000000e-01, 6.13333333e+01, 0.00000000e+00, 0.00000000e+00,\n",
       "        0.00000000e+00, 1.00000000e+00, 5.00000000e-01, 1.50000000e+00,\n",
       "        5.29907407e+01, 7.72191111e+03],\n",
       "       [5.00000000e-01, 6.22222222e+00, 0.00000000e+00, 0.00000000e+00,\n",
       "        0.00000000e+00, 1.00000000e+00, 5.00000000e-01, 1.50000000e+00,\n",
       "        3.31388889e+01, 3.87035556e+03],\n",
       "       [5.00000000e-01, 6.24000000e+01, 0.00000000e+00, 0.00000000e+00,\n",
       "        0.00000000e+00, 1.00000000e+00, 5.00000000e-01, 1.50000000e+00,\n",
       "        3.05333333e+01, 6.75902222e+03],\n",
       "       [5.00000000e-01, 4.64000000e+01, 0.00000000e+00, 0.00000000e+00,\n",
       "        0.00000000e+00, 1.00000000e+00, 5.00000000e-01, 1.50000000e+00,\n",
       "        5.51000000e+01, 1.88000000e+01],\n",
       "       [5.00000000e-01, 6.00000000e+01, 0.00000000e+00, 0.00000000e+00,\n",
       "        0.00000000e+00, 1.00000000e+00, 5.00000000e-01, 1.50000000e+00,\n",
       "        8.52500000e+01, 2.90746667e+03],\n",
       "       [5.00000000e-01, 8.00000000e+00, 0.00000000e+00, 0.00000000e+00,\n",
       "        0.00000000e+00, 1.00000000e+00, 5.00000000e-01, 1.50000000e+00,\n",
       "        1.07583333e+02, 1.94457778e+03],\n",
       "       [5.00000000e-01, 3.46666667e+01, 0.00000000e+00, 0.00000000e+00,\n",
       "        0.00000000e+00, 1.00000000e+00, 5.00000000e-01, 1.50000000e+00,\n",
       "        4.18240741e+01, 2.90746667e+03],\n",
       "       [5.00000000e-01, 8.00000000e+00, 0.00000000e+00, 0.00000000e+00,\n",
       "        0.00000000e+00, 1.00000000e+00, 5.00000000e-01, 1.50000000e+00,\n",
       "        1.07583333e+02, 4.83324444e+03],\n",
       "       [5.00000000e-01, 6.17142857e+01, 0.00000000e+00, 0.00000000e+00,\n",
       "        0.00000000e+00, 1.00000000e+00, 5.00000000e-01, 1.50000000e+00,\n",
       "        1.13964286e+02, 8.68480000e+03],\n",
       "       [5.00000000e-01, 1.48571429e+01, 0.00000000e+00, 0.00000000e+00,\n",
       "        0.00000000e+00, 1.00000000e+00, 5.00000000e-01, 1.50000000e+00,\n",
       "        7.32857143e+01, 8.68480000e+03],\n",
       "       [5.00000000e-01, 6.40000000e+01, 0.00000000e+00, 0.00000000e+00,\n",
       "        0.00000000e+00, 1.00000000e+00, 5.00000000e-01, 1.50000000e+00,\n",
       "        1.13166667e+02, 1.94457778e+03],\n",
       "       [5.00000000e-01, 6.17142857e+01, 0.00000000e+00, 0.00000000e+00,\n",
       "        0.00000000e+00, 1.00000000e+00, 5.00000000e-01, 1.50000000e+00,\n",
       "        1.13964286e+02, 7.72191111e+03],\n",
       "       [5.00000000e-01, 1.04000000e+01, 0.00000000e+00, 0.00000000e+00,\n",
       "        0.00000000e+00, 1.00000000e+00, 5.00000000e-01, 1.50000000e+00,\n",
       "        9.41833333e+01, 7.72191111e+03],\n",
       "       [5.00000000e-01, 6.00000000e+01, 0.00000000e+00, 0.00000000e+00,\n",
       "        0.00000000e+00, 1.00000000e+00, 5.00000000e-01, 1.50000000e+00,\n",
       "        1.13166667e+02, 4.83324444e+03],\n",
       "       [5.00000000e-01, 3.76000000e+01, 0.00000000e+00, 0.00000000e+00,\n",
       "        0.00000000e+00, 1.00000000e+00, 5.00000000e-01, 1.50000000e+00,\n",
       "        3.72333333e+01, 4.83324444e+03],\n",
       "       [5.00000000e-01, 6.31111111e+01, 0.00000000e+00, 0.00000000e+00,\n",
       "        0.00000000e+00, 1.00000000e+00, 5.00000000e-01, 1.50000000e+00,\n",
       "        2.69351852e+01, 8.68480000e+03],\n",
       "       [5.00000000e-01, 6.40000000e+01, 0.00000000e+00, 0.00000000e+00,\n",
       "        0.00000000e+00, 1.00000000e+00, 5.00000000e-01, 1.50000000e+00,\n",
       "        8.52500000e+01, 3.87035556e+03],\n",
       "       [5.00000000e-01, 4.16000000e+01, 0.00000000e+00, 0.00000000e+00,\n",
       "        0.00000000e+00, 1.00000000e+00, 5.00000000e-01, 1.50000000e+00,\n",
       "        6.85000000e+01, 6.75902222e+03]])"
      ]
     },
     "execution_count": 31,
     "metadata": {},
     "output_type": "execute_result"
    }
   ],
   "source": [
    "kmeans_comb_center"
   ]
  },
  {
   "cell_type": "code",
   "execution_count": 29,
   "metadata": {
    "collapsed": false,
    "jupyter": {
     "outputs_hidden": false
    },
    "pycharm": {
     "name": "#%%\n"
    }
   },
   "outputs": [],
   "source": [
    "# from alibi_detect.od import IForest\n",
    "# od = IForest(threshold=0.05, n_estimators=500)\n",
    "\n",
    "# od.fit(X_train.values)\n",
    "X_train.shape\n",
    "cd = TabularDrift(X_train.values, p_val=.05, categories_per_feature=categories_per_feature)"
   ]
  },
  {
   "cell_type": "code",
   "execution_count": null,
   "metadata": {},
   "outputs": [],
   "source": []
  },
  {
   "cell_type": "code",
   "execution_count": null,
   "metadata": {},
   "outputs": [],
   "source": []
  },
  {
   "cell_type": "code",
   "execution_count": 30,
   "metadata": {
    "collapsed": false,
    "jupyter": {
     "outputs_hidden": false
    },
    "pycharm": {
     "name": "#%%\n"
    }
   },
   "outputs": [
    {
     "name": "stdout",
     "output_type": "stream",
     "text": [
      "[['Female' 0 'No' 'No' 40 'Yes' 'Yes' 'DSL' 'No' 'Yes' 'No' 'Yes' 'No'\n",
      "  'Yes' 'Month-to-month' 'No' 'Credit card (automatic)' 40 7000]]\n",
      "{'data': {'is_drift': 0, 'distance': array([0.50283974, 0.16673428, 0.48640972, 0.30040568, 0.60182554,\n",
      "       0.09817445, 0.5768763 , 0.6549696 , 0.50283974, 0.65740365,\n",
      "       0.55375254, 0.70831645, 0.5951319 , 0.60993916, 0.4511156 ,\n",
      "       0.59817445, 0.56876266, 0.73833674, 0.9523327 ], dtype=float32), 'p_val': array([0.9943205 , 1.        , 1.        , 1.        , 0.79634887,\n",
      "       1.        , 0.8462475 , 0.69006085, 0.9943205 , 0.6851927 ,\n",
      "       0.8924949 , 0.58336717, 0.8097363 , 0.7801217 , 1.        ,\n",
      "       0.8036511 , 0.8624746 , 0.5233266 , 0.09533469], dtype=float32), 'threshold': 0.002631578947368421}, 'meta': {'name': 'TabularDrift', 'detector_type': 'offline', 'data_type': None}}\n"
     ]
    },
    {
     "name": "stderr",
     "output_type": "stream",
     "text": [
      "\n",
      "A value is trying to be set on a copy of a slice from a DataFrame.\n",
      "Try using .loc[row_indexer,col_indexer] = value instead\n",
      "\n",
      "See the caveats in the documentation: https://pandas.pydata.org/pandas-docs/stable/user_guide/indexing.html#returning-a-view-versus-a-copy\n",
      "\n",
      "A value is trying to be set on a copy of a slice from a DataFrame.\n",
      "Try using .loc[row_indexer,col_indexer] = value instead\n",
      "\n",
      "See the caveats in the documentation: https://pandas.pydata.org/pandas-docs/stable/user_guide/indexing.html#returning-a-view-versus-a-copy\n",
      "\n",
      "A value is trying to be set on a copy of a slice from a DataFrame.\n",
      "Try using .loc[row_indexer,col_indexer] = value instead\n",
      "\n",
      "See the caveats in the documentation: https://pandas.pydata.org/pandas-docs/stable/user_guide/indexing.html#returning-a-view-versus-a-copy\n"
     ]
    }
   ],
   "source": [
    "\n",
    "# od_preds = od.predict(X_test, return_instance_score=True)\n",
    "# print(od_preds)\n",
    "#\n",
    "#col #34 is the monthly bill amount\n",
    "X_test_1['tenure']=40\n",
    "X_test_1['MonthlyCharges']=40\n",
    "X_test_1['TotalCharges']=7000\n",
    "\n",
    "input_with_insane_monthly_charges = X_test_1.iloc[2]\n",
    "# input_with_insane_monthly_charges.values[34] = 22975.0\n",
    "# input_with_insane_monthly_charges.values[35] = 25000.0\n",
    "print(input_with_insane_monthly_charges.values.reshape(1,19))\n",
    "\n",
    "cd_preds = cd.predict(input_with_insane_monthly_charges.values.reshape(1,19))\n",
    "print(cd_preds)\n",
    "\n",
    "# from alibi_detect.cd import MMDDrift\n",
    "\n",
    "# cd1 = MMDDrift(X_train.values, backend='tensorflow', p_val=.05)\n",
    "# preds = cd1.predict(input_with_insane_monthly_charges.values.reshape(1,19))\n",
    "# print(preds)\n"
   ]
  },
  {
   "cell_type": "code",
   "execution_count": null,
   "metadata": {},
   "outputs": [],
   "source": []
  }
 ],
 "metadata": {
  "interpreter": {
   "hash": "ce4b14861374cad230d871e5c41f613d2db9594bea8f9eafa29f3d4d2b36a9d4"
  },
  "kernelspec": {
   "display_name": "Python 3",
   "language": "python",
   "name": "python3"
  },
  "language_info": {
   "codemirror_mode": {
    "name": "ipython",
    "version": 3
   },
   "file_extension": ".py",
   "mimetype": "text/x-python",
   "name": "python",
   "nbconvert_exporter": "python",
   "pygments_lexer": "ipython3",
   "version": "3.8.6"
  }
 },
 "nbformat": 4,
 "nbformat_minor": 4
}
