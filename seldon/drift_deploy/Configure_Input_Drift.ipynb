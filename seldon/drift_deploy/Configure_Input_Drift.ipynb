{
 "cells": [
  {
   "cell_type": "code",
   "execution_count": 56,
   "metadata": {
    "collapsed": false,
    "jupyter": {
     "outputs_hidden": false
    },
    "pycharm": {
     "name": "#%%\n"
    }
   },
   "outputs": [],
   "source": [
    "\n",
    "### WIP\n",
    "\n"
   ]
  },
  {
   "cell_type": "code",
   "execution_count": 57,
   "metadata": {},
   "outputs": [],
   "source": [
    "# https://github.com/SeldonIO/alibi-detect#drift-detection"
   ]
  },
  {
   "cell_type": "code",
   "execution_count": 1,
   "metadata": {
    "collapsed": false,
    "jupyter": {
     "outputs_hidden": false
    },
    "pycharm": {
     "name": "#%%\n"
    }
   },
   "outputs": [
    {
     "name": "stdout",
     "output_type": "stream",
     "text": [
      "Requirement already satisfied: category_encoders in /Users/skasmani/opt/anaconda3/envs/AI_ML_38/lib/python3.8/site-packages (2.2.2)\r\n",
      "Requirement already satisfied: scipy>=1.0.0 in /Users/skasmani/opt/anaconda3/envs/AI_ML_38/lib/python3.8/site-packages (from category_encoders) (1.6.2)\r\n",
      "Requirement already satisfied: pandas>=0.21.1 in /Users/skasmani/opt/anaconda3/envs/AI_ML_38/lib/python3.8/site-packages (from category_encoders) (1.3.1)\r\n",
      "Requirement already satisfied: numpy>=1.14.0 in /Users/skasmani/opt/anaconda3/envs/AI_ML_38/lib/python3.8/site-packages (from category_encoders) (1.19.2)\r\n",
      "Requirement already satisfied: patsy>=0.5.1 in /Users/skasmani/opt/anaconda3/envs/AI_ML_38/lib/python3.8/site-packages (from category_encoders) (0.5.1)\r\n",
      "Requirement already satisfied: statsmodels>=0.9.0 in /Users/skasmani/opt/anaconda3/envs/AI_ML_38/lib/python3.8/site-packages (from category_encoders) (0.11.1)\r\n",
      "Requirement already satisfied: scikit-learn>=0.20.0 in /Users/skasmani/opt/anaconda3/envs/AI_ML_38/lib/python3.8/site-packages (from category_encoders) (0.23.2)\r\n",
      "Requirement already satisfied: python-dateutil>=2.7.3 in /Users/skasmani/opt/anaconda3/envs/AI_ML_38/lib/python3.8/site-packages (from pandas>=0.21.1->category_encoders) (2.8.2)\r\n",
      "Requirement already satisfied: pytz>=2017.3 in /Users/skasmani/opt/anaconda3/envs/AI_ML_38/lib/python3.8/site-packages (from pandas>=0.21.1->category_encoders) (2021.1)\r\n",
      "Requirement already satisfied: six in /Users/skasmani/opt/anaconda3/envs/AI_ML_38/lib/python3.8/site-packages (from patsy>=0.5.1->category_encoders) (1.15.0)\r\n",
      "Requirement already satisfied: joblib>=0.11 in /Users/skasmani/opt/anaconda3/envs/AI_ML_38/lib/python3.8/site-packages (from scikit-learn>=0.20.0->category_encoders) (1.0.1)\r\n",
      "Requirement already satisfied: threadpoolctl>=2.0.0 in /Users/skasmani/opt/anaconda3/envs/AI_ML_38/lib/python3.8/site-packages (from scikit-learn>=0.20.0->category_encoders) (2.2.0)\r\n",
      "Requirement already satisfied: verta in /Users/skasmani/opt/anaconda3/envs/AI_ML_38/lib/python3.8/site-packages (0.19.1)\r\n",
      "Requirement already satisfied: cloudpickle~=1.0 in /Users/skasmani/opt/anaconda3/envs/AI_ML_38/lib/python3.8/site-packages (from verta) (1.6.0)\r\n",
      "Requirement already satisfied: requests<3.0,>=2.21 in /Users/skasmani/opt/anaconda3/envs/AI_ML_38/lib/python3.8/site-packages (from verta) (2.25.1)\r\n",
      "Requirement already satisfied: pytimeparse<2.0,>=1.1.8 in /Users/skasmani/opt/anaconda3/envs/AI_ML_38/lib/python3.8/site-packages (from verta) (1.1.8)\r\n",
      "Requirement already satisfied: click~=7.0 in /Users/skasmani/opt/anaconda3/envs/AI_ML_38/lib/python3.8/site-packages (from verta) (7.1.2)\r\n",
      "Requirement already satisfied: pyyaml<5.4,>=5.1 in /Users/skasmani/opt/anaconda3/envs/AI_ML_38/lib/python3.8/site-packages (from verta) (5.3.1)\r\n",
      "Requirement already satisfied: googleapis-common-protos<2.0,>=1.5 in /Users/skasmani/opt/anaconda3/envs/AI_ML_38/lib/python3.8/site-packages (from verta) (1.53.0)\r\n",
      "Requirement already satisfied: pathlib2<3.0,>=2.2 in /Users/skasmani/opt/anaconda3/envs/AI_ML_38/lib/python3.8/site-packages (from verta) (2.3.6)\r\n",
      "Requirement already satisfied: protobuf<4.0,>=3.8 in /Users/skasmani/opt/anaconda3/envs/AI_ML_38/lib/python3.8/site-packages (from verta) (3.17.3)\r\n",
      "Requirement already satisfied: six in /Users/skasmani/opt/anaconda3/envs/AI_ML_38/lib/python3.8/site-packages (from pathlib2<3.0,>=2.2->verta) (1.15.0)\r\n",
      "Requirement already satisfied: idna<3,>=2.5 in /Users/skasmani/opt/anaconda3/envs/AI_ML_38/lib/python3.8/site-packages (from requests<3.0,>=2.21->verta) (2.10)\r\n",
      "Requirement already satisfied: certifi>=2017.4.17 in /Users/skasmani/opt/anaconda3/envs/AI_ML_38/lib/python3.8/site-packages (from requests<3.0,>=2.21->verta) (2021.5.30)\r\n",
      "Requirement already satisfied: urllib3<1.27,>=1.21.1 in /Users/skasmani/opt/anaconda3/envs/AI_ML_38/lib/python3.8/site-packages (from requests<3.0,>=2.21->verta) (1.26.6)\r\n",
      "Requirement already satisfied: chardet<5,>=3.0.2 in /Users/skasmani/opt/anaconda3/envs/AI_ML_38/lib/python3.8/site-packages (from requests<3.0,>=2.21->verta) (4.0.0)\r\n",
      "Requirement already satisfied: minio in /Users/skasmani/opt/anaconda3/envs/AI_ML_38/lib/python3.8/site-packages (7.1.0)\r\n",
      "Requirement already satisfied: certifi in /Users/skasmani/opt/anaconda3/envs/AI_ML_38/lib/python3.8/site-packages (from minio) (2021.5.30)\r\n",
      "Requirement already satisfied: urllib3 in /Users/skasmani/opt/anaconda3/envs/AI_ML_38/lib/python3.8/site-packages (from minio) (1.26.6)\r\n"
     ]
    }
   ],
   "source": [
    "# #pip  install alibi-detect --user\n",
    "# # # !pip  install tensorflow\n",
    "# !pip install catboost\n",
    "# !pip install xgboost\n",
    "!pip install category_encoders\n",
    "# # # !pip install torch torchvision torchaudio\n",
    "# !pip install lightgbm\n",
    "!pip install verta\n",
    "!pip install minio\n"
   ]
  },
  {
   "cell_type": "markdown",
   "metadata": {},
   "source": [
    "Load List of the required libraries"
   ]
  },
  {
   "cell_type": "code",
   "execution_count": 2,
   "metadata": {
    "collapsed": false,
    "jupyter": {
     "outputs_hidden": false
    },
    "pycharm": {
     "name": "#%%\n"
    }
   },
   "outputs": [],
   "source": [
    "\n",
    "\n",
    "import alibi\n",
    "\n",
    "from alibi_detect.cd import TabularDrift,MMDDrift\n",
    "from alibi_detect.utils.saving import save_detector, load_detector\n",
    "\n",
    "\n",
    "import pandas as pd\n",
    "import numpy as np\n",
    "import matplotlib as mat\n",
    "import matplotlib.pyplot as plt    \n",
    "import seaborn as sns\n",
    "import category_encoders as ce\n",
    "import joblib\n",
    "from datetime import datetime\n",
    "\n",
    "%matplotlib inline\n",
    "\n",
    "from sklearn.model_selection import train_test_split\n",
    "from sklearn import metrics\n",
    "from sklearn.preprocessing import LabelEncoder\n",
    "from sklearn.preprocessing import OneHotEncoder\n",
    "\n",
    "from minio import Minio\n",
    "from verta import Client\n",
    "# from minio.error import ResponseError\n",
    "\n",
    "# import pickle\n",
    "import warnings"
   ]
  },
  {
   "cell_type": "code",
   "execution_count": 3,
   "metadata": {},
   "outputs": [],
   "source": [
    "dateTimeObj = datetime.now()\n",
    "timestampStr = dateTimeObj.strftime(\"%d%Y%H%M%S%f\")\n",
    "experiment_name = \"customerchurnuser9\"\n",
    "experiment_id = experiment_name + timestampStr"
   ]
  },
  {
   "cell_type": "code",
   "execution_count": 4,
   "metadata": {},
   "outputs": [],
   "source": [
    "\n",
    "\n",
    "def get_s3_server():\n",
    "    minioClient = Minio('minio-ml-workshop:9000',\n",
    "                    access_key='minio',\n",
    "                    secret_key='minio123',\n",
    "                    secure=False)\n"
   ]
  },
  {
   "cell_type": "code",
   "execution_count": 5,
   "metadata": {
    "collapsed": false,
    "jupyter": {
     "outputs_hidden": false
    },
    "pycharm": {
     "name": "#%%\n"
    }
   },
   "outputs": [
    {
     "data": {
      "text/plain": "   customerID  gender  SeniorCitizen Partner Dependents  tenure PhoneService  \\\n0         148    Male              0      No         No       1          Yes   \n1         463    Male              0     Yes        Yes       4          Yes   \n2         471  Female              1      No         No      17          Yes   \n3         496    Male              0      No         No      22           No   \n4         833  Female              0     Yes        Yes      70          Yes   \n\n      MultipleLines InternetService       OnlineSecurity  ...  \\\n0                No             DSL                   No  ...   \n1               Yes     Fiber optic                   No  ...   \n2                No              No  No internet service  ...   \n3  No phone service             DSL                   No  ...   \n4                No             DSL                  Yes  ...   \n\n      DeviceProtection          TechSupport          StreamingTV  \\\n0                   No                   No                   No   \n1                  Yes                   No                  Yes   \n2  No internet service  No internet service  No internet service   \n3                  Yes                   No                   No   \n4                  Yes                  Yes                   No   \n\n       StreamingMovies        Contract PaperlessBilling  \\\n0                   No  Month-to-month              Yes   \n1                  Yes  Month-to-month               No   \n2  No internet service        One year               No   \n3                  Yes        One year              Yes   \n4                  Yes        One year               No   \n\n               PaymentMethod MonthlyCharges  TotalCharges  Churn  \n0           Electronic check          45.65         45.65    Yes  \n1           Electronic check         101.15        385.90    Yes  \n2               Mailed check          20.65        330.60     No  \n3  Bank transfer (automatic)          43.75        903.60    Yes  \n4    Credit card (automatic)          74.10       5222.30     No  \n\n[5 rows x 21 columns]",
      "text/html": "<div>\n<style scoped>\n    .dataframe tbody tr th:only-of-type {\n        vertical-align: middle;\n    }\n\n    .dataframe tbody tr th {\n        vertical-align: top;\n    }\n\n    .dataframe thead th {\n        text-align: right;\n    }\n</style>\n<table border=\"1\" class=\"dataframe\">\n  <thead>\n    <tr style=\"text-align: right;\">\n      <th></th>\n      <th>customerID</th>\n      <th>gender</th>\n      <th>SeniorCitizen</th>\n      <th>Partner</th>\n      <th>Dependents</th>\n      <th>tenure</th>\n      <th>PhoneService</th>\n      <th>MultipleLines</th>\n      <th>InternetService</th>\n      <th>OnlineSecurity</th>\n      <th>...</th>\n      <th>DeviceProtection</th>\n      <th>TechSupport</th>\n      <th>StreamingTV</th>\n      <th>StreamingMovies</th>\n      <th>Contract</th>\n      <th>PaperlessBilling</th>\n      <th>PaymentMethod</th>\n      <th>MonthlyCharges</th>\n      <th>TotalCharges</th>\n      <th>Churn</th>\n    </tr>\n  </thead>\n  <tbody>\n    <tr>\n      <th>0</th>\n      <td>148</td>\n      <td>Male</td>\n      <td>0</td>\n      <td>No</td>\n      <td>No</td>\n      <td>1</td>\n      <td>Yes</td>\n      <td>No</td>\n      <td>DSL</td>\n      <td>No</td>\n      <td>...</td>\n      <td>No</td>\n      <td>No</td>\n      <td>No</td>\n      <td>No</td>\n      <td>Month-to-month</td>\n      <td>Yes</td>\n      <td>Electronic check</td>\n      <td>45.65</td>\n      <td>45.65</td>\n      <td>Yes</td>\n    </tr>\n    <tr>\n      <th>1</th>\n      <td>463</td>\n      <td>Male</td>\n      <td>0</td>\n      <td>Yes</td>\n      <td>Yes</td>\n      <td>4</td>\n      <td>Yes</td>\n      <td>Yes</td>\n      <td>Fiber optic</td>\n      <td>No</td>\n      <td>...</td>\n      <td>Yes</td>\n      <td>No</td>\n      <td>Yes</td>\n      <td>Yes</td>\n      <td>Month-to-month</td>\n      <td>No</td>\n      <td>Electronic check</td>\n      <td>101.15</td>\n      <td>385.90</td>\n      <td>Yes</td>\n    </tr>\n    <tr>\n      <th>2</th>\n      <td>471</td>\n      <td>Female</td>\n      <td>1</td>\n      <td>No</td>\n      <td>No</td>\n      <td>17</td>\n      <td>Yes</td>\n      <td>No</td>\n      <td>No</td>\n      <td>No internet service</td>\n      <td>...</td>\n      <td>No internet service</td>\n      <td>No internet service</td>\n      <td>No internet service</td>\n      <td>No internet service</td>\n      <td>One year</td>\n      <td>No</td>\n      <td>Mailed check</td>\n      <td>20.65</td>\n      <td>330.60</td>\n      <td>No</td>\n    </tr>\n    <tr>\n      <th>3</th>\n      <td>496</td>\n      <td>Male</td>\n      <td>0</td>\n      <td>No</td>\n      <td>No</td>\n      <td>22</td>\n      <td>No</td>\n      <td>No phone service</td>\n      <td>DSL</td>\n      <td>No</td>\n      <td>...</td>\n      <td>Yes</td>\n      <td>No</td>\n      <td>No</td>\n      <td>Yes</td>\n      <td>One year</td>\n      <td>Yes</td>\n      <td>Bank transfer (automatic)</td>\n      <td>43.75</td>\n      <td>903.60</td>\n      <td>Yes</td>\n    </tr>\n    <tr>\n      <th>4</th>\n      <td>833</td>\n      <td>Female</td>\n      <td>0</td>\n      <td>Yes</td>\n      <td>Yes</td>\n      <td>70</td>\n      <td>Yes</td>\n      <td>No</td>\n      <td>DSL</td>\n      <td>Yes</td>\n      <td>...</td>\n      <td>Yes</td>\n      <td>Yes</td>\n      <td>No</td>\n      <td>Yes</td>\n      <td>One year</td>\n      <td>No</td>\n      <td>Credit card (automatic)</td>\n      <td>74.10</td>\n      <td>5222.30</td>\n      <td>No</td>\n    </tr>\n  </tbody>\n</table>\n<p>5 rows × 21 columns</p>\n</div>"
     },
     "execution_count": 5,
     "metadata": {},
     "output_type": "execute_result"
    }
   ],
   "source": [
    "data = pd.read_csv('../../data/data.csv')\n",
    "data.head(5)\n"
   ]
  },
  {
   "cell_type": "markdown",
   "metadata": {},
   "source": [
    "Apply encoding on categorical features"
   ]
  },
  {
   "cell_type": "code",
   "execution_count": 6,
   "metadata": {
    "collapsed": false,
    "jupyter": {
     "outputs_hidden": false
    },
    "pycharm": {
     "name": "#%%\n"
    }
   },
   "outputs": [
    {
     "data": {
      "text/plain": "   gender  SeniorCitizen Partner Dependents  tenure PhoneService  \\\n0    Male              0      No         No       1          Yes   \n1    Male              0     Yes        Yes       4          Yes   \n2  Female              1      No         No      17          Yes   \n3    Male              0      No         No      22           No   \n4  Female              0     Yes        Yes      70          Yes   \n\n      MultipleLines InternetService       OnlineSecurity         OnlineBackup  \\\n0                No             DSL                   No                   No   \n1               Yes     Fiber optic                   No                   No   \n2                No              No  No internet service  No internet service   \n3  No phone service             DSL                   No                  Yes   \n4                No             DSL                  Yes                  Yes   \n\n      DeviceProtection          TechSupport          StreamingTV  \\\n0                   No                   No                   No   \n1                  Yes                   No                  Yes   \n2  No internet service  No internet service  No internet service   \n3                  Yes                   No                   No   \n4                  Yes                  Yes                   No   \n\n       StreamingMovies        Contract PaperlessBilling  \\\n0                   No  Month-to-month              Yes   \n1                  Yes  Month-to-month               No   \n2  No internet service        One year               No   \n3                  Yes        One year              Yes   \n4                  Yes        One year               No   \n\n               PaymentMethod  MonthlyCharges  TotalCharges  \n0           Electronic check           45.65         45.65  \n1           Electronic check          101.15        385.90  \n2               Mailed check           20.65        330.60  \n3  Bank transfer (automatic)           43.75        903.60  \n4    Credit card (automatic)           74.10       5222.30  ",
      "text/html": "<div>\n<style scoped>\n    .dataframe tbody tr th:only-of-type {\n        vertical-align: middle;\n    }\n\n    .dataframe tbody tr th {\n        vertical-align: top;\n    }\n\n    .dataframe thead th {\n        text-align: right;\n    }\n</style>\n<table border=\"1\" class=\"dataframe\">\n  <thead>\n    <tr style=\"text-align: right;\">\n      <th></th>\n      <th>gender</th>\n      <th>SeniorCitizen</th>\n      <th>Partner</th>\n      <th>Dependents</th>\n      <th>tenure</th>\n      <th>PhoneService</th>\n      <th>MultipleLines</th>\n      <th>InternetService</th>\n      <th>OnlineSecurity</th>\n      <th>OnlineBackup</th>\n      <th>DeviceProtection</th>\n      <th>TechSupport</th>\n      <th>StreamingTV</th>\n      <th>StreamingMovies</th>\n      <th>Contract</th>\n      <th>PaperlessBilling</th>\n      <th>PaymentMethod</th>\n      <th>MonthlyCharges</th>\n      <th>TotalCharges</th>\n    </tr>\n  </thead>\n  <tbody>\n    <tr>\n      <th>0</th>\n      <td>Male</td>\n      <td>0</td>\n      <td>No</td>\n      <td>No</td>\n      <td>1</td>\n      <td>Yes</td>\n      <td>No</td>\n      <td>DSL</td>\n      <td>No</td>\n      <td>No</td>\n      <td>No</td>\n      <td>No</td>\n      <td>No</td>\n      <td>No</td>\n      <td>Month-to-month</td>\n      <td>Yes</td>\n      <td>Electronic check</td>\n      <td>45.65</td>\n      <td>45.65</td>\n    </tr>\n    <tr>\n      <th>1</th>\n      <td>Male</td>\n      <td>0</td>\n      <td>Yes</td>\n      <td>Yes</td>\n      <td>4</td>\n      <td>Yes</td>\n      <td>Yes</td>\n      <td>Fiber optic</td>\n      <td>No</td>\n      <td>No</td>\n      <td>Yes</td>\n      <td>No</td>\n      <td>Yes</td>\n      <td>Yes</td>\n      <td>Month-to-month</td>\n      <td>No</td>\n      <td>Electronic check</td>\n      <td>101.15</td>\n      <td>385.90</td>\n    </tr>\n    <tr>\n      <th>2</th>\n      <td>Female</td>\n      <td>1</td>\n      <td>No</td>\n      <td>No</td>\n      <td>17</td>\n      <td>Yes</td>\n      <td>No</td>\n      <td>No</td>\n      <td>No internet service</td>\n      <td>No internet service</td>\n      <td>No internet service</td>\n      <td>No internet service</td>\n      <td>No internet service</td>\n      <td>No internet service</td>\n      <td>One year</td>\n      <td>No</td>\n      <td>Mailed check</td>\n      <td>20.65</td>\n      <td>330.60</td>\n    </tr>\n    <tr>\n      <th>3</th>\n      <td>Male</td>\n      <td>0</td>\n      <td>No</td>\n      <td>No</td>\n      <td>22</td>\n      <td>No</td>\n      <td>No phone service</td>\n      <td>DSL</td>\n      <td>No</td>\n      <td>Yes</td>\n      <td>Yes</td>\n      <td>No</td>\n      <td>No</td>\n      <td>Yes</td>\n      <td>One year</td>\n      <td>Yes</td>\n      <td>Bank transfer (automatic)</td>\n      <td>43.75</td>\n      <td>903.60</td>\n    </tr>\n    <tr>\n      <th>4</th>\n      <td>Female</td>\n      <td>0</td>\n      <td>Yes</td>\n      <td>Yes</td>\n      <td>70</td>\n      <td>Yes</td>\n      <td>No</td>\n      <td>DSL</td>\n      <td>Yes</td>\n      <td>Yes</td>\n      <td>Yes</td>\n      <td>Yes</td>\n      <td>No</td>\n      <td>Yes</td>\n      <td>One year</td>\n      <td>No</td>\n      <td>Credit card (automatic)</td>\n      <td>74.10</td>\n      <td>5222.30</td>\n    </tr>\n  </tbody>\n</table>\n</div>"
     },
     "execution_count": 6,
     "metadata": {},
     "output_type": "execute_result"
    }
   ],
   "source": [
    "data['Churn'] = data['Churn'].map({'Yes': 1, 'No': 0})\n",
    "\n",
    "data.replace(\" \", np.nan, inplace=True)\n",
    "\n",
    "data['TotalCharges'] = pd.to_numeric(data['TotalCharges'])\n",
    "\n",
    "mean = data['TotalCharges'].mean()\n",
    "data.fillna(mean, inplace=True)\n",
    "final_set = data.drop(['Churn', 'customerID'], axis=1)\n",
    "final_set.head(5)\n",
    "labels = data['Churn']\n",
    "\n",
    "\n",
    "categories_per_feature = ['MultipleLines', 'InternetService', 'Contract', 'PaymentMethod', 'OnlineSecurity', 'OnlineBackup',\n",
    "         'DeviceProtection', 'TechSupport']\n",
    "final_set.head(5)\n",
    "\n",
    "\n",
    "\n"
   ]
  },
  {
   "cell_type": "code",
   "execution_count": 7,
   "metadata": {},
   "outputs": [
    {
     "name": "stdout",
     "output_type": "stream",
     "text": [
      "Training Data Shape (4930, 19) (4930,)\n",
      "Testing Data Shape (2113, 19) (2113,)\n"
     ]
    },
    {
     "data": {
      "text/plain": "['CustomerChurnFeaturesColumns.pkl']",
      "text/html": "['CustomerChurnFeaturesColumns.pkl']"
     },
     "execution_count": 7,
     "metadata": {},
     "output_type": "execute_result"
    }
   ],
   "source": [
    "\n",
    "\n",
    "labels = data['Churn']\n",
    "X_train, X_test, Y_train, Y_test = train_test_split(final_set, labels, test_size=0.3)\n",
    "print ('Training Data Shape',X_train.shape, Y_train.shape)\n",
    "print ('Testing Data Shape',X_test.shape, Y_test.shape)\n",
    "\n",
    "Y = data['Churn']\n",
    "X = final_set\n",
    "joblib.dump(final_set.columns, 'CustomerChurnDriftFeaturesColumns.pkl')\n",
    "\n"
   ]
  },
  {
   "cell_type": "markdown",
   "metadata": {},
   "source": [
    "\n",
    "Define a Drift Model."
   ]
  },
  {
   "cell_type": "markdown",
   "metadata": {},
   "source": [
    "Find the categorical columns."
   ]
  },
  {
   "cell_type": "code",
   "execution_count": 65,
   "metadata": {},
   "outputs": [
    {
     "data": {
      "text/plain": "['OnlineSecurity',\n 'DeviceProtection',\n 'TechSupport',\n 'InternetService',\n 'MultipleLines',\n 'StreamingTV',\n 'StreamingMovies',\n 'Dependents',\n 'gender',\n 'Contract',\n 'PaperlessBilling',\n 'PhoneService',\n 'OnlineBackup',\n 'PaymentMethod',\n 'Partner']",
      "text/html": "['OnlineSecurity', 'DeviceProtection', 'TechSupport', 'InternetService', 'MultipleLines', 'StreamingTV', 'StreamingMovies', 'Dependents', 'gender', 'Contract', 'PaperlessBilling', 'PhoneService', 'OnlineBackup', 'PaymentMethod', 'Partner']"
     },
     "execution_count": 65,
     "metadata": {},
     "output_type": "execute_result"
    }
   ],
   "source": [
    "numCols = X_train.select_dtypes(\"number\").columns\n",
    "catCols = X_train.select_dtypes(\"object\").columns\n",
    "numCols= list(set(numCols))\n",
    "catCols= list(set(catCols))\n",
    "numCols\n",
    "catCols"
   ]
  },
  {
   "cell_type": "code",
   "execution_count": 67,
   "metadata": {},
   "outputs": [
    {
     "data": {
      "text/plain": "['CustomerChurnDriftModel.sav']",
      "text/html": "['CustomerChurnDriftModel.sav']"
     },
     "execution_count": 67,
     "metadata": {},
     "output_type": "execute_result"
    }
   ],
   "source": [
    "\n",
    "cd = TabularDrift(X_train.values, p_val=.05, categories_per_feature=catCols)\n",
    "joblib.dump(cd, 'CustomerChurnDriftModel.sav')\n",
    "\n",
    "# filename_drift = 'CustomerChurnDriftModel.sav'\n",
    "# pickle.dump(cd, open(filename_drift, 'wb'))\n",
    " \n",
    "# # some time later...\n",
    " \n",
    "# # load the model from disk\n",
    "# cd = pickle.load(open(filename_drift, 'rb'))"
   ]
  },
  {
   "cell_type": "markdown",
   "metadata": {},
   "source": [
    "Check the drift detector"
   ]
  },
  {
   "cell_type": "code",
   "execution_count": 68,
   "metadata": {},
   "outputs": [
    {
     "ename": "KeyboardInterrupt",
     "evalue": "",
     "output_type": "error",
     "traceback": [
      "\u001B[0;31m---------------------------------------------------------------------------\u001B[0m",
      "\u001B[0;31mKeyboardInterrupt\u001B[0m                         Traceback (most recent call last)",
      "\u001B[0;32m<ipython-input-68-4b076ccc8807>\u001B[0m in \u001B[0;36m<module>\u001B[0;34m\u001B[0m\n\u001B[1;32m      9\u001B[0m \u001B[0mcc\u001B[0m \u001B[0;34m=\u001B[0m \u001B[0;36m0\u001B[0m\u001B[0;34m\u001B[0m\u001B[0;34m\u001B[0m\u001B[0m\n\u001B[1;32m     10\u001B[0m \u001B[0;32mfor\u001B[0m \u001B[0mindex\u001B[0m\u001B[0;34m,\u001B[0m \u001B[0mrow\u001B[0m \u001B[0;32min\u001B[0m \u001B[0mdata_for_check\u001B[0m\u001B[0;34m.\u001B[0m\u001B[0miterrows\u001B[0m\u001B[0;34m(\u001B[0m\u001B[0;34m)\u001B[0m\u001B[0;34m:\u001B[0m\u001B[0;34m\u001B[0m\u001B[0;34m\u001B[0m\u001B[0m\n\u001B[0;32m---> 11\u001B[0;31m     \u001B[0mcd_preds\u001B[0m \u001B[0;34m=\u001B[0m \u001B[0mcd\u001B[0m\u001B[0;34m.\u001B[0m\u001B[0mpredict\u001B[0m\u001B[0;34m(\u001B[0m\u001B[0mdata_for_check\u001B[0m\u001B[0;34m.\u001B[0m\u001B[0miloc\u001B[0m\u001B[0;34m[\u001B[0m\u001B[0midx\u001B[0m\u001B[0;34m]\u001B[0m\u001B[0;34m.\u001B[0m\u001B[0mvalues\u001B[0m\u001B[0;34m.\u001B[0m\u001B[0mreshape\u001B[0m\u001B[0;34m(\u001B[0m\u001B[0;36m1\u001B[0m\u001B[0;34m,\u001B[0m\u001B[0mdata_for_check\u001B[0m\u001B[0;34m.\u001B[0m\u001B[0mshape\u001B[0m\u001B[0;34m[\u001B[0m\u001B[0;36m1\u001B[0m\u001B[0;34m]\u001B[0m\u001B[0;34m)\u001B[0m\u001B[0;34m)\u001B[0m\u001B[0;34m\u001B[0m\u001B[0;34m\u001B[0m\u001B[0m\n\u001B[0m\u001B[1;32m     12\u001B[0m     \u001B[0;32mif\u001B[0m \u001B[0mcd_preds\u001B[0m\u001B[0;34m[\u001B[0m\u001B[0;34m'data'\u001B[0m\u001B[0;34m]\u001B[0m\u001B[0;34m[\u001B[0m\u001B[0;34m'is_drift'\u001B[0m\u001B[0;34m]\u001B[0m\u001B[0;34m==\u001B[0m\u001B[0;36m1\u001B[0m\u001B[0;34m:\u001B[0m\u001B[0;34m\u001B[0m\u001B[0;34m\u001B[0m\u001B[0m\n\u001B[1;32m     13\u001B[0m         \u001B[0mlist_drift_index\u001B[0m\u001B[0;34m.\u001B[0m\u001B[0mappend\u001B[0m\u001B[0;34m(\u001B[0m\u001B[0midx\u001B[0m\u001B[0;34m)\u001B[0m\u001B[0;34m\u001B[0m\u001B[0;34m\u001B[0m\u001B[0m\n",
      "\u001B[0;32m~/opt/anaconda3/envs/AI_ML_38/lib/python3.8/site-packages/alibi_detect/cd/base.py\u001B[0m in \u001B[0;36mpredict\u001B[0;34m(self, x, drift_type, return_p_val, return_distance)\u001B[0m\n\u001B[1;32m    891\u001B[0m         \"\"\"\n\u001B[1;32m    892\u001B[0m         \u001B[0;31m# compute drift scores\u001B[0m\u001B[0;34m\u001B[0m\u001B[0;34m\u001B[0m\u001B[0;34m\u001B[0m\u001B[0m\n\u001B[0;32m--> 893\u001B[0;31m         \u001B[0mp_vals\u001B[0m\u001B[0;34m,\u001B[0m \u001B[0mdist\u001B[0m \u001B[0;34m=\u001B[0m \u001B[0mself\u001B[0m\u001B[0;34m.\u001B[0m\u001B[0mscore\u001B[0m\u001B[0;34m(\u001B[0m\u001B[0mx\u001B[0m\u001B[0;34m)\u001B[0m\u001B[0;34m\u001B[0m\u001B[0;34m\u001B[0m\u001B[0m\n\u001B[0m\u001B[1;32m    894\u001B[0m \u001B[0;34m\u001B[0m\u001B[0m\n\u001B[1;32m    895\u001B[0m         \u001B[0;31m# TODO: return both feature-level and batch-level drift predictions by default\u001B[0m\u001B[0;34m\u001B[0m\u001B[0;34m\u001B[0m\u001B[0;34m\u001B[0m\u001B[0m\n",
      "\u001B[0;32m~/opt/anaconda3/envs/AI_ML_38/lib/python3.8/site-packages/alibi_detect/cd/base.py\u001B[0m in \u001B[0;36mscore\u001B[0;34m(self, x)\u001B[0m\n\u001B[1;32m    862\u001B[0m         \"\"\"\n\u001B[1;32m    863\u001B[0m         \u001B[0mx_ref\u001B[0m\u001B[0;34m,\u001B[0m \u001B[0mx\u001B[0m \u001B[0;34m=\u001B[0m \u001B[0mself\u001B[0m\u001B[0;34m.\u001B[0m\u001B[0mpreprocess\u001B[0m\u001B[0;34m(\u001B[0m\u001B[0mx\u001B[0m\u001B[0;34m)\u001B[0m\u001B[0;34m\u001B[0m\u001B[0;34m\u001B[0m\u001B[0m\n\u001B[0;32m--> 864\u001B[0;31m         \u001B[0mscore\u001B[0m\u001B[0;34m,\u001B[0m \u001B[0mdist\u001B[0m \u001B[0;34m=\u001B[0m \u001B[0mself\u001B[0m\u001B[0;34m.\u001B[0m\u001B[0mfeature_score\u001B[0m\u001B[0;34m(\u001B[0m\u001B[0mx_ref\u001B[0m\u001B[0;34m,\u001B[0m \u001B[0mx\u001B[0m\u001B[0;34m)\u001B[0m  \u001B[0;31m# feature-wise univariate test\u001B[0m\u001B[0;34m\u001B[0m\u001B[0;34m\u001B[0m\u001B[0m\n\u001B[0m\u001B[1;32m    865\u001B[0m         \u001B[0;32mreturn\u001B[0m \u001B[0mscore\u001B[0m\u001B[0;34m,\u001B[0m \u001B[0mdist\u001B[0m\u001B[0;34m\u001B[0m\u001B[0;34m\u001B[0m\u001B[0m\n\u001B[1;32m    866\u001B[0m \u001B[0;34m\u001B[0m\u001B[0m\n",
      "\u001B[0;32m~/opt/anaconda3/envs/AI_ML_38/lib/python3.8/site-packages/alibi_detect/cd/tabular.py\u001B[0m in \u001B[0;36mfeature_score\u001B[0;34m(self, x_ref, x)\u001B[0m\n\u001B[1;32m    130\u001B[0m                 \u001B[0mdist\u001B[0m\u001B[0;34m[\u001B[0m\u001B[0mf\u001B[0m\u001B[0;34m]\u001B[0m\u001B[0;34m,\u001B[0m \u001B[0mp_val\u001B[0m\u001B[0;34m[\u001B[0m\u001B[0mf\u001B[0m\u001B[0;34m]\u001B[0m\u001B[0;34m,\u001B[0m \u001B[0m_\u001B[0m\u001B[0;34m,\u001B[0m \u001B[0m_\u001B[0m \u001B[0;34m=\u001B[0m \u001B[0mchi2_contingency\u001B[0m\u001B[0;34m(\u001B[0m\u001B[0mcontingency_table\u001B[0m\u001B[0;34m)\u001B[0m\u001B[0;34m\u001B[0m\u001B[0;34m\u001B[0m\u001B[0m\n\u001B[1;32m    131\u001B[0m             \u001B[0;32melse\u001B[0m\u001B[0;34m:\u001B[0m\u001B[0;34m\u001B[0m\u001B[0;34m\u001B[0m\u001B[0m\n\u001B[0;32m--> 132\u001B[0;31m                 \u001B[0mdist\u001B[0m\u001B[0;34m[\u001B[0m\u001B[0mf\u001B[0m\u001B[0;34m]\u001B[0m\u001B[0;34m,\u001B[0m \u001B[0mp_val\u001B[0m\u001B[0;34m[\u001B[0m\u001B[0mf\u001B[0m\u001B[0;34m]\u001B[0m \u001B[0;34m=\u001B[0m \u001B[0mks_2samp\u001B[0m\u001B[0;34m(\u001B[0m\u001B[0mx_ref\u001B[0m\u001B[0;34m[\u001B[0m\u001B[0;34m:\u001B[0m\u001B[0;34m,\u001B[0m \u001B[0mf\u001B[0m\u001B[0;34m]\u001B[0m\u001B[0;34m,\u001B[0m \u001B[0mx\u001B[0m\u001B[0;34m[\u001B[0m\u001B[0;34m:\u001B[0m\u001B[0;34m,\u001B[0m \u001B[0mf\u001B[0m\u001B[0;34m]\u001B[0m\u001B[0;34m,\u001B[0m \u001B[0malternative\u001B[0m\u001B[0;34m=\u001B[0m\u001B[0mself\u001B[0m\u001B[0;34m.\u001B[0m\u001B[0malternative\u001B[0m\u001B[0;34m,\u001B[0m \u001B[0mmode\u001B[0m\u001B[0;34m=\u001B[0m\u001B[0;34m'auto'\u001B[0m\u001B[0;34m)\u001B[0m\u001B[0;34m\u001B[0m\u001B[0;34m\u001B[0m\u001B[0m\n\u001B[0m\u001B[1;32m    133\u001B[0m         \u001B[0;32mreturn\u001B[0m \u001B[0mp_val\u001B[0m\u001B[0;34m,\u001B[0m \u001B[0mdist\u001B[0m\u001B[0;34m\u001B[0m\u001B[0;34m\u001B[0m\u001B[0m\n\u001B[1;32m    134\u001B[0m \u001B[0;34m\u001B[0m\u001B[0m\n",
      "\u001B[0;32m~/opt/anaconda3/envs/AI_ML_38/lib/python3.8/site-packages/scipy/stats/stats.py\u001B[0m in \u001B[0;36mks_2samp\u001B[0;34m(data1, data2, alternative, mode)\u001B[0m\n\u001B[1;32m   6852\u001B[0m \u001B[0;34m\u001B[0m\u001B[0m\n\u001B[1;32m   6853\u001B[0m     \u001B[0;32mif\u001B[0m \u001B[0mmode\u001B[0m \u001B[0;34m==\u001B[0m \u001B[0;34m'exact'\u001B[0m\u001B[0;34m:\u001B[0m\u001B[0;34m\u001B[0m\u001B[0;34m\u001B[0m\u001B[0m\n\u001B[0;32m-> 6854\u001B[0;31m         \u001B[0msuccess\u001B[0m\u001B[0;34m,\u001B[0m \u001B[0md\u001B[0m\u001B[0;34m,\u001B[0m \u001B[0mprob\u001B[0m \u001B[0;34m=\u001B[0m \u001B[0m_attempt_exact_2kssamp\u001B[0m\u001B[0;34m(\u001B[0m\u001B[0mn1\u001B[0m\u001B[0;34m,\u001B[0m \u001B[0mn2\u001B[0m\u001B[0;34m,\u001B[0m \u001B[0mg\u001B[0m\u001B[0;34m,\u001B[0m \u001B[0md\u001B[0m\u001B[0;34m,\u001B[0m \u001B[0malternative\u001B[0m\u001B[0;34m)\u001B[0m\u001B[0;34m\u001B[0m\u001B[0;34m\u001B[0m\u001B[0m\n\u001B[0m\u001B[1;32m   6855\u001B[0m         \u001B[0;32mif\u001B[0m \u001B[0;32mnot\u001B[0m \u001B[0msuccess\u001B[0m\u001B[0;34m:\u001B[0m\u001B[0;34m\u001B[0m\u001B[0;34m\u001B[0m\u001B[0m\n\u001B[1;32m   6856\u001B[0m             \u001B[0mmode\u001B[0m \u001B[0;34m=\u001B[0m \u001B[0;34m'asymp'\u001B[0m\u001B[0;34m\u001B[0m\u001B[0;34m\u001B[0m\u001B[0m\n",
      "\u001B[0;32m~/opt/anaconda3/envs/AI_ML_38/lib/python3.8/site-packages/scipy/stats/stats.py\u001B[0m in \u001B[0;36m_attempt_exact_2kssamp\u001B[0;34m(n1, n2, g, d, alternative)\u001B[0m\n\u001B[1;32m   6681\u001B[0m                 \u001B[0mprob\u001B[0m \u001B[0;34m=\u001B[0m \u001B[0m_compute_prob_outside_square\u001B[0m\u001B[0;34m(\u001B[0m\u001B[0mn1\u001B[0m\u001B[0;34m,\u001B[0m \u001B[0mh\u001B[0m\u001B[0;34m)\u001B[0m\u001B[0;34m\u001B[0m\u001B[0;34m\u001B[0m\u001B[0m\n\u001B[1;32m   6682\u001B[0m             \u001B[0;32melse\u001B[0m\u001B[0;34m:\u001B[0m\u001B[0;34m\u001B[0m\u001B[0;34m\u001B[0m\u001B[0m\n\u001B[0;32m-> 6683\u001B[0;31m                 \u001B[0mprob\u001B[0m \u001B[0;34m=\u001B[0m \u001B[0;36m1\u001B[0m \u001B[0;34m-\u001B[0m \u001B[0m_compute_prob_inside_method\u001B[0m\u001B[0;34m(\u001B[0m\u001B[0mn1\u001B[0m\u001B[0;34m,\u001B[0m \u001B[0mn2\u001B[0m\u001B[0;34m,\u001B[0m \u001B[0mg\u001B[0m\u001B[0;34m,\u001B[0m \u001B[0mh\u001B[0m\u001B[0;34m)\u001B[0m\u001B[0;34m\u001B[0m\u001B[0;34m\u001B[0m\u001B[0m\n\u001B[0m\u001B[1;32m   6684\u001B[0m         \u001B[0;32melse\u001B[0m\u001B[0;34m:\u001B[0m\u001B[0;34m\u001B[0m\u001B[0;34m\u001B[0m\u001B[0m\n\u001B[1;32m   6685\u001B[0m             \u001B[0;32mif\u001B[0m \u001B[0mn1\u001B[0m \u001B[0;34m==\u001B[0m \u001B[0mn2\u001B[0m\u001B[0;34m:\u001B[0m\u001B[0;34m\u001B[0m\u001B[0;34m\u001B[0m\u001B[0m\n",
      "\u001B[0;32m~/opt/anaconda3/envs/AI_ML_38/lib/python3.8/site-packages/scipy/stats/stats.py\u001B[0m in \u001B[0;36m_compute_prob_inside_method\u001B[0;34m(m, n, g, h)\u001B[0m\n\u001B[1;32m   6512\u001B[0m             \u001B[0;32mreturn\u001B[0m \u001B[0;36m0\u001B[0m\u001B[0;34m\u001B[0m\u001B[0;34m\u001B[0m\u001B[0m\n\u001B[1;32m   6513\u001B[0m         \u001B[0;31m# Now fill in the values\u001B[0m\u001B[0;34m\u001B[0m\u001B[0;34m\u001B[0m\u001B[0;34m\u001B[0m\u001B[0m\n\u001B[0;32m-> 6514\u001B[0;31m         \u001B[0mA\u001B[0m\u001B[0;34m[\u001B[0m\u001B[0;36m0\u001B[0m\u001B[0;34m:\u001B[0m\u001B[0mmaxj\u001B[0m \u001B[0;34m-\u001B[0m \u001B[0mminj\u001B[0m\u001B[0;34m]\u001B[0m \u001B[0;34m=\u001B[0m \u001B[0mnp\u001B[0m\u001B[0;34m.\u001B[0m\u001B[0mcumsum\u001B[0m\u001B[0;34m(\u001B[0m\u001B[0mA\u001B[0m\u001B[0;34m[\u001B[0m\u001B[0mminj\u001B[0m \u001B[0;34m-\u001B[0m \u001B[0mlastminj\u001B[0m\u001B[0;34m:\u001B[0m\u001B[0mmaxj\u001B[0m \u001B[0;34m-\u001B[0m \u001B[0mlastminj\u001B[0m\u001B[0;34m]\u001B[0m\u001B[0;34m)\u001B[0m\u001B[0;34m\u001B[0m\u001B[0;34m\u001B[0m\u001B[0m\n\u001B[0m\u001B[1;32m   6515\u001B[0m         \u001B[0mcurlen\u001B[0m \u001B[0;34m=\u001B[0m \u001B[0mmaxj\u001B[0m \u001B[0;34m-\u001B[0m \u001B[0mminj\u001B[0m\u001B[0;34m\u001B[0m\u001B[0;34m\u001B[0m\u001B[0m\n\u001B[1;32m   6516\u001B[0m         \u001B[0;32mif\u001B[0m \u001B[0mlastlen\u001B[0m \u001B[0;34m>\u001B[0m \u001B[0mcurlen\u001B[0m\u001B[0;34m:\u001B[0m\u001B[0;34m\u001B[0m\u001B[0;34m\u001B[0m\u001B[0m\n",
      "\u001B[0;32m<__array_function__ internals>\u001B[0m in \u001B[0;36mcumsum\u001B[0;34m(*args, **kwargs)\u001B[0m\n",
      "\u001B[0;32m~/opt/anaconda3/envs/AI_ML_38/lib/python3.8/site-packages/numpy/core/fromnumeric.py\u001B[0m in \u001B[0;36mcumsum\u001B[0;34m(a, axis, dtype, out)\u001B[0m\n\u001B[1;32m   2481\u001B[0m \u001B[0;34m\u001B[0m\u001B[0m\n\u001B[1;32m   2482\u001B[0m     \"\"\"\n\u001B[0;32m-> 2483\u001B[0;31m     \u001B[0;32mreturn\u001B[0m \u001B[0m_wrapfunc\u001B[0m\u001B[0;34m(\u001B[0m\u001B[0ma\u001B[0m\u001B[0;34m,\u001B[0m \u001B[0;34m'cumsum'\u001B[0m\u001B[0;34m,\u001B[0m \u001B[0maxis\u001B[0m\u001B[0;34m=\u001B[0m\u001B[0maxis\u001B[0m\u001B[0;34m,\u001B[0m \u001B[0mdtype\u001B[0m\u001B[0;34m=\u001B[0m\u001B[0mdtype\u001B[0m\u001B[0;34m,\u001B[0m \u001B[0mout\u001B[0m\u001B[0;34m=\u001B[0m\u001B[0mout\u001B[0m\u001B[0;34m)\u001B[0m\u001B[0;34m\u001B[0m\u001B[0;34m\u001B[0m\u001B[0m\n\u001B[0m\u001B[1;32m   2484\u001B[0m \u001B[0;34m\u001B[0m\u001B[0m\n\u001B[1;32m   2485\u001B[0m \u001B[0;34m\u001B[0m\u001B[0m\n",
      "\u001B[0;32m~/opt/anaconda3/envs/AI_ML_38/lib/python3.8/site-packages/numpy/core/fromnumeric.py\u001B[0m in \u001B[0;36m_wrapfunc\u001B[0;34m(obj, method, *args, **kwds)\u001B[0m\n\u001B[1;32m     56\u001B[0m \u001B[0;34m\u001B[0m\u001B[0m\n\u001B[1;32m     57\u001B[0m     \u001B[0;32mtry\u001B[0m\u001B[0;34m:\u001B[0m\u001B[0;34m\u001B[0m\u001B[0;34m\u001B[0m\u001B[0m\n\u001B[0;32m---> 58\u001B[0;31m         \u001B[0;32mreturn\u001B[0m \u001B[0mbound\u001B[0m\u001B[0;34m(\u001B[0m\u001B[0;34m*\u001B[0m\u001B[0margs\u001B[0m\u001B[0;34m,\u001B[0m \u001B[0;34m**\u001B[0m\u001B[0mkwds\u001B[0m\u001B[0;34m)\u001B[0m\u001B[0;34m\u001B[0m\u001B[0;34m\u001B[0m\u001B[0m\n\u001B[0m\u001B[1;32m     59\u001B[0m     \u001B[0;32mexcept\u001B[0m \u001B[0mTypeError\u001B[0m\u001B[0;34m:\u001B[0m\u001B[0;34m\u001B[0m\u001B[0;34m\u001B[0m\u001B[0m\n\u001B[1;32m     60\u001B[0m         \u001B[0;31m# A TypeError occurs if the object does have such a method in its\u001B[0m\u001B[0;34m\u001B[0m\u001B[0;34m\u001B[0m\u001B[0;34m\u001B[0m\u001B[0m\n",
      "\u001B[0;31mKeyboardInterrupt\u001B[0m: "
     ]
    }
   ],
   "source": [
    "data_for_check = X_test.copy()\n",
    "list_dist = []\n",
    "list_dist_d= []\n",
    "list_dist_nd= []\n",
    "\n",
    "list_drift = []\n",
    "list_drift_index = []\n",
    "idx =0\n",
    "cc = 0\n",
    "for index, row in data_for_check.iterrows(): \n",
    "    cd_preds = cd.predict(data_for_check.iloc[idx].values.reshape(1,data_for_check.shape[1]))\n",
    "    if cd_preds['data']['is_drift']==1:\n",
    "        list_drift_index.append(idx)\n",
    "        list_dist_d.append(np.min(cd_preds['data']['p_val']))\n",
    "        \n",
    "    else:\n",
    "        list_dist_nd.append(np.min(cd_preds['data']['p_val']))\n",
    "\n",
    "    list_drift.append(cd_preds['data']['is_drift'])\n",
    "    list_dist.append(np.mean(cd_preds['data']['p_val']))\n",
    "    idx +=1\n",
    "len (list_drift_index)"
   ]
  },
  {
   "cell_type": "code",
   "execution_count": null,
   "metadata": {
    "pycharm": {
     "is_executing": true
    }
   },
   "outputs": [],
   "source": [
    "minioClient = get_s3_server()\n",
    "experiment_id = \"\"\n",
    "# minioClient.fput_object(bucket_name='models', object_name=experiment_id  +'/CustomerChurnDriftModel.sav' , file_path='./CustomerChurnDriftModel.sav')\n",
    "# minioClient.fput_object(bucket_name='models', object_name=experiment_id  +'/CustomerChurnPredictorAlibi.dill' , file_path='./CustomerChurnPredictorAlibi.dill')\n"
   ]
  },
  {
   "cell_type": "code",
   "execution_count": null,
   "metadata": {
    "pycharm": {
     "is_executing": true
    }
   },
   "outputs": [],
   "source": [
    "\n",
    "data['Churn'] = data['Churn'].map({'Yes': 1, 'No': 0})\n",
    "\n",
    "data.replace(\" \", np.nan, inplace=True)\n",
    "\n",
    "data['TotalCharges'] = pd.to_numeric(data['TotalCharges'])\n",
    "\n",
    "mean = data['TotalCharges'].mean()\n",
    "data.fillna(mean, inplace=True)\n",
    "\n",
    "\n",
    "names = ['gender', 'Partner', 'Dependents', 'PhoneService', 'StreamingTV', 'StreamingMovies', 'PaperlessBilling']\n",
    "# for column in names:\n",
    "#     labelencoder(column)\n",
    "data_enc = data\n",
    "data_enc = data_enc.drop(['Churn', 'customerID'], axis=1)\n",
    "enc = ce.ordinal.OrdinalEncoder(cols=names)\n",
    "enc.fit(data_enc)\n",
    "# ###\n",
    "# filename_oe = 'OrdinalEncoder_drift.sav'\n",
    "# pickle.dump(enc, open(filename_oe, 'wb'))\n",
    " \n",
    "# # some time later...\n",
    " \n",
    "# # load the model from disk\n",
    "# enc = pickle.load(open(filename_oe, 'rb'))\n",
    "# ###\n",
    "labelled_set = enc.transform(data_enc)\n",
    "\n",
    "names = ['MultipleLines', 'InternetService', 'Contract', 'PaymentMethod', 'OnlineSecurity', 'OnlineBackup',\n",
    "         'DeviceProtection', 'TechSupport']\n",
    "\n",
    "ohe = ce.OneHotEncoder(cols=names)\n",
    "data_ohe = data\n",
    "data_ohe = data_ohe.drop(['Churn', 'customerID'], axis=1)\n",
    "ohe.fit(data_ohe)\n",
    "# ###\n",
    "# filename_ohe = 'OneHotEncoder_drift.sav'\n",
    "# pickle.dump(ohe, open(filename_ohe, 'wb'))\n",
    " \n",
    "# # some time later...\n",
    " \n",
    "# # load the model from disk\n",
    "# ohe = pickle.load(open(filename_ohe, 'rb'))\n",
    "###\n",
    "final_set = ohe.transform(labelled_set)\n",
    "columns_name =final_set.columns\n",
    "final_set.head(5)\n"
   ]
  },
  {
   "cell_type": "code",
   "execution_count": null,
   "metadata": {
    "pycharm": {
     "is_executing": true
    }
   },
   "outputs": [],
   "source": [
    "from sklearn.model_selection import train_test_split\n",
    "labels = data['Churn']\n",
    "X_train, X_test, Y_train, Y_test = train_test_split(final_set, labels, test_size=0.3)\n",
    "\n",
    "Y = data['Churn']\n",
    "X = final_set"
   ]
  },
  {
   "cell_type": "code",
   "execution_count": null,
   "metadata": {
    "pycharm": {
     "is_executing": true
    }
   },
   "outputs": [],
   "source": [
    "from tensorflow.keras.layers import Dense, InputLayer, Input,Conv1D,Flatten,Embedding\n",
    "import tensorflow as tf\n",
    "\n",
    "\n",
    "n_features = X_train.shape[1]\n",
    "\n",
    "proj = tf.keras.Sequential(\n",
    "  [\n",
    "      InputLayer(input_shape=( n_features,1), name=\"encode1\"),\n",
    "\n",
    "      Conv1D(32, 4, strides=1, padding='same', activation=tf.nn.relu),\n",
    "      Conv1D(64, 4, strides=1, padding='same', activation=tf.nn.relu),\n",
    "      Conv1D(4, 4, strides=1, padding='same', activation=tf.nn.relu),\n",
    "      Flatten(),\n",
    "  ]\n",
    ")\n",
    "\n",
    "proj.summary()\n"
   ]
  },
  {
   "cell_type": "code",
   "execution_count": null,
   "metadata": {
    "pycharm": {
     "is_executing": true
    }
   },
   "outputs": [],
   "source": [
    "from alibi_detect.utils.tensorflow.kernels import DeepKernel\n",
    "kernel = DeepKernel(proj, eps=0.01)\n"
   ]
  },
  {
   "cell_type": "code",
   "execution_count": null,
   "metadata": {
    "pycharm": {
     "is_executing": true
    }
   },
   "outputs": [],
   "source": [
    "# x = X_train.values.reshape(X_train.values.shape[0], X_train.values.shape[1], 1)\n",
    "# x_t = X_test.values.reshape(X_test.values.shape[0], X_test.values.shape[1], 1).astype('float32')\n",
    "x = X_train.values.reshape(X_train.values.shape[0],n_features,1).astype('float32')\n",
    "x_t = X_test.values.reshape(X_test.values.shape[0],n_features,1).astype('float32')\n",
    "x_t.shape\n",
    "\n"
   ]
  },
  {
   "cell_type": "code",
   "execution_count": null,
   "metadata": {
    "pycharm": {
     "is_executing": true
    }
   },
   "outputs": [],
   "source": [
    "\n",
    "from alibi_detect.cd import LearnedKernelDrift\n",
    "cd = LearnedKernelDrift(x, kernel, backend='tensorflow', p_val=.05, epochs=1)"
   ]
  },
  {
   "cell_type": "code",
   "execution_count": null,
   "metadata": {
    "pycharm": {
     "is_executing": true
    }
   },
   "outputs": [],
   "source": [
    "x_t0 = x_t[0].reshape(1,n_features,1).astype('float32')\n",
    "\n",
    "x_t0.shape\n"
   ]
  },
  {
   "cell_type": "code",
   "execution_count": null,
   "metadata": {
    "pycharm": {
     "is_executing": true
    }
   },
   "outputs": [],
   "source": [
    "data_for_check = X_test.copy()\n",
    "\n",
    "cd_preds = cd.predict(x_t0)"
   ]
  },
  {
   "cell_type": "code",
   "execution_count": null,
   "metadata": {
    "pycharm": {
     "is_executing": true
    }
   },
   "outputs": [],
   "source": [
    "data_for_check = X_test.copy()\n",
    "list_dist = []\n",
    "list_dist_d= []\n",
    "list_dist_nd= []\n",
    "\n",
    "list_drift = []\n",
    "list_drift_index = []\n",
    "idx =0\n",
    "cc = 0\n",
    "for index, row in data_for_check.iterrows(): \n",
    "    x_t0 = x_t[idx].reshape(1,n_features,1).astype('float32')\n",
    "    cd_preds = cd.predict(x_t0)\n",
    "    # cd_preds = cd.predict(data_for_check.iloc[idx].values.reshape(1,data_for_check.shape[1]))\n",
    "    if cd_preds['data']['is_drift']==1:\n",
    "        list_drift_index.append(idx)\n",
    "        list_dist_d.append(np.min(cd_preds['data']['p_val']))\n",
    "        \n",
    "    else:\n",
    "        list_dist_nd.append(np.min(cd_preds['data']['p_val']))\n",
    "\n",
    "    list_drift.append(cd_preds['data']['is_drift'])\n",
    "    list_dist.append(np.mean(cd_preds['data']['p_val']))\n",
    "    idx +=1\n",
    "len (list_drift_index)"
   ]
  },
  {
   "cell_type": "code",
   "execution_count": null,
   "metadata": {
    "pycharm": {
     "is_executing": true
    }
   },
   "outputs": [],
   "source": []
  }
 ],
 "metadata": {
  "interpreter": {
   "hash": "ce4b14861374cad230d871e5c41f613d2db9594bea8f9eafa29f3d4d2b36a9d4"
  },
  "kernelspec": {
   "display_name": "Python 3",
   "language": "python",
   "name": "python3"
  },
  "language_info": {
   "codemirror_mode": {
    "name": "ipython",
    "version": 3
   },
   "file_extension": ".py",
   "mimetype": "text/x-python",
   "name": "python",
   "nbconvert_exporter": "python",
   "pygments_lexer": "ipython3",
   "version": "3.8.6"
  }
 },
 "nbformat": 4,
 "nbformat_minor": 4
}