{
 "cells": [
  {
   "cell_type": "code",
   "execution_count": 6,
   "id": "a8f4f7ce-3749-403a-9dd5-9883f2ccdcc3",
   "metadata": {},
   "outputs": [
    {
     "name": "stdout",
     "output_type": "stream",
     "text": [
      "Initializing environment variables for Spark\n",
      "Found existing cluster name: spark-cluster-rbrigoli\n",
      "Cluter name: spark-cluster-rbrigoli\n",
      "PYSPARK_SUBMIT_ARGS:  --master spark://spark-cluster-rbrigoli:7077 pyspark-shell \n",
      "Driver IP address: 10.130.3.252\n",
      "Creating a spark session...\n",
      "Spark session created\n"
     ]
    }
   ],
   "source": [
    "from pyspark.sql import SparkSession\n",
    "import spark_util\n",
    "\n",
    "\n",
    "spark = spark_util.getOrCreateSparkSession(\"Hello from Notebook\")\n",
    "sc = spark.sparkContext\n",
    "\n"
   ]
  },
  {
   "cell_type": "code",
   "execution_count": 7,
   "id": "f670c316-6277-40b8-b65e-0bccc21b0295",
   "metadata": {},
   "outputs": [
    {
     "name": "stdout",
     "output_type": "stream",
     "text": [
      "[1, 4, 9, 16, 25, 36, 49, 64, 81, 100, 121, 144, 169, 196, 225, 256, 289, 324, 361, 400]\n"
     ]
    }
   ],
   "source": [
    "nums = sc.parallelize([1,2,3,4,5,6,7,8,9,10,11,12,13,14,15,16,17,18,19,20])\n",
    "print(nums.map(lambda x: x*x).collect())"
   ]
  },
  {
   "cell_type": "code",
   "execution_count": 8,
   "id": "47613581-72c6-41f1-99d1-91ab89de9699",
   "metadata": {},
   "outputs": [],
   "source": [
    "spark.stop()"
   ]
  },
  {
   "cell_type": "code",
   "execution_count": 11,
   "id": "e3679fc0-7bf1-4335-acf7-e86b9011a2e4",
   "metadata": {},
   "outputs": [
    {
     "name": "stdout",
     "output_type": "stream",
     "text": [
      "['aiohttp', 'alembic', 'ansiwrap', 'anyio', 'appdirs', 'argo-workflows', 'argon2-cffi', 'astroid', 'async-generator', 'async-timeout', 'attrdict', 'attrs', 'autopep8', 'Babel', 'backcall', 'backports.entry-points-selectable', 'backports.zoneinfo', 'bcrypt', 'beautifulsoup4', 'black', 'bleach', 'bump2version', 'bumpversion', 'cachetools', 'certifi', 'certipy', 'cffi', 'chardet', 'charset-normalizer', 'click', 'cloudpickle', 'colorama', 'commonmark', 'configparser', 'coverage', 'cryptography', 'csscompressor', 'daiquiri', 'debugpy', 'decorator', 'defusedxml', 'delegator.py', 'Deprecated', 'deprecation', 'dictdiffer', 'distlib', 'distro', 'docstring-parser', 'docutils', 'elyra', 'entrypoints', 'filelock', 'flake8', 'gitdb', 'GitPython', 'google-api-core', 'google-auth', 'google-cloud-core', 'google-cloud-storage', 'google-crc32c', 'google-resumable-media', 'googleapis-common-protos', 'greenlet', 'idna', 'importlib-metadata', 'importlib-resources', 'invectio', 'ipykernel', 'ipynbname', 'ipython', 'ipython-genutils', 'isort', 'jedi', 'Jinja2', 'json5', 'jsonformatter', 'jsonschema', 'jupyter-client', 'jupyter-contrib-core', 'jupyter-contrib-nbextensions', 'jupyter-core', 'jupyter-highlight-selected-word', 'jupyter-kernel-gateway', 'jupyter-latex-envs', 'jupyter-lsp', 'jupyter-nbextensions-configurator', 'jupyter-nbrequirements', 'jupyter-nbutils', 'jupyter-packaging', 'jupyter-require', 'jupyter-resource-usage', 'jupyter-server', 'jupyter-server-mathjax', 'jupyter-telemetry', 'jupyterhub', 'jupyterlab', 'jupyterlab-git', 'jupyterlab-lsp', 'jupyterlab-pygments', 'jupyterlab-requirements', 'jupyterlab-server', 'keyring', 'kfp', 'kfp-notebook', 'kfp-pipeline-spec', 'kfp-server-api', 'kfp-tekton', 'kubernetes', 'lazy-object-proxy', 'lxml', 'Mako', 'MarkupSafe', 'matplotlib-inline', 'mccabe', 'micropipenv', 'minio', 'mistune', 'mock', 'mod-wsgi', 'multidict', 'mypy-extensions', 'nbclassic', 'nbclient', 'nbconvert', 'nbdime', 'nbformat', 'nest-asyncio', 'notebook', 'oauthlib', 'openshift', 'openshift-client', 'packaging', 'pamela', 'pandocfilters', 'papermill', 'paramiko', 'parso', 'pathspec', 'pexpect', 'pickleshare', 'pipenv', 'pkginfo', 'platformdirs', 'pluggy', 'prometheus-client', 'prompt-toolkit', 'protobuf', 'psutil', 'ptyprocess', 'py', 'py4j', 'pyasn1', 'pyasn1-modules', 'pycodestyle', 'pycparser', 'pydocstyle', 'pyelftools', 'pyflakes', 'PyGithub', 'Pygments', 'PyJWT', 'pylint', 'PyNaCl', 'pyOpenSSL', 'pyparsing', 'pyrsistent', 'pyspark', 'python-dateutil', 'python-json-logger', 'python-jsonrpc-server', 'python-language-server', 'python-string-utils', 'pytz', 'PyYAML', 'pyzmq', 'readme-renderer', 'regex', 'requests', 'requests-oauthlib', 'requests-toolbelt', 'requests-unixsocket', 'rfc3986', 'rfc3986-validator', 'rfc5424-logging-handler', 'rich', 'rope', 'rsa', 'ruamel.yaml', 'ruamel.yaml.clib', 'semantic-version', 'Send2Trash', 'sentry-sdk', 'six', 'smmap', 'sniffio', 'snowballstemmer', 'SQLAlchemy', 'strip-hints', 'supervisor', 'tabulate', 'tenacity', 'termcolor', 'terminado', 'testpath', 'textwrap3', 'thamos', 'thoth-analyzer', 'thoth-common', 'thoth-python', 'toml', 'tomlkit', 'tornado', 'tox', 'tqdm', 'traitlets', 'twine', 'typing-extensions', 'tzlocal', 'ujson', 'urllib3', 'virtualenv', 'virtualenv-clone', 'watchdog', 'wcwidth', 'webencodings', 'websocket-client', 'wrapt', 'yapf', 'yarl', 'yaspin', 'zipp']\n"
     ]
    }
   ],
   "source": [
    "import subprocess\n",
    "import sys\n",
    "# get all installed packages as installed_packages\n",
    "reqs = subprocess.check_output([sys.executable, '-m', 'pip', 'freeze'])\n",
    "installed_packages = [r.decode().split('==')[0] for r in reqs.split()]\n",
    "\n",
    "print(installed_packages)"
   ]
  },
  {
   "cell_type": "code",
   "execution_count": null,
   "id": "be6325b0-aeff-4441-810a-63005921b5a9",
   "metadata": {},
   "outputs": [],
   "source": []
  }
 ],
 "metadata": {
  "kernelspec": {
   "display_name": "Python 3",
   "language": "python",
   "name": "python3"
  },
  "language_info": {
   "codemirror_mode": {
    "name": "ipython",
    "version": 3
   },
   "file_extension": ".py",
   "mimetype": "text/x-python",
   "name": "python",
   "nbconvert_exporter": "python",
   "pygments_lexer": "ipython3",
   "version": "3.8.6"
  }
 },
 "nbformat": 4,
 "nbformat_minor": 5
}
