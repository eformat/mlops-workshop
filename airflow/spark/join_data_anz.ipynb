{
 "cells": [
  {
   "cell_type": "markdown",
   "metadata": {},
   "source": [
    "## Data Processing Using Apache Spark on Openshift\n",
    "\n",
    "This notebook server is hosted on the OpenShift platform which provides a dedicated notebook server for each individual user. The platform takes care of provisioning the cluster resources including the allocation related to storage resources."
   ]
  },
  {
   "cell_type": "markdown",
   "metadata": {},
   "source": [
    "### Manually set variables in notebook mode"
   ]
  },
  {
   "cell_type": "code",
   "execution_count": 4,
   "metadata": {
    "pycharm": {
     "name": "#%%\n"
    }
   },
   "outputs": [],
   "source": [
    "# import os\n",
    "# os.environ['S3_ENDPOINT'] = \"http://minio-ml-workshop:9000\""
   ]
  },
  {
   "cell_type": "markdown",
   "metadata": {},
   "source": [
    "###  Prepare S3 URL\n",
    "Define a function that will convert an S3 URL into URL that works with MINIO"
   ]
  },
  {
   "cell_type": "code",
   "execution_count": 5,
   "metadata": {},
   "outputs": [],
   "source": [
    "import os, socket\n",
    "from urllib.parse import urlparse\n",
    "\n",
    "# Get the S3 URL information and use it in Spark Context\n",
    "# NOTE: S3 Hadoop API for spark does not work with domain name, use IP address instead\n",
    "def domain_to_ip(url):\n",
    "    domain = urlparse(url).netloc.split(\":\")[0]\n",
    "    ip_address = socket.gethostbyname(domain)\n",
    "    ip_url = url.replace(domain, ip_address)\n",
    "    return ip_url"
   ]
  },
  {
   "cell_type": "markdown",
   "metadata": {},
   "source": [
    "###  Connect to Spark Cluster provided by OpenShift Platform\n",
    "Using the given spark_util library, create a Spark session that connects to a Spark cluster dedicated for this notebook. You may add additional Spark submit arguments in the second argument of spark_util.getOrCreateSparkSession() such as additional packages and or override some configuration items."
   ]
  },
  {
   "cell_type": "code",
   "execution_count": 6,
   "metadata": {
    "pycharm": {
     "name": "#%%\n"
    }
   },
   "outputs": [
    {
     "name": "stdout",
     "output_type": "stream",
     "text": [
      "Initializing environment variables for Spark\n",
      "Cluter name: spark-cluster-rbrigoli\n",
      "PYSPARK_SUBMIT_ARGS: --conf spark.hadoop.fs.s3a.endpoint=http://172.30.29.255:9000 --conf spark.hadoop.fs.s3a.access.key=minio --conf spark.hadoop.fs.s3a.secret.key=minio123 --conf spark.hadoop.fs.s3a.path.style.access=true --conf spark.hadoop.fs.s3a.impl=org.apache.hadoop.fs.s3a.S3AFileSystem --conf spark.hadoop.fs.s3a.multipart.size=104857600 --conf spark.jars.ivy=/tmp --packages org.apache.hadoop:hadoop-aws:3.2.0 --master spark://spark-cluster-rbrigoli:7077 pyspark-shell \n",
      "Driver IP address: 10.130.3.188\n",
      "Creating a spark session...\n",
      "Spark session created\n"
     ]
    }
   ],
   "source": [
    "import spark_util\n",
    "\n",
    "submit_args = f\"--conf spark.hadoop.fs.s3a.endpoint={domain_to_ip(os.environ['S3_ENDPOINT_URL'])} \\\n",
    "--conf spark.hadoop.fs.s3a.access.key=minio \\\n",
    "--conf spark.hadoop.fs.s3a.secret.key=minio123 \\\n",
    "--conf spark.hadoop.fs.s3a.path.style.access=true \\\n",
    "--conf spark.hadoop.fs.s3a.impl=org.apache.hadoop.fs.s3a.S3AFileSystem \\\n",
    "--conf spark.hadoop.fs.s3a.multipart.size=104857600 \\\n",
    "--conf spark.jars.ivy=/tmp \\\n",
    "--packages org.apache.hadoop:hadoop-aws:3.2.0\"\n",
    "# ,com.amazonaws:aws-java-sdk:1.11.968\"\n",
    "\n",
    "spark = spark_util.getOrCreateSparkSession(\"ANZ Join Tables\", submit_args)"
   ]
  },
  {
   "cell_type": "markdown",
   "metadata": {},
   "source": [
    "###  Create dataframes from CSV files\n",
    "\n",
    "Using Spark, read the CSV filed from S3 storage and load them as Spark dataframes."
   ]
  },
  {
   "cell_type": "code",
   "execution_count": 22,
   "metadata": {
    "pycharm": {
     "name": "#%%\n"
    }
   },
   "outputs": [
    {
     "name": "stdout",
     "output_type": "stream",
     "text": [
      "root\n",
      " |-- CNCRN_ID: string (nullable = true)\n",
      " |-- SOURCE_SYSTEM: string (nullable = true)\n",
      " |-- RECVD_D: string (nullable = true)\n",
      " |-- CNCRN_DS: string (nullable = true)\n",
      " |-- STAT: string (nullable = true)\n",
      "\n",
      "root\n",
      " |-- CNCRN_ID: string (nullable = true)\n",
      " |-- ISSUE_DS: string (nullable = true)\n",
      " |-- END_DATE: string (nullable = true)\n",
      "\n",
      "root\n",
      " |-- CASENUMBER_C: string (nullable = true)\n",
      " |-- ISSUE_DS: string (nullable = true)\n",
      " |-- END_DATE: string (nullable = true)\n",
      "\n"
     ]
    }
   ],
   "source": [
    "df_cfms_cncrn = spark.read\\\n",
    "                .options(delimeter=',', inferSchema='True', header='True') \\\n",
    "                .csv(\"s3a://raw-data-anz/CFMS_CNCRN.csv\")\n",
    "df_cfms_cncrn.printSchema()\n",
    "\n",
    "df_cfms_issue = spark.read\\\n",
    "                .options(delimeter=',', inferSchema='True', header='True') \\\n",
    "                .csv(\"s3a://raw-data-anz/CFMS_ISSUE.csv\")\n",
    "df_cfms_issue.printSchema()\n",
    "\n",
    "df_salesforce = spark.read\\\n",
    "                .options(delimeter=',', inferSchema='True', header='True') \\\n",
    "                .csv(\"s3a://raw-data-anz/SALESFORCECMOSAU_CASE.csv\")\n",
    "df_salesforce.printSchema()"
   ]
  },
  {
   "cell_type": "markdown",
   "metadata": {},
   "source": [
    "### Join dataframes\n",
    "Perform a full outer join on two dataframes using ```CNCRN_ID``` as key"
   ]
  },
  {
   "cell_type": "code",
   "execution_count": 35,
   "metadata": {
    "pycharm": {
     "name": "#%%\n"
    }
   },
   "outputs": [
    {
     "name": "stdout",
     "output_type": "stream",
     "text": [
      "+--------+-------------+----------+--------------------+-------+--------------------+----------+------------+--------------------+-----------+\n",
      "|CNCRN_ID|SOURCE_SYSTEM|   RECVD_D|            CNCRN_DS|   STAT|            ISSUE_DS|  END_DATE|CASENUMBER_C|         SF_ISSUE_DS|SF_END_DATE|\n",
      "+--------+-------------+----------+--------------------+-------+--------------------+----------+------------+--------------------+-----------+\n",
      "|    A111|         CFMS|2019-06-14|Something's wrong...|   Open|Something's wrong...|2025-01-01|        null|                null|       null|\n",
      "|    A112|         CFMS|2020-06-12|Something's wrong...|   Open|Something's wrong...|2025-01-01|        null|                null|       null|\n",
      "|    A113|         CFMS|2021-06-01|Something's wrong...|   Open|Something's wrong...|2025-01-01|        null|                null|       null|\n",
      "|    A114|         CFMS|2019-07-23|Something's wrong...|   Open|Something's wrong...|2025-01-01|        null|                null|       null|\n",
      "|    A115|         CFMS|2019-08-24|Something's wrong...| Closed|Something's wrong...|2025-01-01|        null|                null|       null|\n",
      "|    A116|   SALESFORCE|2019-09-11|Something's wrong...| Closed|                null|      null|        A116|Something's wrong...| 2029-05-01|\n",
      "|    A117|   SALESFORCE|2019-10-12|Something's wrong...|Pending|                null|      null|        A117|Something's wrong...| 2029-05-01|\n",
      "|    A118|   SALESFORCE|2020-06-13|Something's wrong...|Pending|                null|      null|        A118|Something's wrong...| 2029-05-01|\n",
      "|    A119|   SALESFORCE|2020-11-14|Something's wrong...|   Open|                null|      null|        A119|Something's wrong...| 2029-05-01|\n",
      "|    A120|   SALESFORCE|2020-11-14|Something's wrong...|   Open|                null|      null|        A120|Something's wrong...| 2029-05-10|\n",
      "|    A121|         CFMS|2019-06-14|Something's wrong...|   Open|Something's wrong...|2026-01-01|        null|                null|       null|\n",
      "|    A122|         CFMS|2020-06-12|Something's wrong...|   Open|Something's wrong...|2026-01-01|        null|                null|       null|\n",
      "|    A123|         CFMS|2021-06-01|Something's wrong...|   Open|Something's wrong...|2026-01-01|        null|                null|       null|\n",
      "|    A124|         CFMS|2019-07-23|Something's wrong...|   Open|Something's wrong...|2026-01-01|        null|                null|       null|\n",
      "|    A125|         CFMS|2019-08-24|Something's wrong...| Closed|Something's wrong...|2026-01-01|        null|                null|       null|\n",
      "|    A126|   SALESFORCE|2019-09-11|Something's wrong...| Closed|                null|      null|        A126|Something's wrong...| 2029-08-01|\n",
      "|    A127|   SALESFORCE|2019-10-12|Something's wrong...|Pending|                null|      null|        A127|Something's wrong...| 2029-08-01|\n",
      "|    A128|   SALESFORCE|2020-06-13|Something's wrong...|Pending|                null|      null|        A128|Something's wrong...| 2029-08-01|\n",
      "|    A129|   SALESFORCE|2020-11-14|Something's wrong...|   Open|                null|      null|        A129|Something's wrong...| 2029-08-01|\n",
      "|    A130|   SALESFORCE|2020-11-14|Something's wrong...|   Open|                null|      null|        A130|Something's wrong...| 2029-08-10|\n",
      "+--------+-------------+----------+--------------------+-------+--------------------+----------+------------+--------------------+-----------+\n",
      "\n"
     ]
    }
   ],
   "source": [
    "from pyspark.sql.functions import col\n",
    "\n",
    "df_cfms_joined = df_cfms_cncrn.join(df_cfms_issue, \"CNCRN_ID\", how=\"left_outer\")\n",
    "#df_cfms_joined.printSchema()\n",
    "\n",
    "df_salesforce_alias = df_salesforce.select(col(\"CASENUMBER_C\"), col(\"ISSUE_DS\").alias(\"SF_ISSUE_DS\"), col(\"END_DATE\").alias(\"SF_END_DATE\"))\n",
    "\n",
    "join_pred = df_cfms_joined.CNCRN_ID == df_salesforce_alias.CASENUMBER_C\n",
    "\n",
    "df_cfms_salesforce_joined = df_cfms_joined.join(df_salesforce_alias, join_pred, how=\"left_outer\")\n",
    "#df_cfms_salesforce_joined.printSchema()\n",
    "\n",
    "\n",
    "df_cfms_salesforce_joined.show()"
   ]
  },
  {
   "cell_type": "markdown",
   "metadata": {},
   "source": [
    "###  Push the prepared data to the object storage and stop the Spark application\n",
    "Write the joined dataframe to an S3 bucket as CSV and as Parquet file."
   ]
  },
  {
   "cell_type": "code",
   "execution_count": 32,
   "metadata": {
    "pycharm": {
     "name": "#%%\n"
    }
   },
   "outputs": [],
   "source": [
    "file_location = \"s3a://data-anz/cfms_concern\"\n",
    "df_cfms_salesforce_joined.coalesce(1).write.mode(\"overwrite\")\\\n",
    "    .option(\"header\", \"true\")\\\n",
    "    .format(\"csv\").save(file_location)"
   ]
  },
  {
   "cell_type": "code",
   "execution_count": 34,
   "metadata": {},
   "outputs": [],
   "source": [
    "file_location = \"s3a://data-anz/cfms_concern_parquet\"\n",
    "df_cfms_salesforce_joined.coalesce(1).write.parquet(file_location)"
   ]
  },
  {
   "cell_type": "markdown",
   "metadata": {},
   "source": [
    "### Query Parquet file"
   ]
  },
  {
   "cell_type": "code",
   "execution_count": 50,
   "metadata": {},
   "outputs": [
    {
     "name": "stdout",
     "output_type": "stream",
     "text": [
      "+--------+-------------+----------+--------------------+-------+--------------------+----------+------------+--------------------+-----------+\n",
      "|CNCRN_ID|SOURCE_SYSTEM|   RECVD_D|            CNCRN_DS|   STAT|            ISSUE_DS|  END_DATE|CASENUMBER_C|         SF_ISSUE_DS|SF_END_DATE|\n",
      "+--------+-------------+----------+--------------------+-------+--------------------+----------+------------+--------------------+-----------+\n",
      "|    A111|         CFMS|2019-06-14|Something's wrong...|   Open|Something's wrong...|2025-01-01|        null|                null|       null|\n",
      "|    A112|         CFMS|2020-06-12|Something's wrong...|   Open|Something's wrong...|2025-01-01|        null|                null|       null|\n",
      "|    A113|         CFMS|2021-06-01|Something's wrong...|   Open|Something's wrong...|2025-01-01|        null|                null|       null|\n",
      "|    A114|         CFMS|2019-07-23|Something's wrong...|   Open|Something's wrong...|2025-01-01|        null|                null|       null|\n",
      "|    A115|         CFMS|2019-08-24|Something's wrong...| Closed|Something's wrong...|2025-01-01|        null|                null|       null|\n",
      "|    A116|   SALESFORCE|2019-09-11|Something's wrong...| Closed|                null|      null|        A116|Something's wrong...| 2029-05-01|\n",
      "|    A117|   SALESFORCE|2019-10-12|Something's wrong...|Pending|                null|      null|        A117|Something's wrong...| 2029-05-01|\n",
      "|    A118|   SALESFORCE|2020-06-13|Something's wrong...|Pending|                null|      null|        A118|Something's wrong...| 2029-05-01|\n",
      "|    A119|   SALESFORCE|2020-11-14|Something's wrong...|   Open|                null|      null|        A119|Something's wrong...| 2029-05-01|\n",
      "|    A120|   SALESFORCE|2020-11-14|Something's wrong...|   Open|                null|      null|        A120|Something's wrong...| 2029-05-10|\n",
      "|    A121|         CFMS|2019-06-14|Something's wrong...|   Open|Something's wrong...|2026-01-01|        null|                null|       null|\n",
      "|    A122|         CFMS|2020-06-12|Something's wrong...|   Open|Something's wrong...|2026-01-01|        null|                null|       null|\n",
      "|    A123|         CFMS|2021-06-01|Something's wrong...|   Open|Something's wrong...|2026-01-01|        null|                null|       null|\n",
      "|    A124|         CFMS|2019-07-23|Something's wrong...|   Open|Something's wrong...|2026-01-01|        null|                null|       null|\n",
      "|    A125|         CFMS|2019-08-24|Something's wrong...| Closed|Something's wrong...|2026-01-01|        null|                null|       null|\n",
      "|    A126|   SALESFORCE|2019-09-11|Something's wrong...| Closed|                null|      null|        A126|Something's wrong...| 2029-08-01|\n",
      "|    A127|   SALESFORCE|2019-10-12|Something's wrong...|Pending|                null|      null|        A127|Something's wrong...| 2029-08-01|\n",
      "|    A128|   SALESFORCE|2020-06-13|Something's wrong...|Pending|                null|      null|        A128|Something's wrong...| 2029-08-01|\n",
      "|    A129|   SALESFORCE|2020-11-14|Something's wrong...|   Open|                null|      null|        A129|Something's wrong...| 2029-08-01|\n",
      "|    A130|   SALESFORCE|2020-11-14|Something's wrong...|   Open|                null|      null|        A130|Something's wrong...| 2029-08-10|\n",
      "+--------+-------------+----------+--------------------+-------+--------------------+----------+------------+--------------------+-----------+\n",
      "\n",
      "+--------+----------+----------+--------------------+-------+--------------------+----------+\n",
      "|CNCRN_ID|    Source|Date Recvd| Concern Description| Status|   Issue Description|  End Date|\n",
      "+--------+----------+----------+--------------------+-------+--------------------+----------+\n",
      "|    A111|      CFMS|2019-06-14|Something's wrong...|   Open|Something's wrong...|2025-01-01|\n",
      "|    A112|      CFMS|2020-06-12|Something's wrong...|   Open|Something's wrong...|2025-01-01|\n",
      "|    A113|      CFMS|2021-06-01|Something's wrong...|   Open|Something's wrong...|2025-01-01|\n",
      "|    A114|      CFMS|2019-07-23|Something's wrong...|   Open|Something's wrong...|2025-01-01|\n",
      "|    A115|      CFMS|2019-08-24|Something's wrong...| Closed|Something's wrong...|2025-01-01|\n",
      "|    A116|SALESFORCE|2019-09-11|Something's wrong...| Closed|Something's wrong...|2029-05-01|\n",
      "|    A117|SALESFORCE|2019-10-12|Something's wrong...|Pending|Something's wrong...|2029-05-01|\n",
      "|    A118|SALESFORCE|2020-06-13|Something's wrong...|Pending|Something's wrong...|2029-05-01|\n",
      "|    A119|SALESFORCE|2020-11-14|Something's wrong...|   Open|Something's wrong...|2029-05-01|\n",
      "|    A120|SALESFORCE|2020-11-14|Something's wrong...|   Open|Something's wrong...|2029-05-10|\n",
      "|    A121|      CFMS|2019-06-14|Something's wrong...|   Open|Something's wrong...|2026-01-01|\n",
      "|    A122|      CFMS|2020-06-12|Something's wrong...|   Open|Something's wrong...|2026-01-01|\n",
      "|    A123|      CFMS|2021-06-01|Something's wrong...|   Open|Something's wrong...|2026-01-01|\n",
      "|    A124|      CFMS|2019-07-23|Something's wrong...|   Open|Something's wrong...|2026-01-01|\n",
      "|    A125|      CFMS|2019-08-24|Something's wrong...| Closed|Something's wrong...|2026-01-01|\n",
      "|    A126|SALESFORCE|2019-09-11|Something's wrong...| Closed|Something's wrong...|2029-08-01|\n",
      "|    A127|SALESFORCE|2019-10-12|Something's wrong...|Pending|Something's wrong...|2029-08-01|\n",
      "|    A128|SALESFORCE|2020-06-13|Something's wrong...|Pending|Something's wrong...|2029-08-01|\n",
      "|    A129|SALESFORCE|2020-11-14|Something's wrong...|   Open|Something's wrong...|2029-08-01|\n",
      "|    A130|SALESFORCE|2020-11-14|Something's wrong...|   Open|Something's wrong...|2029-08-10|\n",
      "+--------+----------+----------+--------------------+-------+--------------------+----------+\n",
      "\n"
     ]
    }
   ],
   "source": [
    "from pyspark.sql.functions import *  \n",
    "\n",
    "file_location = \"s3a://data-anz/cfms_concern_parquet\"\n",
    "df_queried = spark.read.parquet(file_location)\n",
    "\n",
    "#df_queried.show()\n",
    "\n",
    "df_formatted = df_queried.select(col(\"CNCRN_ID\"), col(\"SOURCE_SYSTEM\").alias(\"Source\"),\\\n",
    "                                col(\"RECVD_D\").alias(\"Date Recvd\"), col(\"CNCRN_DS\").alias(\"Concern Description\"),\\\n",
    "                                col(\"STAT\").alias(\"Status\"), concat_ws(\"\", df_queried.ISSUE_DS, df_queried.SF_ISSUE_DS).alias(\"Issue Description\"),\\\n",
    "                                concat_ws(\"\", df_queried.END_DATE, df_queried.SF_END_DATE).alias(\"End Date\"))\n",
    "\n",
    "df_formatted.show()"
   ]
  },
  {
   "cell_type": "markdown",
   "metadata": {},
   "source": [
    "### Stop Spark Session\n",
    "Because this is last step of our data preparation, we don't need the Spark cluster anymore. We will stop the Spark context which will remove the Spark application from the cluster."
   ]
  },
  {
   "cell_type": "code",
   "execution_count": 9,
   "metadata": {
    "pycharm": {
     "name": "#%%\n"
    }
   },
   "outputs": [],
   "source": [
    "spark.stop()"
   ]
  },
  {
   "cell_type": "code",
   "execution_count": null,
   "metadata": {},
   "outputs": [],
   "source": []
  }
 ],
 "metadata": {
  "interpreter": {
   "hash": "545e036c4b32438aced1f6b3c8d38ca151d9c36189e05839cb0aa568fda70ddd"
  },
  "kernelspec": {
   "display_name": "Python 3",
   "language": "python",
   "name": "python3"
  },
  "language_info": {
   "codemirror_mode": {
    "name": "ipython",
    "version": 3
   },
   "file_extension": ".py",
   "mimetype": "text/x-python",
   "name": "python",
   "nbconvert_exporter": "python",
   "pygments_lexer": "ipython3",
   "version": "3.8.6"
  }
 },
 "nbformat": 4,
 "nbformat_minor": 4
}
