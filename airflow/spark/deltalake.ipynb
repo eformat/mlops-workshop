{
 "cells": [
  {
   "cell_type": "markdown",
   "metadata": {},
   "source": [
    "## Overview of Delta Lake and some use cases\n",
    "\n",
    "- https://github.com/delta-io\n",
    "\n",
    "Use Cases:\n",
    "\n",
    "- Schema Enforcement\n",
    "- Deletion\n",
    "- Updates\n",
    "- Merge\n",
    "- Time Travel\n",
    "\n",
    "![images/delta-lake.jpg](https://raw.githubusercontent.com/eformat/telco-churn-augmentation/develop/images/delta-lake.jpg)"
   ]
  },
  {
   "cell_type": "code",
   "execution_count": 1,
   "metadata": {},
   "outputs": [],
   "source": [
    "# notebook parameters\n",
    "import os, socket\n",
    "from urllib.parse import urlparse\n",
    "\n",
    "# Get the S3 URL information and use it in Spark Context\n",
    "# NOTE: S3 Hadoop API for spark does not work with domain name, use IP address instead\n",
    "def domain_to_ip(url):\n",
    "    domain = urlparse(url).netloc.split(\":\")[0]\n",
    "    ip_address = socket.gethostbyname(domain)\n",
    "    ip_url = url.replace(domain, ip_address)\n",
    "    return ip_url"
   ]
  },
  {
   "cell_type": "code",
   "execution_count": 2,
   "metadata": {},
   "outputs": [
    {
     "name": "stdout",
     "output_type": "stream",
     "text": [
      "Initializing environment variables for Spark\n",
      "Cluter name: spark-cluster-mhepburn\n",
      "PYSPARK_SUBMIT_ARGS: --conf spark.hadoop.fs.s3a.endpoint=http://172.30.29.255:9000 --conf spark.hadoop.fs.s3a.access.key=minio --conf spark.hadoop.fs.s3a.secret.key=minio123 --conf spark.hadoop.fs.s3a.path.style.access=true --conf spark.hadoop.fs.s3a.impl=org.apache.hadoop.fs.s3a.S3AFileSystem --conf spark.hadoop.fs.s3a.multipart.size=104857600 --conf spark.sql.extensions=io.delta.sql.DeltaSparkSessionExtension --conf spark.sql.catalog.spark_catalog=org.apache.spark.sql.delta.catalog.DeltaCatalog --conf spark.jars.ivy=/tmp --packages io.delta:delta-core_2.12:1.0.0,org.apache.hadoop:hadoop-aws:3.2.0 --master spark://spark-cluster-mhepburn:7077 pyspark-shell \n",
      "Driver IP address: 10.130.3.93\n",
      "Creating a spark session...\n",
      "Spark session created\n"
     ]
    },
    {
     "data": {
      "text/html": [
       "\n",
       "            <div>\n",
       "                <p><b>SparkSession - in-memory</b></p>\n",
       "                \n",
       "        <div>\n",
       "            <p><b>SparkContext</b></p>\n",
       "\n",
       "            <p><a href=\"http://10.130.3.93:4040\">Spark UI</a></p>\n",
       "\n",
       "            <dl>\n",
       "              <dt>Version</dt>\n",
       "                <dd><code>v3.1.2</code></dd>\n",
       "              <dt>Master</dt>\n",
       "                <dd><code>spark://spark-cluster-mhepburn:7077</code></dd>\n",
       "              <dt>AppName</dt>\n",
       "                <dd><code>Deltalake Demo</code></dd>\n",
       "            </dl>\n",
       "        </div>\n",
       "        \n",
       "            </div>\n",
       "        "
      ],
      "text/plain": [
       "<pyspark.sql.session.SparkSession at 0x7f57b161d490>"
      ]
     },
     "execution_count": 2,
     "metadata": {},
     "output_type": "execute_result"
    }
   ],
   "source": [
    "import spark_util\n",
    "\n",
    "os.environ['SPARK_CLUSTER'] = \"spark-cluster-mhepburn\"\n",
    "os.environ['WORKER_NODES'] = \"2\"\n",
    "os.environ['S3_ENDPOINT'] = \"http://minio-ml-workshop:9000\"\n",
    "\n",
    "submit_args = f\"--conf spark.hadoop.fs.s3a.endpoint={domain_to_ip(os.environ['S3_ENDPOINT_URL'])} \\\n",
    "--conf spark.hadoop.fs.s3a.access.key=minio \\\n",
    "--conf spark.hadoop.fs.s3a.secret.key=minio123 \\\n",
    "--conf spark.hadoop.fs.s3a.path.style.access=true \\\n",
    "--conf spark.hadoop.fs.s3a.impl=org.apache.hadoop.fs.s3a.S3AFileSystem \\\n",
    "--conf spark.hadoop.fs.s3a.multipart.size=104857600 \\\n",
    "--conf spark.sql.extensions=io.delta.sql.DeltaSparkSessionExtension \\\n",
    "--conf spark.sql.catalog.spark_catalog=org.apache.spark.sql.delta.catalog.DeltaCatalog \\\n",
    "--conf spark.jars.ivy=/tmp \\\n",
    "--packages io.delta:delta-core_2.12:1.0.0,org.apache.hadoop:hadoop-aws:3.2.0\"\n",
    "\n",
    "session = spark_util.getOrCreateSparkSession(\"Deltalake Demo\", submit_args)\n",
    "session"
   ]
  },
  {
   "cell_type": "markdown",
   "metadata": {},
   "source": [
    "### Schema Enforcement\n",
    "\n",
    "With Delta Lake “schema on write” is followed, so any changes in schema when writing will be tracked and any discrepancy will raise an exception at that time.\n",
    "\n",
    "Below code will make a dataframe of 1–5 numbers and we will write it as a Delta table."
   ]
  },
  {
   "cell_type": "code",
   "execution_count": 3,
   "metadata": {},
   "outputs": [
    {
     "name": "stdout",
     "output_type": "stream",
     "text": [
      "s3a://delta-sample/_delta_log\n",
      "s3a://delta-sample/delta_merge\n",
      "s3a://delta-sample/part-00000-2f2298f8-d19d-494c-bb09-b91c396fd64d-c000.snappy.parquet\n",
      "s3a://delta-sample/part-00000-3d72de99-6909-4ad1-9019-378e99d4aa2f-c000.snappy.parquet\n",
      "s3a://delta-sample/part-00000-67e07194-933d-461f-a46e-0fdc51bbf875-c000.snappy.parquet\n",
      "s3a://delta-sample/part-00000-7f2a635b-3419-40af-b453-83e874b5c755-c000.snappy.parquet\n",
      "s3a://delta-sample/part-00001-a46db623-883d-470f-9264-5096c2fa082d-c000.snappy.parquet\n",
      "s3a://delta-sample/part-00001-a4aa1b57-711c-4729-9579-1f8858408756-c000.snappy.parquet\n",
      "s3a://delta-sample/part-00002-47e7ae8f-c643-43ed-86c6-5eeae69de3bb-c000.snappy.parquet\n",
      "s3a://delta-sample/part-00002-b8e53f38-2045-4f75-bc37-5876d9bdbc72-c000.snappy.parquet\n",
      "s3a://delta-sample/part-00003-aee13190-b28a-4f4e-99a5-5b39ffadc7ae-c000.snappy.parquet\n",
      "s3a://delta-sample/part-00003-b200eb0b-31e0-479a-b64b-f7b3940b18a9-c000.snappy.parquet\n"
     ]
    }
   ],
   "source": [
    "# delete files\n",
    "myPath = 's3a://delta-sample/*'\n",
    "hadoopPath = session._jvm.org.apache.hadoop.fs.Path(myPath)\n",
    "\n",
    "config = session._jvm.org.apache.hadoop.conf.Configuration()\n",
    "config.set(\"fs.s3a.endpoint\", \"http://minio-ml-workshop:9000\")\n",
    "config.set(\"fs.s3a.access.key\",\"minio\")\n",
    "config.set(\"fs.s3a.secret.key\",\"minio123\")\n",
    "config.set(\"fs.s3a.path.style.access\",\"true\")\n",
    "config.set(\"fs.s3a.impl\",\"org.apache.hadoop.fs.s3a.S3AFileSystem\")\n",
    "\n",
    "hadoopFs = hadoopPath.getFileSystem(config)\n",
    "files = hadoopFs.globStatus(hadoopPath)\n",
    "for file in files:\n",
    "    print(file.getPath())\n",
    "    hadoopFs.delete(file.getPath())"
   ]
  },
  {
   "cell_type": "code",
   "execution_count": 4,
   "metadata": {},
   "outputs": [],
   "source": [
    "import shutil\n",
    "\n",
    "data = session.range(1,5)\n",
    "data.write.format(\"delta\").mode(\"overwrite\").save(\"s3a://delta-sample/\")"
   ]
  },
  {
   "cell_type": "code",
   "execution_count": 5,
   "metadata": {},
   "outputs": [
    {
     "name": "stdout",
     "output_type": "stream",
     "text": [
      "S3AFileStatus{path=s3a://delta-sample/_delta_log; isDirectory=true; modification_time=0; access_time=0; owner=1000760000; group=1000760000; permission=rwxrwxrwx; isSymlink=false; hasAcl=false; isEncrypted=false; isErasureCoded=false} isEmptyDirectory=FALSE\n",
      "S3AFileStatus{path=s3a://delta-sample/part-00000-05d9f0d5-cb9c-4854-84e8-36d63352ab22-c000.snappy.parquet; isDirectory=false; length=463; replication=1; blocksize=33554432; modification_time=1633995107045; access_time=0; owner=1000760000; group=1000760000; permission=rw-rw-rw-; isSymlink=false; hasAcl=false; isEncrypted=false; isErasureCoded=false} isEmptyDirectory=FALSE\n",
      "S3AFileStatus{path=s3a://delta-sample/part-00001-65cdfd54-c254-4694-b22f-b2bf6b4faf44-c000.snappy.parquet; isDirectory=false; length=463; replication=1; blocksize=33554432; modification_time=1633995107090; access_time=0; owner=1000760000; group=1000760000; permission=rw-rw-rw-; isSymlink=false; hasAcl=false; isEncrypted=false; isErasureCoded=false} isEmptyDirectory=FALSE\n",
      "S3AFileStatus{path=s3a://delta-sample/part-00002-c826f16f-c6e3-4b14-b742-59c0810a9b99-c000.snappy.parquet; isDirectory=false; length=463; replication=1; blocksize=33554432; modification_time=1633995107045; access_time=0; owner=1000760000; group=1000760000; permission=rw-rw-rw-; isSymlink=false; hasAcl=false; isEncrypted=false; isErasureCoded=false} isEmptyDirectory=FALSE\n",
      "S3AFileStatus{path=s3a://delta-sample/part-00003-6a5922a5-c052-4865-807b-a3ca9f318776-c000.snappy.parquet; isDirectory=false; length=463; replication=1; blocksize=33554432; modification_time=1633995107090; access_time=0; owner=1000760000; group=1000760000; permission=rw-rw-rw-; isSymlink=false; hasAcl=false; isEncrypted=false; isErasureCoded=false} isEmptyDirectory=FALSE\n"
     ]
    }
   ],
   "source": [
    "# list all files in bucket\n",
    "myPath = 's3a://delta-sample/*'\n",
    "hadoopPath = session._jvm.org.apache.hadoop.fs.Path(myPath)\n",
    "hadoopFs = hadoopPath.getFileSystem(session._jvm.org.apache.hadoop.conf.Configuration())\n",
    "statuses = hadoopFs.globStatus(hadoopPath)\n",
    "\n",
    "for status in statuses:\n",
    "    status.getPath().toUri().getRawPath()\n",
    "    print(status)"
   ]
  },
  {
   "cell_type": "markdown",
   "metadata": {},
   "source": [
    "Now, make a dataframe with numbers from 5–10 and will give its datatype as String and append the dataset on our existing dataset. This _should_ error:"
   ]
  },
  {
   "cell_type": "code",
   "execution_count": 6,
   "metadata": {},
   "outputs": [
    {
     "ename": "AnalysisException",
     "evalue": "Failed to merge fields 'id' and 'id'. Failed to merge incompatible data types LongType and StringType",
     "output_type": "error",
     "traceback": [
      "\u001b[0;31m---------------------------------------------------------------------------\u001b[0m",
      "\u001b[0;31mAnalysisException\u001b[0m                         Traceback (most recent call last)",
      "\u001b[0;32m<ipython-input-6-563a79a1d212>\u001b[0m in \u001b[0;36m<module>\u001b[0;34m\u001b[0m\n\u001b[1;32m      2\u001b[0m \u001b[0mnew_data\u001b[0m \u001b[0;34m=\u001b[0m \u001b[0msession\u001b[0m\u001b[0;34m.\u001b[0m\u001b[0mrange\u001b[0m\u001b[0;34m(\u001b[0m\u001b[0;36m5\u001b[0m\u001b[0;34m,\u001b[0m\u001b[0;36m10\u001b[0m\u001b[0;34m)\u001b[0m\u001b[0;34m\u001b[0m\u001b[0;34m\u001b[0m\u001b[0m\n\u001b[1;32m      3\u001b[0m \u001b[0mnew_data\u001b[0m \u001b[0;34m=\u001b[0m \u001b[0mnew_data\u001b[0m\u001b[0;34m.\u001b[0m\u001b[0mwithColumn\u001b[0m\u001b[0;34m(\u001b[0m\u001b[0;34m\"id\"\u001b[0m\u001b[0;34m,\u001b[0m\u001b[0mfn\u001b[0m\u001b[0;34m.\u001b[0m\u001b[0mcol\u001b[0m\u001b[0;34m(\u001b[0m\u001b[0;34m\"id\"\u001b[0m\u001b[0;34m)\u001b[0m\u001b[0;34m.\u001b[0m\u001b[0mcast\u001b[0m\u001b[0;34m(\u001b[0m\u001b[0;34m\"String\"\u001b[0m\u001b[0;34m)\u001b[0m\u001b[0;34m)\u001b[0m\u001b[0;34m\u001b[0m\u001b[0;34m\u001b[0m\u001b[0m\n\u001b[0;32m----> 4\u001b[0;31m \u001b[0mnew_data\u001b[0m\u001b[0;34m.\u001b[0m\u001b[0mwrite\u001b[0m\u001b[0;34m.\u001b[0m\u001b[0mformat\u001b[0m\u001b[0;34m(\u001b[0m\u001b[0;34m\"delta\"\u001b[0m\u001b[0;34m)\u001b[0m\u001b[0;34m.\u001b[0m\u001b[0mmode\u001b[0m\u001b[0;34m(\u001b[0m\u001b[0;34m\"append\"\u001b[0m\u001b[0;34m)\u001b[0m\u001b[0;34m.\u001b[0m\u001b[0msave\u001b[0m\u001b[0;34m(\u001b[0m\u001b[0;34m\"s3a://delta-sample/\"\u001b[0m\u001b[0;34m)\u001b[0m\u001b[0;34m\u001b[0m\u001b[0;34m\u001b[0m\u001b[0m\n\u001b[0m",
      "\u001b[0;32m/opt/app-root/lib64/python3.8/site-packages/pyspark/sql/readwriter.py\u001b[0m in \u001b[0;36msave\u001b[0;34m(self, path, format, mode, partitionBy, **options)\u001b[0m\n\u001b[1;32m   1107\u001b[0m             \u001b[0mself\u001b[0m\u001b[0;34m.\u001b[0m\u001b[0m_jwrite\u001b[0m\u001b[0;34m.\u001b[0m\u001b[0msave\u001b[0m\u001b[0;34m(\u001b[0m\u001b[0;34m)\u001b[0m\u001b[0;34m\u001b[0m\u001b[0;34m\u001b[0m\u001b[0m\n\u001b[1;32m   1108\u001b[0m         \u001b[0;32melse\u001b[0m\u001b[0;34m:\u001b[0m\u001b[0;34m\u001b[0m\u001b[0;34m\u001b[0m\u001b[0m\n\u001b[0;32m-> 1109\u001b[0;31m             \u001b[0mself\u001b[0m\u001b[0;34m.\u001b[0m\u001b[0m_jwrite\u001b[0m\u001b[0;34m.\u001b[0m\u001b[0msave\u001b[0m\u001b[0;34m(\u001b[0m\u001b[0mpath\u001b[0m\u001b[0;34m)\u001b[0m\u001b[0;34m\u001b[0m\u001b[0;34m\u001b[0m\u001b[0m\n\u001b[0m\u001b[1;32m   1110\u001b[0m \u001b[0;34m\u001b[0m\u001b[0m\n\u001b[1;32m   1111\u001b[0m     \u001b[0;34m@\u001b[0m\u001b[0msince\u001b[0m\u001b[0;34m(\u001b[0m\u001b[0;36m1.4\u001b[0m\u001b[0;34m)\u001b[0m\u001b[0;34m\u001b[0m\u001b[0;34m\u001b[0m\u001b[0m\n",
      "\u001b[0;32m/opt/app-root/lib64/python3.8/site-packages/py4j/java_gateway.py\u001b[0m in \u001b[0;36m__call__\u001b[0;34m(self, *args)\u001b[0m\n\u001b[1;32m   1302\u001b[0m \u001b[0;34m\u001b[0m\u001b[0m\n\u001b[1;32m   1303\u001b[0m         \u001b[0manswer\u001b[0m \u001b[0;34m=\u001b[0m \u001b[0mself\u001b[0m\u001b[0;34m.\u001b[0m\u001b[0mgateway_client\u001b[0m\u001b[0;34m.\u001b[0m\u001b[0msend_command\u001b[0m\u001b[0;34m(\u001b[0m\u001b[0mcommand\u001b[0m\u001b[0;34m)\u001b[0m\u001b[0;34m\u001b[0m\u001b[0;34m\u001b[0m\u001b[0m\n\u001b[0;32m-> 1304\u001b[0;31m         return_value = get_return_value(\n\u001b[0m\u001b[1;32m   1305\u001b[0m             answer, self.gateway_client, self.target_id, self.name)\n\u001b[1;32m   1306\u001b[0m \u001b[0;34m\u001b[0m\u001b[0m\n",
      "\u001b[0;32m/opt/app-root/lib64/python3.8/site-packages/pyspark/sql/utils.py\u001b[0m in \u001b[0;36mdeco\u001b[0;34m(*a, **kw)\u001b[0m\n\u001b[1;32m    115\u001b[0m                 \u001b[0;31m# Hide where the exception came from that shows a non-Pythonic\u001b[0m\u001b[0;34m\u001b[0m\u001b[0;34m\u001b[0m\u001b[0;34m\u001b[0m\u001b[0m\n\u001b[1;32m    116\u001b[0m                 \u001b[0;31m# JVM exception message.\u001b[0m\u001b[0;34m\u001b[0m\u001b[0;34m\u001b[0m\u001b[0;34m\u001b[0m\u001b[0m\n\u001b[0;32m--> 117\u001b[0;31m                 \u001b[0;32mraise\u001b[0m \u001b[0mconverted\u001b[0m \u001b[0;32mfrom\u001b[0m \u001b[0;32mNone\u001b[0m\u001b[0;34m\u001b[0m\u001b[0;34m\u001b[0m\u001b[0m\n\u001b[0m\u001b[1;32m    118\u001b[0m             \u001b[0;32melse\u001b[0m\u001b[0;34m:\u001b[0m\u001b[0;34m\u001b[0m\u001b[0;34m\u001b[0m\u001b[0m\n\u001b[1;32m    119\u001b[0m                 \u001b[0;32mraise\u001b[0m\u001b[0;34m\u001b[0m\u001b[0;34m\u001b[0m\u001b[0m\n",
      "\u001b[0;31mAnalysisException\u001b[0m: Failed to merge fields 'id' and 'id'. Failed to merge incompatible data types LongType and StringType"
     ]
    }
   ],
   "source": [
    "import pyspark.sql.functions as fn\n",
    "new_data = session.range(5,10)\n",
    "new_data = new_data.withColumn(\"id\",fn.col(\"id\").cast(\"String\"))\n",
    "new_data.write.format(\"delta\").mode(\"append\").save(\"s3a://delta-sample/\")"
   ]
  },
  {
   "cell_type": "markdown",
   "metadata": {},
   "source": [
    "We get an error **AnalysisException: Failed to merge fields 'id' and 'id'. Failed to merge incompatible data types LongType and StringType** which is good.\n",
    "\n",
    "Delta lake stopped the incorrect data to go in our delta lake.\n",
    "\n",
    "Let's append the dataset with correct schema."
   ]
  },
  {
   "cell_type": "code",
   "execution_count": 7,
   "metadata": {},
   "outputs": [],
   "source": [
    "new_data = session.range(5,10)\n",
    "new_data.write.format(\"delta\").mode(\"append\").save(\"s3a://delta-sample/\")"
   ]
  },
  {
   "cell_type": "markdown",
   "metadata": {},
   "source": [
    "We can check the delta logs and see the we added the part files which were newly written on the dataset along with specifying information such as mode of write and modification time."
   ]
  },
  {
   "cell_type": "code",
   "execution_count": 8,
   "metadata": {},
   "outputs": [
    {
     "name": "stdout",
     "output_type": "stream",
     "text": [
      "+------------------------------------------------------------------------------------------------------------------------------------------------------------------------------------------------------------------------------------------------------------------------------------------------------+\n",
      "|value                                                                                                                                                                                                                                                                                                 |\n",
      "+------------------------------------------------------------------------------------------------------------------------------------------------------------------------------------------------------------------------------------------------------------------------------------------------------+\n",
      "|{\"commitInfo\":{\"timestamp\":1633995111113,\"operation\":\"WRITE\",\"operationParameters\":{\"mode\":\"Overwrite\",\"partitionBy\":\"[]\"},\"isBlindAppend\":false,\"operationMetrics\":{\"numFiles\":\"4\",\"numOutputBytes\":\"1852\",\"numOutputRows\":\"4\"}}}                                                                    |\n",
      "|{\"protocol\":{\"minReaderVersion\":1,\"minWriterVersion\":2}}                                                                                                                                                                                                                                              |\n",
      "|{\"metaData\":{\"id\":\"9864e79b-19b5-488d-9f67-2bc06b725297\",\"format\":{\"provider\":\"parquet\",\"options\":{}},\"schemaString\":\"{\\\"type\\\":\\\"struct\\\",\\\"fields\\\":[{\\\"name\\\":\\\"id\\\",\\\"type\\\":\\\"long\\\",\\\"nullable\\\":true,\\\"metadata\\\":{}}]}\",\"partitionColumns\":[],\"configuration\":{},\"createdTime\":1633995103129}}|\n",
      "|{\"add\":{\"path\":\"part-00000-05d9f0d5-cb9c-4854-84e8-36d63352ab22-c000.snappy.parquet\",\"partitionValues\":{},\"size\":463,\"modificationTime\":1633995107000,\"dataChange\":true}}                                                                                                                             |\n",
      "|{\"add\":{\"path\":\"part-00001-65cdfd54-c254-4694-b22f-b2bf6b4faf44-c000.snappy.parquet\",\"partitionValues\":{},\"size\":463,\"modificationTime\":1633995107000,\"dataChange\":true}}                                                                                                                             |\n",
      "|{\"add\":{\"path\":\"part-00002-c826f16f-c6e3-4b14-b742-59c0810a9b99-c000.snappy.parquet\",\"partitionValues\":{},\"size\":463,\"modificationTime\":1633995107000,\"dataChange\":true}}                                                                                                                             |\n",
      "|{\"add\":{\"path\":\"part-00003-6a5922a5-c052-4865-807b-a3ca9f318776-c000.snappy.parquet\",\"partitionValues\":{},\"size\":463,\"modificationTime\":1633995107000,\"dataChange\":true}}                                                                                                                             |\n",
      "+------------------------------------------------------------------------------------------------------------------------------------------------------------------------------------------------------------------------------------------------------------------------------------------------------+\n",
      "\n",
      "+----------------------------------------------------------------------------------------------------------------------------------------------------------------------------------------------------------------------------------------------+\n",
      "|value                                                                                                                                                                                                                                         |\n",
      "+----------------------------------------------------------------------------------------------------------------------------------------------------------------------------------------------------------------------------------------------+\n",
      "|{\"commitInfo\":{\"timestamp\":1633995171592,\"operation\":\"WRITE\",\"operationParameters\":{\"mode\":\"Append\",\"partitionBy\":\"[]\"},\"readVersion\":0,\"isBlindAppend\":true,\"operationMetrics\":{\"numFiles\":\"4\",\"numOutputBytes\":\"1860\",\"numOutputRows\":\"5\"}}}|\n",
      "|{\"add\":{\"path\":\"part-00000-26885bd0-22c5-4a9d-bc2b-caf122768be4-c000.snappy.parquet\",\"partitionValues\":{},\"size\":463,\"modificationTime\":1633995171000,\"dataChange\":true}}                                                                     |\n",
      "|{\"add\":{\"path\":\"part-00001-19125b9d-174e-4712-a90c-a42926052c53-c000.snappy.parquet\",\"partitionValues\":{},\"size\":463,\"modificationTime\":1633995171000,\"dataChange\":true}}                                                                     |\n",
      "|{\"add\":{\"path\":\"part-00002-a9c2e521-300f-4f20-870e-55a7c1c3652b-c000.snappy.parquet\",\"partitionValues\":{},\"size\":463,\"modificationTime\":1633995171000,\"dataChange\":true}}                                                                     |\n",
      "|{\"add\":{\"path\":\"part-00003-550d480b-b72f-44f3-9122-0a3a3a92d44d-c000.snappy.parquet\",\"partitionValues\":{},\"size\":471,\"modificationTime\":1633995171000,\"dataChange\":true}}                                                                     |\n",
      "+----------------------------------------------------------------------------------------------------------------------------------------------------------------------------------------------------------------------------------------------+\n",
      "\n"
     ]
    }
   ],
   "source": [
    "myPath = 's3a://delta-sample/_delta_log/*.json'\n",
    "hadoopPath = session._jvm.org.apache.hadoop.fs.Path(myPath)\n",
    "hadoopFs = hadoopPath.getFileSystem(session._jvm.org.apache.hadoop.conf.Configuration())\n",
    "statuses = hadoopFs.globStatus(hadoopPath)\n",
    "\n",
    "for status in statuses:\n",
    "    session.read.text('s3a://delta-sample/' + status.getPath().toUri().getRawPath()).show(truncate=False)"
   ]
  },
  {
   "cell_type": "markdown",
   "metadata": {},
   "source": [
    "### Deletion\n",
    "\n",
    "Lets read our table we just wrote in Delta Format."
   ]
  },
  {
   "cell_type": "code",
   "execution_count": 9,
   "metadata": {},
   "outputs": [
    {
     "data": {
      "text/plain": [
       "<delta.tables.DeltaTable at 0x7f57c024f6d0>"
      ]
     },
     "execution_count": 9,
     "metadata": {},
     "output_type": "execute_result"
    }
   ],
   "source": [
    "from delta.tables import *\n",
    "delta_df = DeltaTable.forPath(session, \"s3a://delta-sample/\")\n",
    "delta_df"
   ]
  },
  {
   "cell_type": "markdown",
   "metadata": {},
   "source": [
    "Now, we will delete the data where id is ≤2."
   ]
  },
  {
   "cell_type": "code",
   "execution_count": 10,
   "metadata": {},
   "outputs": [],
   "source": [
    "delta_df.delete(\"id<=2\")"
   ]
  },
  {
   "cell_type": "markdown",
   "metadata": {},
   "source": [
    "Let’s checkout how the commit log is written for delete operation.\n",
    "\n",
    "It guides spark to delete the original part files through remove and then add the new part file with predicate as id≤2, the operation performed(DELETE) is specified"
   ]
  },
  {
   "cell_type": "code",
   "execution_count": 11,
   "metadata": {},
   "outputs": [
    {
     "name": "stdout",
     "output_type": "stream",
     "text": [
      "+------------------------------------------------------------------------------------------------------------------------------------------------------------------------------------------------------------------------------------------------------------------------------------------------------+\n",
      "|value                                                                                                                                                                                                                                                                                                 |\n",
      "+------------------------------------------------------------------------------------------------------------------------------------------------------------------------------------------------------------------------------------------------------------------------------------------------------+\n",
      "|{\"commitInfo\":{\"timestamp\":1633995111113,\"operation\":\"WRITE\",\"operationParameters\":{\"mode\":\"Overwrite\",\"partitionBy\":\"[]\"},\"isBlindAppend\":false,\"operationMetrics\":{\"numFiles\":\"4\",\"numOutputBytes\":\"1852\",\"numOutputRows\":\"4\"}}}                                                                    |\n",
      "|{\"protocol\":{\"minReaderVersion\":1,\"minWriterVersion\":2}}                                                                                                                                                                                                                                              |\n",
      "|{\"metaData\":{\"id\":\"9864e79b-19b5-488d-9f67-2bc06b725297\",\"format\":{\"provider\":\"parquet\",\"options\":{}},\"schemaString\":\"{\\\"type\\\":\\\"struct\\\",\\\"fields\\\":[{\\\"name\\\":\\\"id\\\",\\\"type\\\":\\\"long\\\",\\\"nullable\\\":true,\\\"metadata\\\":{}}]}\",\"partitionColumns\":[],\"configuration\":{},\"createdTime\":1633995103129}}|\n",
      "|{\"add\":{\"path\":\"part-00000-05d9f0d5-cb9c-4854-84e8-36d63352ab22-c000.snappy.parquet\",\"partitionValues\":{},\"size\":463,\"modificationTime\":1633995107000,\"dataChange\":true}}                                                                                                                             |\n",
      "|{\"add\":{\"path\":\"part-00001-65cdfd54-c254-4694-b22f-b2bf6b4faf44-c000.snappy.parquet\",\"partitionValues\":{},\"size\":463,\"modificationTime\":1633995107000,\"dataChange\":true}}                                                                                                                             |\n",
      "|{\"add\":{\"path\":\"part-00002-c826f16f-c6e3-4b14-b742-59c0810a9b99-c000.snappy.parquet\",\"partitionValues\":{},\"size\":463,\"modificationTime\":1633995107000,\"dataChange\":true}}                                                                                                                             |\n",
      "|{\"add\":{\"path\":\"part-00003-6a5922a5-c052-4865-807b-a3ca9f318776-c000.snappy.parquet\",\"partitionValues\":{},\"size\":463,\"modificationTime\":1633995107000,\"dataChange\":true}}                                                                                                                             |\n",
      "+------------------------------------------------------------------------------------------------------------------------------------------------------------------------------------------------------------------------------------------------------------------------------------------------------+\n",
      "\n",
      "+----------------------------------------------------------------------------------------------------------------------------------------------------------------------------------------------------------------------------------------------+\n",
      "|value                                                                                                                                                                                                                                         |\n",
      "+----------------------------------------------------------------------------------------------------------------------------------------------------------------------------------------------------------------------------------------------+\n",
      "|{\"commitInfo\":{\"timestamp\":1633995171592,\"operation\":\"WRITE\",\"operationParameters\":{\"mode\":\"Append\",\"partitionBy\":\"[]\"},\"readVersion\":0,\"isBlindAppend\":true,\"operationMetrics\":{\"numFiles\":\"4\",\"numOutputBytes\":\"1860\",\"numOutputRows\":\"5\"}}}|\n",
      "|{\"add\":{\"path\":\"part-00000-26885bd0-22c5-4a9d-bc2b-caf122768be4-c000.snappy.parquet\",\"partitionValues\":{},\"size\":463,\"modificationTime\":1633995171000,\"dataChange\":true}}                                                                     |\n",
      "|{\"add\":{\"path\":\"part-00001-19125b9d-174e-4712-a90c-a42926052c53-c000.snappy.parquet\",\"partitionValues\":{},\"size\":463,\"modificationTime\":1633995171000,\"dataChange\":true}}                                                                     |\n",
      "|{\"add\":{\"path\":\"part-00002-a9c2e521-300f-4f20-870e-55a7c1c3652b-c000.snappy.parquet\",\"partitionValues\":{},\"size\":463,\"modificationTime\":1633995171000,\"dataChange\":true}}                                                                     |\n",
      "|{\"add\":{\"path\":\"part-00003-550d480b-b72f-44f3-9122-0a3a3a92d44d-c000.snappy.parquet\",\"partitionValues\":{},\"size\":471,\"modificationTime\":1633995171000,\"dataChange\":true}}                                                                     |\n",
      "+----------------------------------------------------------------------------------------------------------------------------------------------------------------------------------------------------------------------------------------------+\n",
      "\n",
      "+-----------------------------------------------------------------------------------------------------------------------------------------------------------------------------------------------------------------------------------------------------------------------------------------------------------------------------------------+\n",
      "|value                                                                                                                                                                                                                                                                                                                                    |\n",
      "+-----------------------------------------------------------------------------------------------------------------------------------------------------------------------------------------------------------------------------------------------------------------------------------------------------------------------------------------+\n",
      "|{\"commitInfo\":{\"timestamp\":1633995191083,\"operation\":\"DELETE\",\"operationParameters\":{\"predicate\":\"[\\\"(`id` <= 2L)\\\"]\"},\"readVersion\":1,\"isBlindAppend\":false,\"operationMetrics\":{\"numRemovedFiles\":\"2\",\"numCopiedRows\":\"0\",\"executionTimeMs\":\"2889\",\"numDeletedRows\":\"2\",\"scanTimeMs\":\"2532\",\"numAddedFiles\":\"1\",\"rewriteTimeMs\":\"356\"}}}|\n",
      "|{\"remove\":{\"path\":\"part-00000-05d9f0d5-cb9c-4854-84e8-36d63352ab22-c000.snappy.parquet\",\"deletionTimestamp\":1633995191081,\"dataChange\":true,\"extendedFileMetadata\":true,\"partitionValues\":{},\"size\":463}}                                                                                                                                |\n",
      "|{\"remove\":{\"path\":\"part-00001-65cdfd54-c254-4694-b22f-b2bf6b4faf44-c000.snappy.parquet\",\"deletionTimestamp\":1633995191081,\"dataChange\":true,\"extendedFileMetadata\":true,\"partitionValues\":{},\"size\":463}}                                                                                                                                |\n",
      "|{\"add\":{\"path\":\"part-00000-12fe8bfe-ab54-4029-8e5d-4eccc1ed3c51-c000.snappy.parquet\",\"partitionValues\":{},\"size\":296,\"modificationTime\":1633995191000,\"dataChange\":true}}                                                                                                                                                                |\n",
      "+-----------------------------------------------------------------------------------------------------------------------------------------------------------------------------------------------------------------------------------------------------------------------------------------------------------------------------------------+\n",
      "\n"
     ]
    }
   ],
   "source": [
    "myPath = 's3a://delta-sample/_delta_log/*.json'\n",
    "hadoopPath = session._jvm.org.apache.hadoop.fs.Path(myPath)\n",
    "hadoopFs = hadoopPath.getFileSystem(session._jvm.org.apache.hadoop.conf.Configuration())\n",
    "statuses = hadoopFs.globStatus(hadoopPath)\n",
    "\n",
    "for status in statuses:\n",
    "    session.read.text('s3a://delta-sample/' + status.getPath().toUri().getRawPath()).show(truncate=False)"
   ]
  },
  {
   "cell_type": "markdown",
   "metadata": {},
   "source": [
    "### Updates\n",
    "\n",
    "We will read the dataset again and will update the value from 5 to 500."
   ]
  },
  {
   "cell_type": "code",
   "execution_count": 12,
   "metadata": {},
   "outputs": [
    {
     "name": "stdout",
     "output_type": "stream",
     "text": [
      "+---+\n",
      "| id|\n",
      "+---+\n",
      "|  8|\n",
      "|  9|\n",
      "|500|\n",
      "|  6|\n",
      "|  4|\n",
      "|  3|\n",
      "|  7|\n",
      "+---+\n",
      "\n"
     ]
    }
   ],
   "source": [
    "delta_df = DeltaTable.forPath(session, \"s3a://delta-sample/\")\n",
    "delta_df.update(condition = \"id = 5\", set = { \"id\": \"500\" })\n",
    "delta_df.toDF().show()"
   ]
  },
  {
   "cell_type": "markdown",
   "metadata": {},
   "source": [
    "The above operation is will set id to 500 where it is 5, the Delta Table is auto refresh as the data is updated. \n",
    "\n",
    "As you can see the syntax is very simple."
   ]
  },
  {
   "cell_type": "code",
   "execution_count": 13,
   "metadata": {},
   "outputs": [
    {
     "name": "stdout",
     "output_type": "stream",
     "text": [
      "+------------------------------------------------------------------------------------------------------------------------------------------------------------------------------------------------------------------------------------------------------------------------------------------------------+\n",
      "|value                                                                                                                                                                                                                                                                                                 |\n",
      "+------------------------------------------------------------------------------------------------------------------------------------------------------------------------------------------------------------------------------------------------------------------------------------------------------+\n",
      "|{\"commitInfo\":{\"timestamp\":1633995111113,\"operation\":\"WRITE\",\"operationParameters\":{\"mode\":\"Overwrite\",\"partitionBy\":\"[]\"},\"isBlindAppend\":false,\"operationMetrics\":{\"numFiles\":\"4\",\"numOutputBytes\":\"1852\",\"numOutputRows\":\"4\"}}}                                                                    |\n",
      "|{\"protocol\":{\"minReaderVersion\":1,\"minWriterVersion\":2}}                                                                                                                                                                                                                                              |\n",
      "|{\"metaData\":{\"id\":\"9864e79b-19b5-488d-9f67-2bc06b725297\",\"format\":{\"provider\":\"parquet\",\"options\":{}},\"schemaString\":\"{\\\"type\\\":\\\"struct\\\",\\\"fields\\\":[{\\\"name\\\":\\\"id\\\",\\\"type\\\":\\\"long\\\",\\\"nullable\\\":true,\\\"metadata\\\":{}}]}\",\"partitionColumns\":[],\"configuration\":{},\"createdTime\":1633995103129}}|\n",
      "|{\"add\":{\"path\":\"part-00000-05d9f0d5-cb9c-4854-84e8-36d63352ab22-c000.snappy.parquet\",\"partitionValues\":{},\"size\":463,\"modificationTime\":1633995107000,\"dataChange\":true}}                                                                                                                             |\n",
      "|{\"add\":{\"path\":\"part-00001-65cdfd54-c254-4694-b22f-b2bf6b4faf44-c000.snappy.parquet\",\"partitionValues\":{},\"size\":463,\"modificationTime\":1633995107000,\"dataChange\":true}}                                                                                                                             |\n",
      "|{\"add\":{\"path\":\"part-00002-c826f16f-c6e3-4b14-b742-59c0810a9b99-c000.snappy.parquet\",\"partitionValues\":{},\"size\":463,\"modificationTime\":1633995107000,\"dataChange\":true}}                                                                                                                             |\n",
      "|{\"add\":{\"path\":\"part-00003-6a5922a5-c052-4865-807b-a3ca9f318776-c000.snappy.parquet\",\"partitionValues\":{},\"size\":463,\"modificationTime\":1633995107000,\"dataChange\":true}}                                                                                                                             |\n",
      "+------------------------------------------------------------------------------------------------------------------------------------------------------------------------------------------------------------------------------------------------------------------------------------------------------+\n",
      "\n",
      "+----------------------------------------------------------------------------------------------------------------------------------------------------------------------------------------------------------------------------------------------+\n",
      "|value                                                                                                                                                                                                                                         |\n",
      "+----------------------------------------------------------------------------------------------------------------------------------------------------------------------------------------------------------------------------------------------+\n",
      "|{\"commitInfo\":{\"timestamp\":1633995171592,\"operation\":\"WRITE\",\"operationParameters\":{\"mode\":\"Append\",\"partitionBy\":\"[]\"},\"readVersion\":0,\"isBlindAppend\":true,\"operationMetrics\":{\"numFiles\":\"4\",\"numOutputBytes\":\"1860\",\"numOutputRows\":\"5\"}}}|\n",
      "|{\"add\":{\"path\":\"part-00000-26885bd0-22c5-4a9d-bc2b-caf122768be4-c000.snappy.parquet\",\"partitionValues\":{},\"size\":463,\"modificationTime\":1633995171000,\"dataChange\":true}}                                                                     |\n",
      "|{\"add\":{\"path\":\"part-00001-19125b9d-174e-4712-a90c-a42926052c53-c000.snappy.parquet\",\"partitionValues\":{},\"size\":463,\"modificationTime\":1633995171000,\"dataChange\":true}}                                                                     |\n",
      "|{\"add\":{\"path\":\"part-00002-a9c2e521-300f-4f20-870e-55a7c1c3652b-c000.snappy.parquet\",\"partitionValues\":{},\"size\":463,\"modificationTime\":1633995171000,\"dataChange\":true}}                                                                     |\n",
      "|{\"add\":{\"path\":\"part-00003-550d480b-b72f-44f3-9122-0a3a3a92d44d-c000.snappy.parquet\",\"partitionValues\":{},\"size\":471,\"modificationTime\":1633995171000,\"dataChange\":true}}                                                                     |\n",
      "+----------------------------------------------------------------------------------------------------------------------------------------------------------------------------------------------------------------------------------------------+\n",
      "\n",
      "+-----------------------------------------------------------------------------------------------------------------------------------------------------------------------------------------------------------------------------------------------------------------------------------------------------------------------------------------+\n",
      "|value                                                                                                                                                                                                                                                                                                                                    |\n",
      "+-----------------------------------------------------------------------------------------------------------------------------------------------------------------------------------------------------------------------------------------------------------------------------------------------------------------------------------------+\n",
      "|{\"commitInfo\":{\"timestamp\":1633995191083,\"operation\":\"DELETE\",\"operationParameters\":{\"predicate\":\"[\\\"(`id` <= 2L)\\\"]\"},\"readVersion\":1,\"isBlindAppend\":false,\"operationMetrics\":{\"numRemovedFiles\":\"2\",\"numCopiedRows\":\"0\",\"executionTimeMs\":\"2889\",\"numDeletedRows\":\"2\",\"scanTimeMs\":\"2532\",\"numAddedFiles\":\"1\",\"rewriteTimeMs\":\"356\"}}}|\n",
      "|{\"remove\":{\"path\":\"part-00000-05d9f0d5-cb9c-4854-84e8-36d63352ab22-c000.snappy.parquet\",\"deletionTimestamp\":1633995191081,\"dataChange\":true,\"extendedFileMetadata\":true,\"partitionValues\":{},\"size\":463}}                                                                                                                                |\n",
      "|{\"remove\":{\"path\":\"part-00001-65cdfd54-c254-4694-b22f-b2bf6b4faf44-c000.snappy.parquet\",\"deletionTimestamp\":1633995191081,\"dataChange\":true,\"extendedFileMetadata\":true,\"partitionValues\":{},\"size\":463}}                                                                                                                                |\n",
      "|{\"add\":{\"path\":\"part-00000-12fe8bfe-ab54-4029-8e5d-4eccc1ed3c51-c000.snappy.parquet\",\"partitionValues\":{},\"size\":296,\"modificationTime\":1633995191000,\"dataChange\":true}}                                                                                                                                                                |\n",
      "+-----------------------------------------------------------------------------------------------------------------------------------------------------------------------------------------------------------------------------------------------------------------------------------------------------------------------------------------+\n",
      "\n",
      "+------------------------------------------------------------------------------------------------------------------------------------------------------------------------------------------------------------------------------------------------------------------------------------------------------------------------------------+\n",
      "|value                                                                                                                                                                                                                                                                                                                               |\n",
      "+------------------------------------------------------------------------------------------------------------------------------------------------------------------------------------------------------------------------------------------------------------------------------------------------------------------------------------+\n",
      "|{\"commitInfo\":{\"timestamp\":1633995214516,\"operation\":\"UPDATE\",\"operationParameters\":{\"predicate\":\"(id#891L = 5)\"},\"readVersion\":2,\"isBlindAppend\":false,\"operationMetrics\":{\"numRemovedFiles\":\"1\",\"numCopiedRows\":\"0\",\"executionTimeMs\":\"2024\",\"scanTimeMs\":\"1702\",\"numAddedFiles\":\"1\",\"numUpdatedRows\":\"1\",\"rewriteTimeMs\":\"322\"}}}|\n",
      "|{\"remove\":{\"path\":\"part-00000-26885bd0-22c5-4a9d-bc2b-caf122768be4-c000.snappy.parquet\",\"deletionTimestamp\":1633995214193,\"dataChange\":true,\"extendedFileMetadata\":true,\"partitionValues\":{},\"size\":463}}                                                                                                                           |\n",
      "|{\"add\":{\"path\":\"part-00000-920f87b7-5305-438b-8680-3f3e651a0a9d-c000.snappy.parquet\",\"partitionValues\":{},\"size\":463,\"modificationTime\":1633995214000,\"dataChange\":true}}                                                                                                                                                           |\n",
      "+------------------------------------------------------------------------------------------------------------------------------------------------------------------------------------------------------------------------------------------------------------------------------------------------------------------------------------+\n",
      "\n"
     ]
    }
   ],
   "source": [
    "myPath = 's3a://delta-sample/_delta_log/*.json'\n",
    "hadoopPath = session._jvm.org.apache.hadoop.fs.Path(myPath)\n",
    "hadoopFs = hadoopPath.getFileSystem(session._jvm.org.apache.hadoop.conf.Configuration())\n",
    "statuses = hadoopFs.globStatus(hadoopPath)\n",
    "\n",
    "for status in statuses:\n",
    "    session.read.text('s3a://delta-sample/' + status.getPath().toUri().getRawPath()).show(truncate=False)"
   ]
  },
  {
   "cell_type": "markdown",
   "metadata": {},
   "source": [
    "### Merge\n",
    "\n",
    "Now, we will perform the merge operation on our Delta Table. Create a new dataset containing Country, Year and Temperature columns and will write it as a Delta Table."
   ]
  },
  {
   "cell_type": "code",
   "execution_count": 14,
   "metadata": {},
   "outputs": [],
   "source": [
    "data = [\n",
    "    (\"Australia\", 2019, 23.34),\n",
    "    (\"Pakistan\", 2021, 27.89892)\n",
    "]\n",
    "df = session.createDataFrame(data, [\"country\", \"year\", \"temperature\"])\n",
    "df.write.format(\"delta\").save(\"s3a://delta-sample/delta_merge\")"
   ]
  },
  {
   "cell_type": "code",
   "execution_count": 15,
   "metadata": {},
   "outputs": [
    {
     "name": "stdout",
     "output_type": "stream",
     "text": [
      "+---------+----+-----------+\n",
      "|  country|year|temperature|\n",
      "+---------+----+-----------+\n",
      "|Australia|2019|      23.34|\n",
      "| Pakistan|2021|   27.89892|\n",
      "+---------+----+-----------+\n",
      "\n"
     ]
    }
   ],
   "source": [
    "delta_merge_df = DeltaTable.forPath(session, \"s3a://delta-sample/delta_merge\")\n",
    "delta_merge_df.toDF().show()"
   ]
  },
  {
   "cell_type": "code",
   "execution_count": 16,
   "metadata": {},
   "outputs": [
    {
     "name": "stdout",
     "output_type": "stream",
     "text": [
      "+-----------+----+-----------+\n",
      "|    country|year|temperature|\n",
      "+-----------+----+-----------+\n",
      "|  Australia|2021|      100.0|\n",
      "|New Zealand|2019|   19.34534|\n",
      "+-----------+----+-----------+\n",
      "\n"
     ]
    }
   ],
   "source": [
    "update_data = [\n",
    "    (\"Australia\", 2021, 100.00),\n",
    "    (\"New Zealand\", 2019, 19.34534)\n",
    "]\n",
    "update_df = session.createDataFrame(update_data, [\"country\", \"year\", \"temperature\"])\n",
    "update_df.show()"
   ]
  },
  {
   "cell_type": "code",
   "execution_count": 17,
   "metadata": {},
   "outputs": [],
   "source": [
    "delta_merge_df.alias(\"delta_merge\").merge(\n",
    "    update_df.alias(\"updates\"),\n",
    "    \"delta_merge.country = updates.country\") \\\n",
    "  .whenMatchedUpdate(set = { \n",
    "        \"temperature\" : \"updates.temperature\",\n",
    "        \"year\" : \"updates.year\"\n",
    "  } ) \\\n",
    "  .whenNotMatchedInsert(values =\n",
    "    {\n",
    "      \"country\": \"updates.country\",\n",
    "      \"year\": \"updates.year\",\n",
    "      \"temperature\": \"updates.temperature\"\n",
    "    }\n",
    "  ) \\\n",
    "  .execute()"
   ]
  },
  {
   "cell_type": "markdown",
   "metadata": {},
   "source": [
    "Final merged records - Australia got updated to 100.00, and year got updated to 2021"
   ]
  },
  {
   "cell_type": "code",
   "execution_count": 18,
   "metadata": {},
   "outputs": [
    {
     "name": "stdout",
     "output_type": "stream",
     "text": [
      "+-----------+----+-----------+\n",
      "|    country|year|temperature|\n",
      "+-----------+----+-----------+\n",
      "|New Zealand|2019|   19.34534|\n",
      "|  Australia|2021|      100.0|\n",
      "|   Pakistan|2021|   27.89892|\n",
      "+-----------+----+-----------+\n",
      "\n"
     ]
    }
   ],
   "source": [
    "delta_merge_df.toDF().show()"
   ]
  },
  {
   "cell_type": "markdown",
   "metadata": {},
   "source": [
    "### Time Travel\n",
    "\n",
    "Delta Lake we will be able to maintain different versions of our dataset’s and can be reused when needed."
   ]
  },
  {
   "cell_type": "code",
   "execution_count": 19,
   "metadata": {},
   "outputs": [
    {
     "name": "stdout",
     "output_type": "stream",
     "text": [
      "+-------+-------------------+------+--------+---------+--------------------------------------+----+--------+---------+-----------+--------------+-------------+------------------------------------------------------------------------------------------------------------------------------------------------------+------------+\n",
      "|version|timestamp          |userId|userName|operation|operationParameters                   |job |notebook|clusterId|readVersion|isolationLevel|isBlindAppend|operationMetrics                                                                                                                                      |userMetadata|\n",
      "+-------+-------------------+------+--------+---------+--------------------------------------+----+--------+---------+-----------+--------------+-------------+------------------------------------------------------------------------------------------------------------------------------------------------------+------------+\n",
      "|3      |2021-10-11 23:33:34|null  |null    |UPDATE   |{predicate -> (id#891L = 5)}          |null|null    |null     |2          |null          |false        |{numRemovedFiles -> 1, numCopiedRows -> 0, executionTimeMs -> 2024, scanTimeMs -> 1702, numAddedFiles -> 1, numUpdatedRows -> 1, rewriteTimeMs -> 322}|null        |\n",
      "|2      |2021-10-11 23:33:11|null  |null    |DELETE   |{predicate -> [\"(`id` <= 2L)\"]}       |null|null    |null     |1          |null          |false        |{numRemovedFiles -> 2, numCopiedRows -> 0, executionTimeMs -> 2889, numDeletedRows -> 2, scanTimeMs -> 2532, numAddedFiles -> 1, rewriteTimeMs -> 356}|null        |\n",
      "|1      |2021-10-11 23:32:51|null  |null    |WRITE    |{mode -> Append, partitionBy -> []}   |null|null    |null     |0          |null          |true         |{numFiles -> 4, numOutputBytes -> 1860, numOutputRows -> 5}                                                                                           |null        |\n",
      "|0      |2021-10-11 23:31:51|null  |null    |WRITE    |{mode -> Overwrite, partitionBy -> []}|null|null    |null     |null       |null          |false        |{numFiles -> 4, numOutputBytes -> 1852, numOutputRows -> 4}                                                                                           |null        |\n",
      "+-------+-------------------+------+--------+---------+--------------------------------------+----+--------+---------+-----------+--------------+-------------+------------------------------------------------------------------------------------------------------------------------------------------------------+------------+\n",
      "\n"
     ]
    }
   ],
   "source": [
    "delta_df.history().show(10, False)"
   ]
  },
  {
   "cell_type": "markdown",
   "metadata": {},
   "source": [
    "Current data looks like this:"
   ]
  },
  {
   "cell_type": "code",
   "execution_count": 20,
   "metadata": {},
   "outputs": [
    {
     "name": "stdout",
     "output_type": "stream",
     "text": [
      "+---+\n",
      "| id|\n",
      "+---+\n",
      "|  8|\n",
      "|  9|\n",
      "|500|\n",
      "|  6|\n",
      "|  4|\n",
      "|  3|\n",
      "|  7|\n",
      "+---+\n",
      "\n"
     ]
    }
   ],
   "source": [
    "delta_df = DeltaTable.forPath(session, \"s3a://delta-sample/\")\n",
    "delta_df.toDF().show()"
   ]
  },
  {
   "cell_type": "markdown",
   "metadata": {},
   "source": [
    "Lets get back version 1 of our data"
   ]
  },
  {
   "cell_type": "code",
   "execution_count": 21,
   "metadata": {},
   "outputs": [
    {
     "name": "stdout",
     "output_type": "stream",
     "text": [
      "+---+\n",
      "| id|\n",
      "+---+\n",
      "|  8|\n",
      "|  9|\n",
      "|  6|\n",
      "|  1|\n",
      "|  4|\n",
      "|  2|\n",
      "|  3|\n",
      "|  7|\n",
      "|  5|\n",
      "+---+\n",
      "\n"
     ]
    }
   ],
   "source": [
    "version_1 = session.read.format(\"delta\").option(\"versionAsOf\",1).load(\"s3a://delta-sample/\")\n",
    "version_1.show()"
   ]
  },
  {
   "cell_type": "markdown",
   "metadata": {},
   "source": [
    "So we dont blow out our storage, we can use `deltaTable.vacuum()`\n",
    "\n",
    "    deltaTable.vacuum()     # vacuum files not required by versions more than 7 days old\n",
    "    deltaTable.vacuum(100)  # vacuum files not required by versions more than 100 hours old"
   ]
  },
  {
   "cell_type": "code",
   "execution_count": 22,
   "metadata": {},
   "outputs": [],
   "source": [
    "session.stop()"
   ]
  }
 ],
 "metadata": {
  "interpreter": {
   "hash": "e7370f93d1d0cde622a1f8e1c04877d8463912d04d973331ad4851f04de6915a"
  },
  "kernelspec": {
   "display_name": "Python 3",
   "language": "python",
   "name": "python3"
  },
  "language_info": {
   "codemirror_mode": {
    "name": "ipython",
    "version": 3
   },
   "file_extension": ".py",
   "mimetype": "text/x-python",
   "name": "python",
   "nbconvert_exporter": "python",
   "pygments_lexer": "ipython3",
   "version": "3.8.6"
  }
 },
 "nbformat": 4,
 "nbformat_minor": 4
}
