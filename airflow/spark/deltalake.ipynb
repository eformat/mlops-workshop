{
 "cells": [
  {
   "cell_type": "markdown",
   "metadata": {},
   "source": [
    "## Overview of Delta Lake and some use cases\n",
    "\n",
    "- https://github.com/delta-io\n",
    "\n",
    "Use Cases:\n",
    "\n",
    "- Schema Enforcement\n",
    "- Deletion\n",
    "- Updates\n",
    "- Merge\n",
    "- Time Travel\n",
    "\n",
    "![images/delta-lake.jpg](https://raw.githubusercontent.com/eformat/telco-churn-augmentation/develop/images/delta-lake.jpg)"
   ]
  },
  {
   "cell_type": "code",
   "execution_count": 1,
   "metadata": {},
   "outputs": [],
   "source": [
    "# notebook parameters\n",
    "import os, socket\n",
    "from urllib.parse import urlparse\n",
    "\n",
    "# Get the S3 URL information and use it in Spark Context\n",
    "# NOTE: S3 Hadoop API for spark does not work with domain name, use IP address instead\n",
    "def domain_to_ip(url):\n",
    "    domain = urlparse(url).netloc.split(\":\")[0]\n",
    "    ip_address = socket.gethostbyname(domain)\n",
    "    ip_url = url.replace(domain, ip_address)\n",
    "    return ip_url"
   ]
  },
  {
   "cell_type": "code",
   "execution_count": 2,
   "metadata": {},
   "outputs": [
    {
     "name": "stdout",
     "output_type": "stream",
     "text": [
      "Initializing environment variables for Spark\n",
      "Cluter name: spark-cluster-mhepburn\n",
      "PYSPARK_SUBMIT_ARGS: --conf spark.hadoop.fs.s3a.endpoint=http://172.30.29.255:9000 --conf spark.hadoop.fs.s3a.access.key=minio --conf spark.hadoop.fs.s3a.secret.key=minio123 --conf spark.hadoop.fs.s3a.path.style.access=true --conf spark.hadoop.fs.s3a.impl=org.apache.hadoop.fs.s3a.S3AFileSystem --conf spark.hadoop.fs.s3a.multipart.size=104857600 --conf spark.sql.extensions=io.delta.sql.DeltaSparkSessionExtension --conf spark.sql.catalog.spark_catalog=org.apache.spark.sql.delta.catalog.DeltaCatalog --conf spark.jars.ivy=/tmp --packages io.delta:delta-core_2.12:1.0.0,org.apache.hadoop:hadoop-aws:3.2.0 --master spark://spark-cluster-mhepburn:7077 pyspark-shell \n",
      "Driver IP address: 10.130.2.45\n",
      "Creating a spark session...\n",
      "Spark session created\n"
     ]
    },
    {
     "data": {
      "text/html": [
       "\n",
       "            <div>\n",
       "                <p><b>SparkSession - in-memory</b></p>\n",
       "                \n",
       "        <div>\n",
       "            <p><b>SparkContext</b></p>\n",
       "\n",
       "            <p><a href=\"http://10.130.2.45:4040\">Spark UI</a></p>\n",
       "\n",
       "            <dl>\n",
       "              <dt>Version</dt>\n",
       "                <dd><code>v3.1.2</code></dd>\n",
       "              <dt>Master</dt>\n",
       "                <dd><code>spark://spark-cluster-mhepburn:7077</code></dd>\n",
       "              <dt>AppName</dt>\n",
       "                <dd><code>Deltalake Demo</code></dd>\n",
       "            </dl>\n",
       "        </div>\n",
       "        \n",
       "            </div>\n",
       "        "
      ],
      "text/plain": [
       "<pyspark.sql.session.SparkSession at 0x7f9942ab0310>"
      ]
     },
     "execution_count": 2,
     "metadata": {},
     "output_type": "execute_result"
    }
   ],
   "source": [
    "import spark_util\n",
    "\n",
    "os.environ['SPARK_CLUSTER'] = \"spark-cluster-mhepburn\"\n",
    "os.environ['WORKER_NODES'] = \"2\"\n",
    "os.environ['S3_ENDPOINT'] = \"http://minio-ml-workshop:9000\"\n",
    "\n",
    "submit_args = f\"--conf spark.hadoop.fs.s3a.endpoint={domain_to_ip(os.environ['S3_ENDPOINT_URL'])} \\\n",
    "--conf spark.hadoop.fs.s3a.access.key=minio \\\n",
    "--conf spark.hadoop.fs.s3a.secret.key=minio123 \\\n",
    "--conf spark.hadoop.fs.s3a.path.style.access=true \\\n",
    "--conf spark.hadoop.fs.s3a.impl=org.apache.hadoop.fs.s3a.S3AFileSystem \\\n",
    "--conf spark.hadoop.fs.s3a.multipart.size=104857600 \\\n",
    "--conf spark.sql.extensions=io.delta.sql.DeltaSparkSessionExtension \\\n",
    "--conf spark.sql.catalog.spark_catalog=org.apache.spark.sql.delta.catalog.DeltaCatalog \\\n",
    "--conf spark.jars.ivy=/tmp \\\n",
    "--packages io.delta:delta-core_2.12:1.0.0,org.apache.hadoop:hadoop-aws:3.2.0\"\n",
    "\n",
    "session = spark_util.getOrCreateSparkSession(\"Deltalake Demo\", submit_args)\n",
    "session"
   ]
  },
  {
   "cell_type": "markdown",
   "metadata": {},
   "source": [
    "### Schema Enforcement\n",
    "\n",
    "With Delta Lake “schema on write” is followed, so any changes in schema when writing will be tracked and any discrepancy will raise an exception at that time.\n",
    "\n",
    "Below code will make a dataframe of 1–5 numbers and we will write it as a Delta table."
   ]
  },
  {
   "cell_type": "code",
   "execution_count": 67,
   "metadata": {},
   "outputs": [
    {
     "data": {
      "text/plain": [
       "True"
      ]
     },
     "execution_count": 67,
     "metadata": {},
     "output_type": "execute_result"
    }
   ],
   "source": [
    "# delete files\n",
    "myPath = 's3a://delta-sample/'\n",
    "hadoopPath = session._jvm.org.apache.hadoop.fs.Path(myPath)\n",
    "hadoopFs = hadoopPath.getFileSystem(session._jvm.org.apache.hadoop.conf.Configuration())\n",
    "hadoopFs.delete(session._jvm.org.apache.hadoop.fs.Path(myPath))"
   ]
  },
  {
   "cell_type": "code",
   "execution_count": 68,
   "metadata": {},
   "outputs": [],
   "source": [
    "import shutil\n",
    "\n",
    "data = session.range(1,5)\n",
    "data.write.format(\"delta\").mode(\"overwrite\").save(\"s3a://delta-sample/\")"
   ]
  },
  {
   "cell_type": "code",
   "execution_count": 69,
   "metadata": {},
   "outputs": [
    {
     "name": "stdout",
     "output_type": "stream",
     "text": [
      "S3AFileStatus{path=s3a://delta-sample/_delta_log; isDirectory=true; modification_time=0; access_time=0; owner=1000760000; group=1000760000; permission=rwxrwxrwx; isSymlink=false; hasAcl=false; isEncrypted=false; isErasureCoded=false} isEmptyDirectory=FALSE\n",
      "S3AFileStatus{path=s3a://delta-sample/part-00000-e95c7935-1f98-459b-988d-5b375a9e72f9-c000.snappy.parquet; isDirectory=false; length=463; replication=1; blocksize=33554432; modification_time=1633903930440; access_time=0; owner=1000760000; group=1000760000; permission=rw-rw-rw-; isSymlink=false; hasAcl=false; isEncrypted=false; isErasureCoded=false} isEmptyDirectory=FALSE\n",
      "S3AFileStatus{path=s3a://delta-sample/part-00001-a7bf84dd-dc96-4306-a4a7-ca7c1fbe2c5f-c000.snappy.parquet; isDirectory=false; length=463; replication=1; blocksize=33554432; modification_time=1633903930370; access_time=0; owner=1000760000; group=1000760000; permission=rw-rw-rw-; isSymlink=false; hasAcl=false; isEncrypted=false; isErasureCoded=false} isEmptyDirectory=FALSE\n",
      "S3AFileStatus{path=s3a://delta-sample/part-00002-df0bb308-ca54-473b-a57a-493dc03e2ab3-c000.snappy.parquet; isDirectory=false; length=463; replication=1; blocksize=33554432; modification_time=1633903930440; access_time=0; owner=1000760000; group=1000760000; permission=rw-rw-rw-; isSymlink=false; hasAcl=false; isEncrypted=false; isErasureCoded=false} isEmptyDirectory=FALSE\n",
      "S3AFileStatus{path=s3a://delta-sample/part-00003-8239d12b-a010-4fee-9423-c5b76beacda0-c000.snappy.parquet; isDirectory=false; length=463; replication=1; blocksize=33554432; modification_time=1633903930371; access_time=0; owner=1000760000; group=1000760000; permission=rw-rw-rw-; isSymlink=false; hasAcl=false; isEncrypted=false; isErasureCoded=false} isEmptyDirectory=FALSE\n"
     ]
    }
   ],
   "source": [
    "# list all files in bucket\n",
    "myPath = 's3a://delta-sample/*'\n",
    "hadoopPath = session._jvm.org.apache.hadoop.fs.Path(myPath)\n",
    "hadoopFs = hadoopPath.getFileSystem(session._jvm.org.apache.hadoop.conf.Configuration())\n",
    "statuses = hadoopFs.globStatus(hadoopPath)\n",
    "\n",
    "for status in statuses:\n",
    "    status.getPath().toUri().getRawPath()\n",
    "    print(status)"
   ]
  },
  {
   "cell_type": "markdown",
   "metadata": {},
   "source": [
    "Now, make a dataframe with numbers from 5–10 and will give its datatype as String and append the dataset on our existing dataset. This _should_ error:"
   ]
  },
  {
   "cell_type": "code",
   "execution_count": 71,
   "metadata": {},
   "outputs": [
    {
     "ename": "AnalysisException",
     "evalue": "Failed to merge fields 'id' and 'id'. Failed to merge incompatible data types LongType and StringType",
     "output_type": "error",
     "traceback": [
      "\u001b[0;31m---------------------------------------------------------------------------\u001b[0m",
      "\u001b[0;31mAnalysisException\u001b[0m                         Traceback (most recent call last)",
      "\u001b[0;32m<ipython-input-71-563a79a1d212>\u001b[0m in \u001b[0;36m<module>\u001b[0;34m\u001b[0m\n\u001b[1;32m      2\u001b[0m \u001b[0mnew_data\u001b[0m \u001b[0;34m=\u001b[0m \u001b[0msession\u001b[0m\u001b[0;34m.\u001b[0m\u001b[0mrange\u001b[0m\u001b[0;34m(\u001b[0m\u001b[0;36m5\u001b[0m\u001b[0;34m,\u001b[0m\u001b[0;36m10\u001b[0m\u001b[0;34m)\u001b[0m\u001b[0;34m\u001b[0m\u001b[0;34m\u001b[0m\u001b[0m\n\u001b[1;32m      3\u001b[0m \u001b[0mnew_data\u001b[0m \u001b[0;34m=\u001b[0m \u001b[0mnew_data\u001b[0m\u001b[0;34m.\u001b[0m\u001b[0mwithColumn\u001b[0m\u001b[0;34m(\u001b[0m\u001b[0;34m\"id\"\u001b[0m\u001b[0;34m,\u001b[0m\u001b[0mfn\u001b[0m\u001b[0;34m.\u001b[0m\u001b[0mcol\u001b[0m\u001b[0;34m(\u001b[0m\u001b[0;34m\"id\"\u001b[0m\u001b[0;34m)\u001b[0m\u001b[0;34m.\u001b[0m\u001b[0mcast\u001b[0m\u001b[0;34m(\u001b[0m\u001b[0;34m\"String\"\u001b[0m\u001b[0;34m)\u001b[0m\u001b[0;34m)\u001b[0m\u001b[0;34m\u001b[0m\u001b[0;34m\u001b[0m\u001b[0m\n\u001b[0;32m----> 4\u001b[0;31m \u001b[0mnew_data\u001b[0m\u001b[0;34m.\u001b[0m\u001b[0mwrite\u001b[0m\u001b[0;34m.\u001b[0m\u001b[0mformat\u001b[0m\u001b[0;34m(\u001b[0m\u001b[0;34m\"delta\"\u001b[0m\u001b[0;34m)\u001b[0m\u001b[0;34m.\u001b[0m\u001b[0mmode\u001b[0m\u001b[0;34m(\u001b[0m\u001b[0;34m\"append\"\u001b[0m\u001b[0;34m)\u001b[0m\u001b[0;34m.\u001b[0m\u001b[0msave\u001b[0m\u001b[0;34m(\u001b[0m\u001b[0;34m\"s3a://delta-sample/\"\u001b[0m\u001b[0;34m)\u001b[0m\u001b[0;34m\u001b[0m\u001b[0;34m\u001b[0m\u001b[0m\n\u001b[0m",
      "\u001b[0;32m/opt/app-root/lib64/python3.8/site-packages/pyspark/sql/readwriter.py\u001b[0m in \u001b[0;36msave\u001b[0;34m(self, path, format, mode, partitionBy, **options)\u001b[0m\n\u001b[1;32m   1107\u001b[0m             \u001b[0mself\u001b[0m\u001b[0;34m.\u001b[0m\u001b[0m_jwrite\u001b[0m\u001b[0;34m.\u001b[0m\u001b[0msave\u001b[0m\u001b[0;34m(\u001b[0m\u001b[0;34m)\u001b[0m\u001b[0;34m\u001b[0m\u001b[0;34m\u001b[0m\u001b[0m\n\u001b[1;32m   1108\u001b[0m         \u001b[0;32melse\u001b[0m\u001b[0;34m:\u001b[0m\u001b[0;34m\u001b[0m\u001b[0;34m\u001b[0m\u001b[0m\n\u001b[0;32m-> 1109\u001b[0;31m             \u001b[0mself\u001b[0m\u001b[0;34m.\u001b[0m\u001b[0m_jwrite\u001b[0m\u001b[0;34m.\u001b[0m\u001b[0msave\u001b[0m\u001b[0;34m(\u001b[0m\u001b[0mpath\u001b[0m\u001b[0;34m)\u001b[0m\u001b[0;34m\u001b[0m\u001b[0;34m\u001b[0m\u001b[0m\n\u001b[0m\u001b[1;32m   1110\u001b[0m \u001b[0;34m\u001b[0m\u001b[0m\n\u001b[1;32m   1111\u001b[0m     \u001b[0;34m@\u001b[0m\u001b[0msince\u001b[0m\u001b[0;34m(\u001b[0m\u001b[0;36m1.4\u001b[0m\u001b[0;34m)\u001b[0m\u001b[0;34m\u001b[0m\u001b[0;34m\u001b[0m\u001b[0m\n",
      "\u001b[0;32m/opt/app-root/lib64/python3.8/site-packages/py4j/java_gateway.py\u001b[0m in \u001b[0;36m__call__\u001b[0;34m(self, *args)\u001b[0m\n\u001b[1;32m   1302\u001b[0m \u001b[0;34m\u001b[0m\u001b[0m\n\u001b[1;32m   1303\u001b[0m         \u001b[0manswer\u001b[0m \u001b[0;34m=\u001b[0m \u001b[0mself\u001b[0m\u001b[0;34m.\u001b[0m\u001b[0mgateway_client\u001b[0m\u001b[0;34m.\u001b[0m\u001b[0msend_command\u001b[0m\u001b[0;34m(\u001b[0m\u001b[0mcommand\u001b[0m\u001b[0;34m)\u001b[0m\u001b[0;34m\u001b[0m\u001b[0;34m\u001b[0m\u001b[0m\n\u001b[0;32m-> 1304\u001b[0;31m         return_value = get_return_value(\n\u001b[0m\u001b[1;32m   1305\u001b[0m             answer, self.gateway_client, self.target_id, self.name)\n\u001b[1;32m   1306\u001b[0m \u001b[0;34m\u001b[0m\u001b[0m\n",
      "\u001b[0;32m/opt/app-root/lib64/python3.8/site-packages/pyspark/sql/utils.py\u001b[0m in \u001b[0;36mdeco\u001b[0;34m(*a, **kw)\u001b[0m\n\u001b[1;32m    115\u001b[0m                 \u001b[0;31m# Hide where the exception came from that shows a non-Pythonic\u001b[0m\u001b[0;34m\u001b[0m\u001b[0;34m\u001b[0m\u001b[0;34m\u001b[0m\u001b[0m\n\u001b[1;32m    116\u001b[0m                 \u001b[0;31m# JVM exception message.\u001b[0m\u001b[0;34m\u001b[0m\u001b[0;34m\u001b[0m\u001b[0;34m\u001b[0m\u001b[0m\n\u001b[0;32m--> 117\u001b[0;31m                 \u001b[0;32mraise\u001b[0m \u001b[0mconverted\u001b[0m \u001b[0;32mfrom\u001b[0m \u001b[0;32mNone\u001b[0m\u001b[0;34m\u001b[0m\u001b[0;34m\u001b[0m\u001b[0m\n\u001b[0m\u001b[1;32m    118\u001b[0m             \u001b[0;32melse\u001b[0m\u001b[0;34m:\u001b[0m\u001b[0;34m\u001b[0m\u001b[0;34m\u001b[0m\u001b[0m\n\u001b[1;32m    119\u001b[0m                 \u001b[0;32mraise\u001b[0m\u001b[0;34m\u001b[0m\u001b[0;34m\u001b[0m\u001b[0m\n",
      "\u001b[0;31mAnalysisException\u001b[0m: Failed to merge fields 'id' and 'id'. Failed to merge incompatible data types LongType and StringType"
     ]
    }
   ],
   "source": [
    "import pyspark.sql.functions as fn\n",
    "new_data = session.range(5,10)\n",
    "new_data = new_data.withColumn(\"id\",fn.col(\"id\").cast(\"String\"))\n",
    "new_data.write.format(\"delta\").mode(\"append\").save(\"s3a://delta-sample/\")"
   ]
  },
  {
   "cell_type": "markdown",
   "metadata": {},
   "source": [
    "We get an error **AnalysisException: Failed to merge fields 'id' and 'id'. Failed to merge incompatible data types LongType and StringType** which is good.\n",
    "\n",
    "Delta lake stopped the incorrect data to go in our delta lake.\n",
    "\n",
    "Let's append the dataset with correct schema."
   ]
  },
  {
   "cell_type": "code",
   "execution_count": 72,
   "metadata": {},
   "outputs": [],
   "source": [
    "new_data = session.range(5,10)\n",
    "new_data.write.format(\"delta\").mode(\"append\").save(\"s3a://delta-sample/\")"
   ]
  },
  {
   "cell_type": "markdown",
   "metadata": {},
   "source": [
    "We can check the delta logs and see the we added the part files which were newly written on the dataset along with specifying information such as mode of write and modification time."
   ]
  },
  {
   "cell_type": "code",
   "execution_count": 119,
   "metadata": {},
   "outputs": [
    {
     "name": "stdout",
     "output_type": "stream",
     "text": [
      "+------------------------------------------------------------------------------------------------------------------------------------------------------------------------------------------------------------------------------------------------------------------------------------------------------+\n",
      "|value                                                                                                                                                                                                                                                                                                 |\n",
      "+------------------------------------------------------------------------------------------------------------------------------------------------------------------------------------------------------------------------------------------------------------------------------------------------------+\n",
      "|{\"commitInfo\":{\"timestamp\":1633903930731,\"operation\":\"WRITE\",\"operationParameters\":{\"mode\":\"Overwrite\",\"partitionBy\":\"[]\"},\"isBlindAppend\":false,\"operationMetrics\":{\"numFiles\":\"4\",\"numOutputBytes\":\"1852\",\"numOutputRows\":\"4\"}}}                                                                    |\n",
      "|{\"protocol\":{\"minReaderVersion\":1,\"minWriterVersion\":2}}                                                                                                                                                                                                                                              |\n",
      "|{\"metaData\":{\"id\":\"d967875c-9bc8-4319-9602-50d295bf70fd\",\"format\":{\"provider\":\"parquet\",\"options\":{}},\"schemaString\":\"{\\\"type\\\":\\\"struct\\\",\\\"fields\\\":[{\\\"name\\\":\\\"id\\\",\\\"type\\\":\\\"long\\\",\\\"nullable\\\":true,\\\"metadata\\\":{}}]}\",\"partitionColumns\":[],\"configuration\":{},\"createdTime\":1633903930115}}|\n",
      "|{\"add\":{\"path\":\"part-00000-e95c7935-1f98-459b-988d-5b375a9e72f9-c000.snappy.parquet\",\"partitionValues\":{},\"size\":463,\"modificationTime\":1633903930000,\"dataChange\":true}}                                                                                                                             |\n",
      "|{\"add\":{\"path\":\"part-00001-a7bf84dd-dc96-4306-a4a7-ca7c1fbe2c5f-c000.snappy.parquet\",\"partitionValues\":{},\"size\":463,\"modificationTime\":1633903930000,\"dataChange\":true}}                                                                                                                             |\n",
      "|{\"add\":{\"path\":\"part-00002-df0bb308-ca54-473b-a57a-493dc03e2ab3-c000.snappy.parquet\",\"partitionValues\":{},\"size\":463,\"modificationTime\":1633903930000,\"dataChange\":true}}                                                                                                                             |\n",
      "|{\"add\":{\"path\":\"part-00003-8239d12b-a010-4fee-9423-c5b76beacda0-c000.snappy.parquet\",\"partitionValues\":{},\"size\":463,\"modificationTime\":1633903930000,\"dataChange\":true}}                                                                                                                             |\n",
      "+------------------------------------------------------------------------------------------------------------------------------------------------------------------------------------------------------------------------------------------------------------------------------------------------------+\n",
      "\n",
      "+----------------------------------------------------------------------------------------------------------------------------------------------------------------------------------------------------------------------------------------------+\n",
      "|value                                                                                                                                                                                                                                         |\n",
      "+----------------------------------------------------------------------------------------------------------------------------------------------------------------------------------------------------------------------------------------------+\n",
      "|{\"commitInfo\":{\"timestamp\":1633903986650,\"operation\":\"WRITE\",\"operationParameters\":{\"mode\":\"Append\",\"partitionBy\":\"[]\"},\"readVersion\":0,\"isBlindAppend\":true,\"operationMetrics\":{\"numFiles\":\"4\",\"numOutputBytes\":\"1860\",\"numOutputRows\":\"5\"}}}|\n",
      "|{\"add\":{\"path\":\"part-00000-95641d4b-73ea-4bc5-a321-d60ee2be6bcb-c000.snappy.parquet\",\"partitionValues\":{},\"size\":463,\"modificationTime\":1633903986000,\"dataChange\":true}}                                                                     |\n",
      "|{\"add\":{\"path\":\"part-00001-aaa15491-d029-47e6-9f7e-265c1a924968-c000.snappy.parquet\",\"partitionValues\":{},\"size\":463,\"modificationTime\":1633903986000,\"dataChange\":true}}                                                                     |\n",
      "|{\"add\":{\"path\":\"part-00002-323cd80d-9cd9-4010-9f3e-c10d3ddad0b0-c000.snappy.parquet\",\"partitionValues\":{},\"size\":463,\"modificationTime\":1633903986000,\"dataChange\":true}}                                                                     |\n",
      "|{\"add\":{\"path\":\"part-00003-e039174b-41e6-4e3c-ac15-2802b4205ea2-c000.snappy.parquet\",\"partitionValues\":{},\"size\":471,\"modificationTime\":1633903986000,\"dataChange\":true}}                                                                     |\n",
      "+----------------------------------------------------------------------------------------------------------------------------------------------------------------------------------------------------------------------------------------------+\n",
      "\n"
     ]
    }
   ],
   "source": [
    "myPath = 's3a://delta-sample/_delta_log/*.json'\n",
    "hadoopPath = session._jvm.org.apache.hadoop.fs.Path(myPath)\n",
    "hadoopFs = hadoopPath.getFileSystem(session._jvm.org.apache.hadoop.conf.Configuration())\n",
    "statuses = hadoopFs.globStatus(hadoopPath)\n",
    "\n",
    "for status in statuses:\n",
    "    session.read.text('s3a://delta-sample/' + status.getPath().toUri().getRawPath()).show(truncate=False)"
   ]
  },
  {
   "cell_type": "markdown",
   "metadata": {},
   "source": [
    "### Deletion\n",
    "\n",
    "Lets read our table we just wrote in Delta Format."
   ]
  },
  {
   "cell_type": "code",
   "execution_count": 120,
   "metadata": {},
   "outputs": [
    {
     "data": {
      "text/plain": [
       "<delta.tables.DeltaTable at 0x7f9926a3e1c0>"
      ]
     },
     "execution_count": 120,
     "metadata": {},
     "output_type": "execute_result"
    }
   ],
   "source": [
    "from delta.tables import *\n",
    "delta_df = DeltaTable.forPath(session, \"s3a://delta-sample/\")\n",
    "delta_df"
   ]
  },
  {
   "cell_type": "markdown",
   "metadata": {},
   "source": [
    "Now, we will delete the data where id is ≤2."
   ]
  },
  {
   "cell_type": "code",
   "execution_count": 121,
   "metadata": {},
   "outputs": [],
   "source": [
    "delta_df.delete(\"id<=2\")"
   ]
  },
  {
   "cell_type": "markdown",
   "metadata": {},
   "source": [
    "Let’s checkout how the commit log is written for delete operation.\n",
    "\n",
    "It guides spark to delete the original part files through remove and then add the new part file with predicate as id≤2, the operation performed(DELETE) is specified"
   ]
  },
  {
   "cell_type": "code",
   "execution_count": 122,
   "metadata": {},
   "outputs": [
    {
     "name": "stdout",
     "output_type": "stream",
     "text": [
      "+------------------------------------------------------------------------------------------------------------------------------------------------------------------------------------------------------------------------------------------------------------------------------------------------------+\n",
      "|value                                                                                                                                                                                                                                                                                                 |\n",
      "+------------------------------------------------------------------------------------------------------------------------------------------------------------------------------------------------------------------------------------------------------------------------------------------------------+\n",
      "|{\"commitInfo\":{\"timestamp\":1633903930731,\"operation\":\"WRITE\",\"operationParameters\":{\"mode\":\"Overwrite\",\"partitionBy\":\"[]\"},\"isBlindAppend\":false,\"operationMetrics\":{\"numFiles\":\"4\",\"numOutputBytes\":\"1852\",\"numOutputRows\":\"4\"}}}                                                                    |\n",
      "|{\"protocol\":{\"minReaderVersion\":1,\"minWriterVersion\":2}}                                                                                                                                                                                                                                              |\n",
      "|{\"metaData\":{\"id\":\"d967875c-9bc8-4319-9602-50d295bf70fd\",\"format\":{\"provider\":\"parquet\",\"options\":{}},\"schemaString\":\"{\\\"type\\\":\\\"struct\\\",\\\"fields\\\":[{\\\"name\\\":\\\"id\\\",\\\"type\\\":\\\"long\\\",\\\"nullable\\\":true,\\\"metadata\\\":{}}]}\",\"partitionColumns\":[],\"configuration\":{},\"createdTime\":1633903930115}}|\n",
      "|{\"add\":{\"path\":\"part-00000-e95c7935-1f98-459b-988d-5b375a9e72f9-c000.snappy.parquet\",\"partitionValues\":{},\"size\":463,\"modificationTime\":1633903930000,\"dataChange\":true}}                                                                                                                             |\n",
      "|{\"add\":{\"path\":\"part-00001-a7bf84dd-dc96-4306-a4a7-ca7c1fbe2c5f-c000.snappy.parquet\",\"partitionValues\":{},\"size\":463,\"modificationTime\":1633903930000,\"dataChange\":true}}                                                                                                                             |\n",
      "|{\"add\":{\"path\":\"part-00002-df0bb308-ca54-473b-a57a-493dc03e2ab3-c000.snappy.parquet\",\"partitionValues\":{},\"size\":463,\"modificationTime\":1633903930000,\"dataChange\":true}}                                                                                                                             |\n",
      "|{\"add\":{\"path\":\"part-00003-8239d12b-a010-4fee-9423-c5b76beacda0-c000.snappy.parquet\",\"partitionValues\":{},\"size\":463,\"modificationTime\":1633903930000,\"dataChange\":true}}                                                                                                                             |\n",
      "+------------------------------------------------------------------------------------------------------------------------------------------------------------------------------------------------------------------------------------------------------------------------------------------------------+\n",
      "\n",
      "+----------------------------------------------------------------------------------------------------------------------------------------------------------------------------------------------------------------------------------------------+\n",
      "|value                                                                                                                                                                                                                                         |\n",
      "+----------------------------------------------------------------------------------------------------------------------------------------------------------------------------------------------------------------------------------------------+\n",
      "|{\"commitInfo\":{\"timestamp\":1633903986650,\"operation\":\"WRITE\",\"operationParameters\":{\"mode\":\"Append\",\"partitionBy\":\"[]\"},\"readVersion\":0,\"isBlindAppend\":true,\"operationMetrics\":{\"numFiles\":\"4\",\"numOutputBytes\":\"1860\",\"numOutputRows\":\"5\"}}}|\n",
      "|{\"add\":{\"path\":\"part-00000-95641d4b-73ea-4bc5-a321-d60ee2be6bcb-c000.snappy.parquet\",\"partitionValues\":{},\"size\":463,\"modificationTime\":1633903986000,\"dataChange\":true}}                                                                     |\n",
      "|{\"add\":{\"path\":\"part-00001-aaa15491-d029-47e6-9f7e-265c1a924968-c000.snappy.parquet\",\"partitionValues\":{},\"size\":463,\"modificationTime\":1633903986000,\"dataChange\":true}}                                                                     |\n",
      "|{\"add\":{\"path\":\"part-00002-323cd80d-9cd9-4010-9f3e-c10d3ddad0b0-c000.snappy.parquet\",\"partitionValues\":{},\"size\":463,\"modificationTime\":1633903986000,\"dataChange\":true}}                                                                     |\n",
      "|{\"add\":{\"path\":\"part-00003-e039174b-41e6-4e3c-ac15-2802b4205ea2-c000.snappy.parquet\",\"partitionValues\":{},\"size\":471,\"modificationTime\":1633903986000,\"dataChange\":true}}                                                                     |\n",
      "+----------------------------------------------------------------------------------------------------------------------------------------------------------------------------------------------------------------------------------------------+\n",
      "\n",
      "+----------------------------------------------------------------------------------------------------------------------------------------------------------------------------------------------------------------------------------------------------------------------------------------------------------------------------------------+\n",
      "|value                                                                                                                                                                                                                                                                                                                                   |\n",
      "+----------------------------------------------------------------------------------------------------------------------------------------------------------------------------------------------------------------------------------------------------------------------------------------------------------------------------------------+\n",
      "|{\"commitInfo\":{\"timestamp\":1633905525213,\"operation\":\"DELETE\",\"operationParameters\":{\"predicate\":\"[\\\"(`id` <= 2L)\\\"]\"},\"readVersion\":1,\"isBlindAppend\":false,\"operationMetrics\":{\"numRemovedFiles\":\"2\",\"numCopiedRows\":\"0\",\"executionTimeMs\":\"1008\",\"numDeletedRows\":\"2\",\"scanTimeMs\":\"858\",\"numAddedFiles\":\"1\",\"rewriteTimeMs\":\"150\"}}}|\n",
      "|{\"remove\":{\"path\":\"part-00001-a7bf84dd-dc96-4306-a4a7-ca7c1fbe2c5f-c000.snappy.parquet\",\"deletionTimestamp\":1633905525212,\"dataChange\":true,\"extendedFileMetadata\":true,\"partitionValues\":{},\"size\":463}}                                                                                                                               |\n",
      "|{\"remove\":{\"path\":\"part-00000-e95c7935-1f98-459b-988d-5b375a9e72f9-c000.snappy.parquet\",\"deletionTimestamp\":1633905525212,\"dataChange\":true,\"extendedFileMetadata\":true,\"partitionValues\":{},\"size\":463}}                                                                                                                               |\n",
      "|{\"add\":{\"path\":\"part-00000-bfc6e25a-db83-44a7-aecf-3fc1d8beb90e-c000.snappy.parquet\",\"partitionValues\":{},\"size\":296,\"modificationTime\":1633905525000,\"dataChange\":true}}                                                                                                                                                               |\n",
      "+----------------------------------------------------------------------------------------------------------------------------------------------------------------------------------------------------------------------------------------------------------------------------------------------------------------------------------------+\n",
      "\n"
     ]
    }
   ],
   "source": [
    "myPath = 's3a://delta-sample/_delta_log/*.json'\n",
    "hadoopPath = session._jvm.org.apache.hadoop.fs.Path(myPath)\n",
    "hadoopFs = hadoopPath.getFileSystem(session._jvm.org.apache.hadoop.conf.Configuration())\n",
    "statuses = hadoopFs.globStatus(hadoopPath)\n",
    "\n",
    "for status in statuses:\n",
    "    session.read.text('s3a://delta-sample/' + status.getPath().toUri().getRawPath()).show(truncate=False)"
   ]
  },
  {
   "cell_type": "markdown",
   "metadata": {},
   "source": [
    "### Updates\n",
    "\n",
    "We will read the dataset again and will update the value from 5 to 500."
   ]
  },
  {
   "cell_type": "code",
   "execution_count": 123,
   "metadata": {},
   "outputs": [
    {
     "name": "stdout",
     "output_type": "stream",
     "text": [
      "+---+\n",
      "| id|\n",
      "+---+\n",
      "|  8|\n",
      "|  9|\n",
      "|  3|\n",
      "|  4|\n",
      "|500|\n",
      "|  7|\n",
      "|  6|\n",
      "+---+\n",
      "\n"
     ]
    }
   ],
   "source": [
    "delta_df = DeltaTable.forPath(session, \"s3a://delta-sample/\")\n",
    "delta_df.update(condition = \"id = 5\", set = { \"id\": \"500\" })\n",
    "delta_df.toDF().show()"
   ]
  },
  {
   "cell_type": "markdown",
   "metadata": {},
   "source": [
    "The above operation is will set id to 500 where it is 5, the Delta Table is auto refresh as the data is updated. \n",
    "\n",
    "As you can see the syntax is very simple."
   ]
  },
  {
   "cell_type": "code",
   "execution_count": 124,
   "metadata": {},
   "outputs": [
    {
     "name": "stdout",
     "output_type": "stream",
     "text": [
      "+------------------------------------------------------------------------------------------------------------------------------------------------------------------------------------------------------------------------------------------------------------------------------------------------------+\n",
      "|value                                                                                                                                                                                                                                                                                                 |\n",
      "+------------------------------------------------------------------------------------------------------------------------------------------------------------------------------------------------------------------------------------------------------------------------------------------------------+\n",
      "|{\"commitInfo\":{\"timestamp\":1633903930731,\"operation\":\"WRITE\",\"operationParameters\":{\"mode\":\"Overwrite\",\"partitionBy\":\"[]\"},\"isBlindAppend\":false,\"operationMetrics\":{\"numFiles\":\"4\",\"numOutputBytes\":\"1852\",\"numOutputRows\":\"4\"}}}                                                                    |\n",
      "|{\"protocol\":{\"minReaderVersion\":1,\"minWriterVersion\":2}}                                                                                                                                                                                                                                              |\n",
      "|{\"metaData\":{\"id\":\"d967875c-9bc8-4319-9602-50d295bf70fd\",\"format\":{\"provider\":\"parquet\",\"options\":{}},\"schemaString\":\"{\\\"type\\\":\\\"struct\\\",\\\"fields\\\":[{\\\"name\\\":\\\"id\\\",\\\"type\\\":\\\"long\\\",\\\"nullable\\\":true,\\\"metadata\\\":{}}]}\",\"partitionColumns\":[],\"configuration\":{},\"createdTime\":1633903930115}}|\n",
      "|{\"add\":{\"path\":\"part-00000-e95c7935-1f98-459b-988d-5b375a9e72f9-c000.snappy.parquet\",\"partitionValues\":{},\"size\":463,\"modificationTime\":1633903930000,\"dataChange\":true}}                                                                                                                             |\n",
      "|{\"add\":{\"path\":\"part-00001-a7bf84dd-dc96-4306-a4a7-ca7c1fbe2c5f-c000.snappy.parquet\",\"partitionValues\":{},\"size\":463,\"modificationTime\":1633903930000,\"dataChange\":true}}                                                                                                                             |\n",
      "|{\"add\":{\"path\":\"part-00002-df0bb308-ca54-473b-a57a-493dc03e2ab3-c000.snappy.parquet\",\"partitionValues\":{},\"size\":463,\"modificationTime\":1633903930000,\"dataChange\":true}}                                                                                                                             |\n",
      "|{\"add\":{\"path\":\"part-00003-8239d12b-a010-4fee-9423-c5b76beacda0-c000.snappy.parquet\",\"partitionValues\":{},\"size\":463,\"modificationTime\":1633903930000,\"dataChange\":true}}                                                                                                                             |\n",
      "+------------------------------------------------------------------------------------------------------------------------------------------------------------------------------------------------------------------------------------------------------------------------------------------------------+\n",
      "\n",
      "+----------------------------------------------------------------------------------------------------------------------------------------------------------------------------------------------------------------------------------------------+\n",
      "|value                                                                                                                                                                                                                                         |\n",
      "+----------------------------------------------------------------------------------------------------------------------------------------------------------------------------------------------------------------------------------------------+\n",
      "|{\"commitInfo\":{\"timestamp\":1633903986650,\"operation\":\"WRITE\",\"operationParameters\":{\"mode\":\"Append\",\"partitionBy\":\"[]\"},\"readVersion\":0,\"isBlindAppend\":true,\"operationMetrics\":{\"numFiles\":\"4\",\"numOutputBytes\":\"1860\",\"numOutputRows\":\"5\"}}}|\n",
      "|{\"add\":{\"path\":\"part-00000-95641d4b-73ea-4bc5-a321-d60ee2be6bcb-c000.snappy.parquet\",\"partitionValues\":{},\"size\":463,\"modificationTime\":1633903986000,\"dataChange\":true}}                                                                     |\n",
      "|{\"add\":{\"path\":\"part-00001-aaa15491-d029-47e6-9f7e-265c1a924968-c000.snappy.parquet\",\"partitionValues\":{},\"size\":463,\"modificationTime\":1633903986000,\"dataChange\":true}}                                                                     |\n",
      "|{\"add\":{\"path\":\"part-00002-323cd80d-9cd9-4010-9f3e-c10d3ddad0b0-c000.snappy.parquet\",\"partitionValues\":{},\"size\":463,\"modificationTime\":1633903986000,\"dataChange\":true}}                                                                     |\n",
      "|{\"add\":{\"path\":\"part-00003-e039174b-41e6-4e3c-ac15-2802b4205ea2-c000.snappy.parquet\",\"partitionValues\":{},\"size\":471,\"modificationTime\":1633903986000,\"dataChange\":true}}                                                                     |\n",
      "+----------------------------------------------------------------------------------------------------------------------------------------------------------------------------------------------------------------------------------------------+\n",
      "\n",
      "+----------------------------------------------------------------------------------------------------------------------------------------------------------------------------------------------------------------------------------------------------------------------------------------------------------------------------------------+\n",
      "|value                                                                                                                                                                                                                                                                                                                                   |\n",
      "+----------------------------------------------------------------------------------------------------------------------------------------------------------------------------------------------------------------------------------------------------------------------------------------------------------------------------------------+\n",
      "|{\"commitInfo\":{\"timestamp\":1633905525213,\"operation\":\"DELETE\",\"operationParameters\":{\"predicate\":\"[\\\"(`id` <= 2L)\\\"]\"},\"readVersion\":1,\"isBlindAppend\":false,\"operationMetrics\":{\"numRemovedFiles\":\"2\",\"numCopiedRows\":\"0\",\"executionTimeMs\":\"1008\",\"numDeletedRows\":\"2\",\"scanTimeMs\":\"858\",\"numAddedFiles\":\"1\",\"rewriteTimeMs\":\"150\"}}}|\n",
      "|{\"remove\":{\"path\":\"part-00001-a7bf84dd-dc96-4306-a4a7-ca7c1fbe2c5f-c000.snappy.parquet\",\"deletionTimestamp\":1633905525212,\"dataChange\":true,\"extendedFileMetadata\":true,\"partitionValues\":{},\"size\":463}}                                                                                                                               |\n",
      "|{\"remove\":{\"path\":\"part-00000-e95c7935-1f98-459b-988d-5b375a9e72f9-c000.snappy.parquet\",\"deletionTimestamp\":1633905525212,\"dataChange\":true,\"extendedFileMetadata\":true,\"partitionValues\":{},\"size\":463}}                                                                                                                               |\n",
      "|{\"add\":{\"path\":\"part-00000-bfc6e25a-db83-44a7-aecf-3fc1d8beb90e-c000.snappy.parquet\",\"partitionValues\":{},\"size\":296,\"modificationTime\":1633905525000,\"dataChange\":true}}                                                                                                                                                               |\n",
      "+----------------------------------------------------------------------------------------------------------------------------------------------------------------------------------------------------------------------------------------------------------------------------------------------------------------------------------------+\n",
      "\n",
      "+------------------------------------------------------------------------------------------------------------------------------------------------------------------------------------------------------------------------------------------------------------------------------------------------------------------------------------+\n",
      "|value                                                                                                                                                                                                                                                                                                                               |\n",
      "+------------------------------------------------------------------------------------------------------------------------------------------------------------------------------------------------------------------------------------------------------------------------------------------------------------------------------------+\n",
      "|{\"commitInfo\":{\"timestamp\":1633905561975,\"operation\":\"UPDATE\",\"operationParameters\":{\"predicate\":\"(id#2825L = 5)\"},\"readVersion\":2,\"isBlindAppend\":false,\"operationMetrics\":{\"numRemovedFiles\":\"1\",\"numCopiedRows\":\"0\",\"executionTimeMs\":\"1169\",\"scanTimeMs\":\"987\",\"numAddedFiles\":\"1\",\"numUpdatedRows\":\"1\",\"rewriteTimeMs\":\"182\"}}}|\n",
      "|{\"remove\":{\"path\":\"part-00000-95641d4b-73ea-4bc5-a321-d60ee2be6bcb-c000.snappy.parquet\",\"deletionTimestamp\":1633905561792,\"dataChange\":true,\"extendedFileMetadata\":true,\"partitionValues\":{},\"size\":463}}                                                                                                                           |\n",
      "|{\"add\":{\"path\":\"part-00000-0a975d96-655a-4727-a94a-11163f3aedb7-c000.snappy.parquet\",\"partitionValues\":{},\"size\":463,\"modificationTime\":1633905561000,\"dataChange\":true}}                                                                                                                                                           |\n",
      "+------------------------------------------------------------------------------------------------------------------------------------------------------------------------------------------------------------------------------------------------------------------------------------------------------------------------------------+\n",
      "\n"
     ]
    }
   ],
   "source": [
    "myPath = 's3a://delta-sample/_delta_log/*.json'\n",
    "hadoopPath = session._jvm.org.apache.hadoop.fs.Path(myPath)\n",
    "hadoopFs = hadoopPath.getFileSystem(session._jvm.org.apache.hadoop.conf.Configuration())\n",
    "statuses = hadoopFs.globStatus(hadoopPath)\n",
    "\n",
    "for status in statuses:\n",
    "    session.read.text('s3a://delta-sample/' + status.getPath().toUri().getRawPath()).show(truncate=False)"
   ]
  },
  {
   "cell_type": "markdown",
   "metadata": {},
   "source": [
    "### Merge\n",
    "\n",
    "Now, we will perform the merge operation on our Delta Table. Create a new dataset containing Country, Year and Temperature columns and will write it as a Delta Table."
   ]
  },
  {
   "cell_type": "code",
   "execution_count": 128,
   "metadata": {},
   "outputs": [],
   "source": [
    "data = [\n",
    "    (\"Australia\", 2019, 23.34),\n",
    "    (\"Pakistan\", 2021, 27.89892)\n",
    "]\n",
    "df = session.createDataFrame(data, [\"country\", \"year\", \"temperature\"])\n",
    "df.write.format(\"delta\").save(\"s3a://delta-sample/delta_merge\")"
   ]
  },
  {
   "cell_type": "code",
   "execution_count": 129,
   "metadata": {},
   "outputs": [
    {
     "name": "stdout",
     "output_type": "stream",
     "text": [
      "+---------+----+-----------+\n",
      "|  country|year|temperature|\n",
      "+---------+----+-----------+\n",
      "|Australia|2019|      23.34|\n",
      "| Pakistan|2021|   27.89892|\n",
      "+---------+----+-----------+\n",
      "\n"
     ]
    }
   ],
   "source": [
    "delta_merge_df = DeltaTable.forPath(session, \"s3a://delta-sample/delta_merge\")\n",
    "delta_merge_df.toDF().show()"
   ]
  },
  {
   "cell_type": "code",
   "execution_count": 130,
   "metadata": {},
   "outputs": [
    {
     "name": "stdout",
     "output_type": "stream",
     "text": [
      "+-----------+----+-----------+\n",
      "|    country|year|temperature|\n",
      "+-----------+----+-----------+\n",
      "|  Australia|2021|      100.0|\n",
      "|New Zealand|2019|   19.34534|\n",
      "+-----------+----+-----------+\n",
      "\n"
     ]
    }
   ],
   "source": [
    "update_data = [\n",
    "    (\"Australia\", 2021, 100.00),\n",
    "    (\"New Zealand\", 2019, 19.34534)\n",
    "]\n",
    "update_df = session.createDataFrame(update_data, [\"country\", \"year\", \"temperature\"])\n",
    "update_df.show()"
   ]
  },
  {
   "cell_type": "code",
   "execution_count": 131,
   "metadata": {},
   "outputs": [],
   "source": [
    "delta_merge_df.alias(\"delta_merge\").merge(\n",
    "    update_df.alias(\"updates\"),\n",
    "    \"delta_merge.country = updates.country\") \\\n",
    "  .whenMatchedUpdate(set = { \n",
    "        \"temperature\" : \"updates.temperature\",\n",
    "        \"year\" : \"updates.year\"\n",
    "  } ) \\\n",
    "  .whenNotMatchedInsert(values =\n",
    "    {\n",
    "      \"country\": \"updates.country\",\n",
    "      \"year\": \"updates.year\",\n",
    "      \"temperature\": \"updates.temperature\"\n",
    "    }\n",
    "  ) \\\n",
    "  .execute()"
   ]
  },
  {
   "cell_type": "markdown",
   "metadata": {},
   "source": [
    "Final merged records - Australia got updated to 100.00, and year got updated to 2021"
   ]
  },
  {
   "cell_type": "code",
   "execution_count": 132,
   "metadata": {},
   "outputs": [
    {
     "name": "stdout",
     "output_type": "stream",
     "text": [
      "+-----------+----+-----------+\n",
      "|    country|year|temperature|\n",
      "+-----------+----+-----------+\n",
      "|New Zealand|2019|   19.34534|\n",
      "|  Australia|2021|      100.0|\n",
      "|   Pakistan|2021|   27.89892|\n",
      "+-----------+----+-----------+\n",
      "\n"
     ]
    }
   ],
   "source": [
    "delta_merge_df.toDF().show()"
   ]
  },
  {
   "cell_type": "markdown",
   "metadata": {},
   "source": [
    "### Time Travel\n",
    "\n",
    "Delta Lake we will be able to maintain different versions of our dataset’s and can be reused when needed."
   ]
  },
  {
   "cell_type": "code",
   "execution_count": 133,
   "metadata": {},
   "outputs": [
    {
     "name": "stdout",
     "output_type": "stream",
     "text": [
      "+-------+-------------------+------+--------+---------+--------------------------------------+----+--------+---------+-----------+--------------+-------------+-----------------------------------------------------------------------------------------------------------------------------------------------------+------------+\n",
      "|version|timestamp          |userId|userName|operation|operationParameters                   |job |notebook|clusterId|readVersion|isolationLevel|isBlindAppend|operationMetrics                                                                                                                                     |userMetadata|\n",
      "+-------+-------------------+------+--------+---------+--------------------------------------+----+--------+---------+-----------+--------------+-------------+-----------------------------------------------------------------------------------------------------------------------------------------------------+------------+\n",
      "|3      |2021-10-10 22:39:21|null  |null    |UPDATE   |{predicate -> (id#2825L = 5)}         |null|null    |null     |2          |null          |false        |{numRemovedFiles -> 1, numCopiedRows -> 0, executionTimeMs -> 1169, scanTimeMs -> 987, numAddedFiles -> 1, numUpdatedRows -> 1, rewriteTimeMs -> 182}|null        |\n",
      "|2      |2021-10-10 22:38:45|null  |null    |DELETE   |{predicate -> [\"(`id` <= 2L)\"]}       |null|null    |null     |1          |null          |false        |{numRemovedFiles -> 2, numCopiedRows -> 0, executionTimeMs -> 1008, numDeletedRows -> 2, scanTimeMs -> 858, numAddedFiles -> 1, rewriteTimeMs -> 150}|null        |\n",
      "|1      |2021-10-10 22:13:06|null  |null    |WRITE    |{mode -> Append, partitionBy -> []}   |null|null    |null     |0          |null          |true         |{numFiles -> 4, numOutputBytes -> 1860, numOutputRows -> 5}                                                                                          |null        |\n",
      "|0      |2021-10-10 22:12:10|null  |null    |WRITE    |{mode -> Overwrite, partitionBy -> []}|null|null    |null     |null       |null          |false        |{numFiles -> 4, numOutputBytes -> 1852, numOutputRows -> 4}                                                                                          |null        |\n",
      "+-------+-------------------+------+--------+---------+--------------------------------------+----+--------+---------+-----------+--------------+-------------+-----------------------------------------------------------------------------------------------------------------------------------------------------+------------+\n",
      "\n"
     ]
    }
   ],
   "source": [
    "delta_df.history().show(10, False)"
   ]
  },
  {
   "cell_type": "markdown",
   "metadata": {},
   "source": [
    "Current data looks like this:"
   ]
  },
  {
   "cell_type": "code",
   "execution_count": 134,
   "metadata": {},
   "outputs": [
    {
     "name": "stdout",
     "output_type": "stream",
     "text": [
      "+---+\n",
      "| id|\n",
      "+---+\n",
      "|  8|\n",
      "|  9|\n",
      "|  3|\n",
      "|  4|\n",
      "|500|\n",
      "|  7|\n",
      "|  6|\n",
      "+---+\n",
      "\n"
     ]
    }
   ],
   "source": [
    "delta_df = DeltaTable.forPath(session, \"s3a://delta-sample/\")\n",
    "delta_df.toDF().show()"
   ]
  },
  {
   "cell_type": "markdown",
   "metadata": {},
   "source": [
    "Lets get back version 1 of our data"
   ]
  },
  {
   "cell_type": "code",
   "execution_count": 135,
   "metadata": {},
   "outputs": [
    {
     "name": "stdout",
     "output_type": "stream",
     "text": [
      "+---+\n",
      "| id|\n",
      "+---+\n",
      "|  8|\n",
      "|  9|\n",
      "|  5|\n",
      "|  3|\n",
      "|  1|\n",
      "|  2|\n",
      "|  4|\n",
      "|  7|\n",
      "|  6|\n",
      "+---+\n",
      "\n"
     ]
    }
   ],
   "source": [
    "version_1 = session.read.format(\"delta\").option(\"versionAsOf\",1).load(\"s3a://delta-sample/\")\n",
    "version_1.show()"
   ]
  },
  {
   "cell_type": "markdown",
   "metadata": {},
   "source": [
    "So we dont blow out our storage, we can use `deltaTable.vacuum()`\n",
    "\n",
    "    deltaTable.vacuum()     # vacuum files not required by versions more than 7 days old\n",
    "    deltaTable.vacuum(100)  # vacuum files not required by versions more than 100 hours old"
   ]
  },
  {
   "cell_type": "code",
   "execution_count": 3,
   "metadata": {},
   "outputs": [],
   "source": [
    "session.stop()"
   ]
  }
 ],
 "metadata": {
  "interpreter": {
   "hash": "e7370f93d1d0cde622a1f8e1c04877d8463912d04d973331ad4851f04de6915a"
  },
  "kernelspec": {
   "display_name": "Python 3",
   "language": "python",
   "name": "python3"
  },
  "language_info": {
   "codemirror_mode": {
    "name": "ipython",
    "version": 3
   },
   "file_extension": ".py",
   "mimetype": "text/x-python",
   "name": "python",
   "nbconvert_exporter": "python",
   "pygments_lexer": "ipython3",
   "version": "3.8.6"
  }
 },
 "nbformat": 4,
 "nbformat_minor": 4
}
