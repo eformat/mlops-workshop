{
 "cells": [
  {
   "cell_type": "code",
   "execution_count": null,
   "metadata": {
    "collapsed": false,
    "jupyter": {
     "outputs_hidden": false
    },
    "pycharm": {
     "name": "#%%\n"
    }
   },
   "outputs": [],
   "source": [
    "\n",
    "### WIP\n",
    "\n"
   ]
  },
  {
   "cell_type": "code",
   "execution_count": null,
   "metadata": {},
   "outputs": [],
   "source": [
    "# https://github.com/SeldonIO/alibi-detect#drift-detection"
   ]
  },
  {
   "cell_type": "code",
   "execution_count": null,
   "metadata": {
    "collapsed": false,
    "jupyter": {
     "outputs_hidden": false
    },
    "pycharm": {
     "name": "#%%\n"
    }
   },
   "outputs": [],
   "source": [
    "# #pip  install alibi-detect --user\n",
    "# # # !pip  install tensorflow\n",
    "# !pip install catboost\n",
    "# !pip install xgboost\n",
    "!pip install category_encoders\n",
    "# # # !pip install torch torchvision torchaudio\n",
    "# !pip install lightgbm\n",
    "!pip install verta\n",
    "!pip install minio\n"
   ]
  },
  {
   "cell_type": "markdown",
   "metadata": {},
   "source": [
    "Load List of the required libraries"
   ]
  },
  {
   "cell_type": "code",
   "execution_count": 1,
   "metadata": {
    "collapsed": false,
    "jupyter": {
     "outputs_hidden": false
    },
    "pycharm": {
     "name": "#%%\n"
    }
   },
   "outputs": [],
   "source": [
    "\n",
    "\n",
    "import alibi\n",
    "\n",
    "from alibi_detect.cd import TabularDrift,MMDDrift\n",
    "from alibi_detect.utils.saving import save_detector, load_detector\n",
    "\n",
    "\n",
    "import pandas as pd\n",
    "import numpy as np\n",
    "import matplotlib as mat\n",
    "import matplotlib.pyplot as plt    \n",
    "import seaborn as sns\n",
    "import category_encoders as ce\n",
    "import joblib\n",
    "from datetime import datetime\n",
    "\n",
    "%matplotlib inline\n",
    "\n",
    "from sklearn.model_selection import train_test_split\n",
    "from sklearn import metrics\n",
    "from sklearn.preprocessing import LabelEncoder\n",
    "from sklearn.preprocessing import OneHotEncoder\n",
    "\n",
    "from minio import Minio\n",
    "from verta import Client\n",
    "# from minio.error import ResponseError\n",
    "\n",
    "# import pickle\n",
    "import warnings"
   ]
  },
  {
   "cell_type": "code",
   "execution_count": 2,
   "metadata": {},
   "outputs": [],
   "source": [
    "dateTimeObj = datetime.now()\n",
    "timestampStr = dateTimeObj.strftime(\"%d%Y%H%M%S%f\")\n",
    "experiment_name = \"customerchurnuser9\"\n",
    "experiment_id = experiment_name + timestampStr"
   ]
  },
  {
   "cell_type": "code",
   "execution_count": 3,
   "metadata": {},
   "outputs": [],
   "source": [
    "\n",
    "\n",
    "def get_s3_server():\n",
    "    minioClient = Minio('minio-ml-workshop:9000',\n",
    "                    access_key='minio',\n",
    "                    secret_key='minio123',\n",
    "                    secure=False)\n"
   ]
  },
  {
   "cell_type": "code",
   "execution_count": 4,
   "metadata": {
    "collapsed": false,
    "jupyter": {
     "outputs_hidden": false
    },
    "pycharm": {
     "name": "#%%\n"
    }
   },
   "outputs": [
    {
     "data": {
      "text/plain": "   customerID  gender  SeniorCitizen Partner Dependents  tenure PhoneService  \\\n0         148    Male              0      No         No       1          Yes   \n1         463    Male              0     Yes        Yes       4          Yes   \n2         471  Female              1      No         No      17          Yes   \n3         496    Male              0      No         No      22           No   \n4         833  Female              0     Yes        Yes      70          Yes   \n\n      MultipleLines InternetService       OnlineSecurity  ...  \\\n0                No             DSL                   No  ...   \n1               Yes     Fiber optic                   No  ...   \n2                No              No  No internet service  ...   \n3  No phone service             DSL                   No  ...   \n4                No             DSL                  Yes  ...   \n\n      DeviceProtection          TechSupport          StreamingTV  \\\n0                   No                   No                   No   \n1                  Yes                   No                  Yes   \n2  No internet service  No internet service  No internet service   \n3                  Yes                   No                   No   \n4                  Yes                  Yes                   No   \n\n       StreamingMovies        Contract PaperlessBilling  \\\n0                   No  Month-to-month              Yes   \n1                  Yes  Month-to-month               No   \n2  No internet service        One year               No   \n3                  Yes        One year              Yes   \n4                  Yes        One year               No   \n\n               PaymentMethod MonthlyCharges  TotalCharges  Churn  \n0           Electronic check          45.65         45.65    Yes  \n1           Electronic check         101.15        385.90    Yes  \n2               Mailed check          20.65        330.60     No  \n3  Bank transfer (automatic)          43.75        903.60    Yes  \n4    Credit card (automatic)          74.10       5222.30     No  \n\n[5 rows x 21 columns]",
      "text/html": "<div>\n<style scoped>\n    .dataframe tbody tr th:only-of-type {\n        vertical-align: middle;\n    }\n\n    .dataframe tbody tr th {\n        vertical-align: top;\n    }\n\n    .dataframe thead th {\n        text-align: right;\n    }\n</style>\n<table border=\"1\" class=\"dataframe\">\n  <thead>\n    <tr style=\"text-align: right;\">\n      <th></th>\n      <th>customerID</th>\n      <th>gender</th>\n      <th>SeniorCitizen</th>\n      <th>Partner</th>\n      <th>Dependents</th>\n      <th>tenure</th>\n      <th>PhoneService</th>\n      <th>MultipleLines</th>\n      <th>InternetService</th>\n      <th>OnlineSecurity</th>\n      <th>...</th>\n      <th>DeviceProtection</th>\n      <th>TechSupport</th>\n      <th>StreamingTV</th>\n      <th>StreamingMovies</th>\n      <th>Contract</th>\n      <th>PaperlessBilling</th>\n      <th>PaymentMethod</th>\n      <th>MonthlyCharges</th>\n      <th>TotalCharges</th>\n      <th>Churn</th>\n    </tr>\n  </thead>\n  <tbody>\n    <tr>\n      <th>0</th>\n      <td>148</td>\n      <td>Male</td>\n      <td>0</td>\n      <td>No</td>\n      <td>No</td>\n      <td>1</td>\n      <td>Yes</td>\n      <td>No</td>\n      <td>DSL</td>\n      <td>No</td>\n      <td>...</td>\n      <td>No</td>\n      <td>No</td>\n      <td>No</td>\n      <td>No</td>\n      <td>Month-to-month</td>\n      <td>Yes</td>\n      <td>Electronic check</td>\n      <td>45.65</td>\n      <td>45.65</td>\n      <td>Yes</td>\n    </tr>\n    <tr>\n      <th>1</th>\n      <td>463</td>\n      <td>Male</td>\n      <td>0</td>\n      <td>Yes</td>\n      <td>Yes</td>\n      <td>4</td>\n      <td>Yes</td>\n      <td>Yes</td>\n      <td>Fiber optic</td>\n      <td>No</td>\n      <td>...</td>\n      <td>Yes</td>\n      <td>No</td>\n      <td>Yes</td>\n      <td>Yes</td>\n      <td>Month-to-month</td>\n      <td>No</td>\n      <td>Electronic check</td>\n      <td>101.15</td>\n      <td>385.90</td>\n      <td>Yes</td>\n    </tr>\n    <tr>\n      <th>2</th>\n      <td>471</td>\n      <td>Female</td>\n      <td>1</td>\n      <td>No</td>\n      <td>No</td>\n      <td>17</td>\n      <td>Yes</td>\n      <td>No</td>\n      <td>No</td>\n      <td>No internet service</td>\n      <td>...</td>\n      <td>No internet service</td>\n      <td>No internet service</td>\n      <td>No internet service</td>\n      <td>No internet service</td>\n      <td>One year</td>\n      <td>No</td>\n      <td>Mailed check</td>\n      <td>20.65</td>\n      <td>330.60</td>\n      <td>No</td>\n    </tr>\n    <tr>\n      <th>3</th>\n      <td>496</td>\n      <td>Male</td>\n      <td>0</td>\n      <td>No</td>\n      <td>No</td>\n      <td>22</td>\n      <td>No</td>\n      <td>No phone service</td>\n      <td>DSL</td>\n      <td>No</td>\n      <td>...</td>\n      <td>Yes</td>\n      <td>No</td>\n      <td>No</td>\n      <td>Yes</td>\n      <td>One year</td>\n      <td>Yes</td>\n      <td>Bank transfer (automatic)</td>\n      <td>43.75</td>\n      <td>903.60</td>\n      <td>Yes</td>\n    </tr>\n    <tr>\n      <th>4</th>\n      <td>833</td>\n      <td>Female</td>\n      <td>0</td>\n      <td>Yes</td>\n      <td>Yes</td>\n      <td>70</td>\n      <td>Yes</td>\n      <td>No</td>\n      <td>DSL</td>\n      <td>Yes</td>\n      <td>...</td>\n      <td>Yes</td>\n      <td>Yes</td>\n      <td>No</td>\n      <td>Yes</td>\n      <td>One year</td>\n      <td>No</td>\n      <td>Credit card (automatic)</td>\n      <td>74.10</td>\n      <td>5222.30</td>\n      <td>No</td>\n    </tr>\n  </tbody>\n</table>\n<p>5 rows × 21 columns</p>\n</div>"
     },
     "execution_count": 4,
     "metadata": {},
     "output_type": "execute_result"
    }
   ],
   "source": [
    "data = pd.read_csv('../../data/data.csv')\n",
    "data.head(5)\n"
   ]
  },
  {
   "cell_type": "markdown",
   "metadata": {},
   "source": [
    "Apply encoding on categorical features"
   ]
  },
  {
   "cell_type": "code",
   "execution_count": 5,
   "metadata": {
    "collapsed": false,
    "jupyter": {
     "outputs_hidden": false
    },
    "pycharm": {
     "name": "#%%\n"
    }
   },
   "outputs": [
    {
     "data": {
      "text/plain": "   gender  SeniorCitizen Partner Dependents  tenure PhoneService  \\\n0    Male              0      No         No       1          Yes   \n1    Male              0     Yes        Yes       4          Yes   \n2  Female              1      No         No      17          Yes   \n3    Male              0      No         No      22           No   \n4  Female              0     Yes        Yes      70          Yes   \n\n      MultipleLines InternetService       OnlineSecurity         OnlineBackup  \\\n0                No             DSL                   No                   No   \n1               Yes     Fiber optic                   No                   No   \n2                No              No  No internet service  No internet service   \n3  No phone service             DSL                   No                  Yes   \n4                No             DSL                  Yes                  Yes   \n\n      DeviceProtection          TechSupport          StreamingTV  \\\n0                   No                   No                   No   \n1                  Yes                   No                  Yes   \n2  No internet service  No internet service  No internet service   \n3                  Yes                   No                   No   \n4                  Yes                  Yes                   No   \n\n       StreamingMovies        Contract PaperlessBilling  \\\n0                   No  Month-to-month              Yes   \n1                  Yes  Month-to-month               No   \n2  No internet service        One year               No   \n3                  Yes        One year              Yes   \n4                  Yes        One year               No   \n\n               PaymentMethod  MonthlyCharges  TotalCharges  \n0           Electronic check           45.65         45.65  \n1           Electronic check          101.15        385.90  \n2               Mailed check           20.65        330.60  \n3  Bank transfer (automatic)           43.75        903.60  \n4    Credit card (automatic)           74.10       5222.30  ",
      "text/html": "<div>\n<style scoped>\n    .dataframe tbody tr th:only-of-type {\n        vertical-align: middle;\n    }\n\n    .dataframe tbody tr th {\n        vertical-align: top;\n    }\n\n    .dataframe thead th {\n        text-align: right;\n    }\n</style>\n<table border=\"1\" class=\"dataframe\">\n  <thead>\n    <tr style=\"text-align: right;\">\n      <th></th>\n      <th>gender</th>\n      <th>SeniorCitizen</th>\n      <th>Partner</th>\n      <th>Dependents</th>\n      <th>tenure</th>\n      <th>PhoneService</th>\n      <th>MultipleLines</th>\n      <th>InternetService</th>\n      <th>OnlineSecurity</th>\n      <th>OnlineBackup</th>\n      <th>DeviceProtection</th>\n      <th>TechSupport</th>\n      <th>StreamingTV</th>\n      <th>StreamingMovies</th>\n      <th>Contract</th>\n      <th>PaperlessBilling</th>\n      <th>PaymentMethod</th>\n      <th>MonthlyCharges</th>\n      <th>TotalCharges</th>\n    </tr>\n  </thead>\n  <tbody>\n    <tr>\n      <th>0</th>\n      <td>Male</td>\n      <td>0</td>\n      <td>No</td>\n      <td>No</td>\n      <td>1</td>\n      <td>Yes</td>\n      <td>No</td>\n      <td>DSL</td>\n      <td>No</td>\n      <td>No</td>\n      <td>No</td>\n      <td>No</td>\n      <td>No</td>\n      <td>No</td>\n      <td>Month-to-month</td>\n      <td>Yes</td>\n      <td>Electronic check</td>\n      <td>45.65</td>\n      <td>45.65</td>\n    </tr>\n    <tr>\n      <th>1</th>\n      <td>Male</td>\n      <td>0</td>\n      <td>Yes</td>\n      <td>Yes</td>\n      <td>4</td>\n      <td>Yes</td>\n      <td>Yes</td>\n      <td>Fiber optic</td>\n      <td>No</td>\n      <td>No</td>\n      <td>Yes</td>\n      <td>No</td>\n      <td>Yes</td>\n      <td>Yes</td>\n      <td>Month-to-month</td>\n      <td>No</td>\n      <td>Electronic check</td>\n      <td>101.15</td>\n      <td>385.90</td>\n    </tr>\n    <tr>\n      <th>2</th>\n      <td>Female</td>\n      <td>1</td>\n      <td>No</td>\n      <td>No</td>\n      <td>17</td>\n      <td>Yes</td>\n      <td>No</td>\n      <td>No</td>\n      <td>No internet service</td>\n      <td>No internet service</td>\n      <td>No internet service</td>\n      <td>No internet service</td>\n      <td>No internet service</td>\n      <td>No internet service</td>\n      <td>One year</td>\n      <td>No</td>\n      <td>Mailed check</td>\n      <td>20.65</td>\n      <td>330.60</td>\n    </tr>\n    <tr>\n      <th>3</th>\n      <td>Male</td>\n      <td>0</td>\n      <td>No</td>\n      <td>No</td>\n      <td>22</td>\n      <td>No</td>\n      <td>No phone service</td>\n      <td>DSL</td>\n      <td>No</td>\n      <td>Yes</td>\n      <td>Yes</td>\n      <td>No</td>\n      <td>No</td>\n      <td>Yes</td>\n      <td>One year</td>\n      <td>Yes</td>\n      <td>Bank transfer (automatic)</td>\n      <td>43.75</td>\n      <td>903.60</td>\n    </tr>\n    <tr>\n      <th>4</th>\n      <td>Female</td>\n      <td>0</td>\n      <td>Yes</td>\n      <td>Yes</td>\n      <td>70</td>\n      <td>Yes</td>\n      <td>No</td>\n      <td>DSL</td>\n      <td>Yes</td>\n      <td>Yes</td>\n      <td>Yes</td>\n      <td>Yes</td>\n      <td>No</td>\n      <td>Yes</td>\n      <td>One year</td>\n      <td>No</td>\n      <td>Credit card (automatic)</td>\n      <td>74.10</td>\n      <td>5222.30</td>\n    </tr>\n  </tbody>\n</table>\n</div>"
     },
     "execution_count": 5,
     "metadata": {},
     "output_type": "execute_result"
    }
   ],
   "source": [
    "data['Churn'] = data['Churn'].map({'Yes': 1, 'No': 0})\n",
    "\n",
    "data.replace(\" \", np.nan, inplace=True)\n",
    "\n",
    "data['TotalCharges'] = pd.to_numeric(data['TotalCharges'])\n",
    "\n",
    "mean = data['TotalCharges'].mean()\n",
    "data.fillna(mean, inplace=True)\n",
    "final_set = data.drop(['Churn', 'customerID'], axis=1)\n",
    "final_set.head(5)\n",
    "labels = data['Churn']\n",
    "\n",
    "\n",
    "categories_per_feature = ['MultipleLines', 'InternetService', 'Contract', 'PaymentMethod', 'OnlineSecurity', 'OnlineBackup',\n",
    "         'DeviceProtection', 'TechSupport']\n",
    "final_set.head(5)\n",
    "\n",
    "\n",
    "\n"
   ]
  },
  {
   "cell_type": "code",
   "execution_count": 6,
   "metadata": {},
   "outputs": [
    {
     "name": "stdout",
     "output_type": "stream",
     "text": [
      "Training Data Shape (4930, 19) (4930,)\n",
      "Testing Data Shape (2113, 19) (2113,)\n"
     ]
    },
    {
     "data": {
      "text/plain": "['CustomerChurnDriftFeaturesColumns.pkl']",
      "text/html": "['CustomerChurnDriftFeaturesColumns.pkl']"
     },
     "execution_count": 6,
     "metadata": {},
     "output_type": "execute_result"
    }
   ],
   "source": [
    "\n",
    "\n",
    "labels = data['Churn']\n",
    "X_train, X_test, Y_train, Y_test = train_test_split(final_set, labels, test_size=0.3)\n",
    "print ('Training Data Shape',X_train.shape, Y_train.shape)\n",
    "print ('Testing Data Shape',X_test.shape, Y_test.shape)\n",
    "\n",
    "Y = data['Churn']\n",
    "X = final_set\n",
    "joblib.dump(final_set.columns, 'CustomerChurnDriftFeaturesColumns.pkl')\n",
    "\n"
   ]
  },
  {
   "cell_type": "markdown",
   "metadata": {},
   "source": [
    "\n",
    "Define a Drift Model."
   ]
  },
  {
   "cell_type": "markdown",
   "metadata": {},
   "source": [
    "Find the categorical columns."
   ]
  },
  {
   "cell_type": "code",
   "execution_count": 7,
   "metadata": {},
   "outputs": [
    {
     "data": {
      "text/plain": "['PhoneService',\n 'Dependents',\n 'Partner',\n 'InternetService',\n 'PaperlessBilling',\n 'PaymentMethod',\n 'StreamingTV',\n 'OnlineSecurity',\n 'MultipleLines',\n 'StreamingMovies',\n 'Contract',\n 'DeviceProtection',\n 'OnlineBackup',\n 'gender',\n 'TechSupport']",
      "text/html": "['PhoneService', 'Dependents', 'Partner', 'InternetService', 'PaperlessBilling', 'PaymentMethod', 'StreamingTV', 'OnlineSecurity', 'MultipleLines', 'StreamingMovies', 'Contract', 'DeviceProtection', 'OnlineBackup', 'gender', 'TechSupport']"
     },
     "execution_count": 7,
     "metadata": {},
     "output_type": "execute_result"
    }
   ],
   "source": [
    "numCols = X_train.select_dtypes(\"number\").columns\n",
    "catCols = X_train.select_dtypes(\"object\").columns\n",
    "numCols= list(set(numCols))\n",
    "catCols= list(set(catCols))\n",
    "numCols\n",
    "catCols"
   ]
  },
  {
   "cell_type": "code",
   "execution_count": 8,
   "outputs": [
    {
     "data": {
      "text/plain": "['tenure', 'MonthlyCharges', 'SeniorCitizen', 'TotalCharges']",
      "text/html": "['tenure', 'MonthlyCharges', 'SeniorCitizen', 'TotalCharges']"
     },
     "execution_count": 8,
     "metadata": {},
     "output_type": "execute_result"
    }
   ],
   "source": [
    "numCols"
   ],
   "metadata": {
    "collapsed": false,
    "pycharm": {
     "name": "#%%\n"
    }
   }
  },
  {
   "cell_type": "code",
   "execution_count": 8,
   "outputs": [],
   "source": [],
   "metadata": {
    "collapsed": false,
    "pycharm": {
     "name": "#%%\n"
    }
   }
  },
  {
   "cell_type": "code",
   "execution_count": 8,
   "outputs": [],
   "source": [],
   "metadata": {
    "collapsed": false,
    "pycharm": {
     "name": "#%%\n"
    }
   }
  },
  {
   "cell_type": "code",
   "execution_count": 9,
   "outputs": [
    {
     "name": "stdout",
     "output_type": "stream",
     "text": [
      "gender\n",
      "SeniorCitizen\n",
      "Partner\n",
      "Dependents\n",
      "tenure\n",
      "PhoneService\n",
      "MultipleLines\n",
      "InternetService\n",
      "OnlineSecurity\n",
      "OnlineBackup\n",
      "DeviceProtection\n",
      "TechSupport\n",
      "StreamingTV\n",
      "StreamingMovies\n",
      "Contract\n",
      "PaperlessBilling\n",
      "PaymentMethod\n",
      "MonthlyCharges\n",
      "TotalCharges\n"
     ]
    },
    {
     "data": {
      "text/plain": "{0: None,\n 2: None,\n 3: None,\n 5: None,\n 6: None,\n 7: None,\n 8: None,\n 9: None,\n 10: None,\n 11: None,\n 12: None,\n 13: None,\n 14: None,\n 15: None,\n 16: None}"
     },
     "execution_count": 9,
     "metadata": {},
     "output_type": "execute_result"
    }
   ],
   "source": [
    "categories_per_feature = {}\n",
    "for i in range (len(final_set.columns)):\n",
    "    print(final_set.columns[i])\n",
    "    if final_set.columns[i] in catCols:\n",
    "        categories_per_feature[i] = None\n",
    "categories_per_feature"
   ],
   "metadata": {
    "collapsed": false,
    "pycharm": {
     "name": "#%%\n"
    }
   }
  },
  {
   "cell_type": "code",
   "execution_count": null,
   "outputs": [],
   "source": [],
   "metadata": {
    "collapsed": false,
    "pycharm": {
     "name": "#%%\n"
    }
   }
  },
  {
   "cell_type": "code",
   "execution_count": 18,
   "outputs": [
    {
     "name": "stderr",
     "output_type": "stream",
     "text": [
      "Directory CustomerChurnDriftPredictor does not exist and is now created.\n"
     ]
    }
   ],
   "source": [
    "save_detector(cd, 'CustomerChurnDriftPredictor')\n"
   ],
   "metadata": {
    "collapsed": false,
    "pycharm": {
     "name": "#%%\n"
    }
   }
  },
  {
   "cell_type": "code",
   "execution_count": 15,
   "outputs": [
    {
     "data": {
      "text/plain": "['CustomerChurnDriftPredictor.sav']",
      "text/html": "['CustomerChurnDriftPredictor.sav']"
     },
     "execution_count": 15,
     "metadata": {},
     "output_type": "execute_result"
    }
   ],
   "source": [
    "cd = TabularDrift(X_train.values, p_val=.05, categories_per_feature=categories_per_feature)\n",
    "joblib.dump(cd, 'CustomerChurnDriftPredictor.sav')\n",
    "save_detector(cd, 'CustomerChurnDriftPredictor')\n",
    "# cd1 = load_detector('CustomerChurnDriftPredictor')"
   ],
   "metadata": {
    "collapsed": false,
    "pycharm": {
     "name": "#%%\n"
    }
   }
  },
  {
   "cell_type": "code",
   "execution_count": 17,
   "outputs": [
    {
     "data": {
      "text/plain": "9"
     },
     "execution_count": 16,
     "metadata": {},
     "output_type": "execute_result"
    },
    {
     "data": {
      "text/plain": "9"
     },
     "execution_count": 17,
     "metadata": {},
     "output_type": "execute_result"
    }
   ],
   "source": [
    "data_for_check = X_test.copy()\n",
    "list_dist = []\n",
    "list_dist_d= []\n",
    "list_dist_nd= []\n",
    "\n",
    "list_drift = []\n",
    "list_drift_index = []\n",
    "idx =0\n",
    "cc = 0\n",
    "for index, row in data_for_check.iterrows():\n",
    "    cd_preds = cd.predict(data_for_check.iloc[idx].values.reshape(1,data_for_check.shape[1]))\n",
    "    if cd_preds['data']['is_drift']==1:\n",
    "        list_drift_index.append(idx)\n",
    "        list_dist_d.append(np.min(cd_preds['data']['p_val']))\n",
    "\n",
    "    else:\n",
    "        list_dist_nd.append(np.min(cd_preds['data']['p_val']))\n",
    "\n",
    "    list_drift.append(cd_preds['data']['is_drift'])\n",
    "    list_dist.append(np.mean(cd_preds['data']['p_val']))\n",
    "    idx +=1\n",
    "len (list_drift_index)"
   ],
   "metadata": {
    "collapsed": false,
    "pycharm": {
     "name": "#%%\n"
    }
   }
  },
  {
   "cell_type": "code",
   "execution_count": null,
   "metadata": {},
   "outputs": [],
   "source": [
    "data['Churn'] = data['Churn'].map({'Yes': 1, 'No': 0})\n",
    "\n",
    "data.replace(\" \", np.nan, inplace=True)\n",
    "\n",
    "data['TotalCharges'] = pd.to_numeric(data['TotalCharges'])\n",
    "\n",
    "mean = data['TotalCharges'].mean()\n",
    "data.fillna(mean, inplace=True)\n",
    "\n",
    "\n",
    "names = ['gender', 'Partner', 'Dependents', 'PhoneService', 'StreamingTV', 'StreamingMovies', 'PaperlessBilling']\n",
    "# for column in names:\n",
    "#     labelencoder(column)\n",
    "data_enc = data\n",
    "data_enc = data_enc.drop(['Churn', 'customerID'], axis=1)\n",
    "enc = ce.ordinal.OrdinalEncoder(cols=names)\n",
    "enc.fit(data_enc)\n",
    "# ###\n",
    "# filename_oe = 'OrdinalEncoder_drift.sav'\n",
    "# pickle.dump(enc, open(filename_oe, 'wb'))\n",
    "\n",
    "# # some time later...\n",
    "\n",
    "# # load the model from disk\n",
    "# enc = pickle.load(open(filename_oe, 'rb'))\n",
    "# ###\n",
    "labelled_set = enc.transform(data_enc)\n",
    "\n",
    "names = ['MultipleLines', 'InternetService', 'Contract', 'PaymentMethod', 'OnlineSecurity', 'OnlineBackup',\n",
    "         'DeviceProtection', 'TechSupport']\n",
    "\n",
    "ohe = ce.OneHotEncoder(cols=names)\n",
    "data_ohe = data\n",
    "data_ohe = data_ohe.drop(['Churn', 'customerID'], axis=1)\n",
    "ohe.fit(data_ohe)\n",
    "# ###\n",
    "# filename_ohe = 'OneHotEncoder_drift.sav'\n",
    "# pickle.dump(ohe, open(filename_ohe, 'wb'))\n",
    "\n",
    "# # some time later...\n",
    "\n",
    "# # load the model from disk\n",
    "# ohe = pickle.load(open(filename_ohe, 'rb'))\n",
    "###\n",
    "final_set = ohe.transform(labelled_set)\n",
    "columns_name =final_set.columns\n",
    "final_set.head(5)"
   ]
  },
  {
   "cell_type": "code",
   "execution_count": null,
   "metadata": {},
   "outputs": [],
   "source": [
    "from sklearn.model_selection import train_test_split\n",
    "labels = data['Churn']\n",
    "X_train, X_test, Y_train, Y_test = train_test_split(final_set, labels, test_size=0.3)\n",
    "\n",
    "Y = data['Churn']\n",
    "X = final_set"
   ]
  },
  {
   "cell_type": "code",
   "execution_count": null,
   "metadata": {},
   "outputs": [],
   "source": [
    "from tensorflow.keras.layers import Dense, InputLayer, Input,Conv1D,Flatten,Embedding\n",
    "import tensorflow as tf\n",
    "\n",
    "\n",
    "n_features = X_train.shape[1]\n",
    "\n",
    "proj = tf.keras.Sequential(\n",
    "  [\n",
    "      InputLayer(input_shape=( n_features,1), name=\"encode1\"),\n",
    "\n",
    "      Conv1D(32, 4, strides=1, padding='same', activation=tf.nn.relu),\n",
    "      Conv1D(64, 4, strides=1, padding='same', activation=tf.nn.relu),\n",
    "      Conv1D(4, 4, strides=1, padding='same', activation=tf.nn.relu),\n",
    "      Flatten(),\n",
    "  ]\n",
    ")\n",
    "\n",
    "proj.summary()\n"
   ]
  },
  {
   "cell_type": "code",
   "execution_count": null,
   "metadata": {},
   "outputs": [],
   "source": [
    "from alibi_detect.utils.tensorflow.kernels import DeepKernel\n",
    "kernel = DeepKernel(proj, eps=0.01)\n"
   ]
  },
  {
   "cell_type": "code",
   "execution_count": null,
   "metadata": {},
   "outputs": [],
   "source": [
    "# x = X_train.values.reshape(X_train.values.shape[0], X_train.values.shape[1], 1)\n",
    "# x_t = X_test.values.reshape(X_test.values.shape[0], X_test.values.shape[1], 1).astype('float32')\n",
    "x = X_train.values.reshape(X_train.values.shape[0],n_features,1).astype('float32')\n",
    "x_t = X_test.values.reshape(X_test.values.shape[0],n_features,1).astype('float32')\n",
    "x_t.shape\n",
    "\n"
   ]
  },
  {
   "cell_type": "code",
   "execution_count": null,
   "metadata": {},
   "outputs": [],
   "source": [
    "\n",
    "from alibi_detect.cd import LearnedKernelDrift\n",
    "cd = LearnedKernelDrift(x, kernel, backend='tensorflow', p_val=.05, epochs=1)"
   ]
  },
  {
   "cell_type": "code",
   "execution_count": null,
   "metadata": {},
   "outputs": [],
   "source": [
    "x_t0 = x_t[0].reshape(1,n_features,1).astype('float32')\n",
    "\n",
    "x_t0.shape\n"
   ]
  },
  {
   "cell_type": "code",
   "execution_count": null,
   "metadata": {},
   "outputs": [],
   "source": [
    "data_for_check = X_test.copy()\n",
    "\n",
    "cd_preds = cd.predict(x_t0)"
   ]
  },
  {
   "cell_type": "code",
   "execution_count": null,
   "metadata": {},
   "outputs": [],
   "source": [
    "data_for_check = X_test.copy()\n",
    "list_dist = []\n",
    "list_dist_d= []\n",
    "list_dist_nd= []\n",
    "\n",
    "list_drift = []\n",
    "list_drift_index = []\n",
    "idx =0\n",
    "cc = 0\n",
    "for index, row in data_for_check.iterrows(): \n",
    "    x_t0 = x_t[idx].reshape(1,n_features,1).astype('float32')\n",
    "    cd_preds = cd.predict(x_t0)\n",
    "    # cd_preds = cd.predict(data_for_check.iloc[idx].values.reshape(1,data_for_check.shape[1]))\n",
    "    if cd_preds['data']['is_drift']==1:\n",
    "        list_drift_index.append(idx)\n",
    "        list_dist_d.append(np.min(cd_preds['data']['p_val']))\n",
    "        \n",
    "    else:\n",
    "        list_dist_nd.append(np.min(cd_preds['data']['p_val']))\n",
    "\n",
    "    list_drift.append(cd_preds['data']['is_drift'])\n",
    "    list_dist.append(np.mean(cd_preds['data']['p_val']))\n",
    "    idx +=1\n",
    "len (list_drift_index)"
   ]
  },
  {
   "cell_type": "code",
   "execution_count": null,
   "metadata": {},
   "outputs": [],
   "source": []
  }
 ],
 "metadata": {
  "interpreter": {
   "hash": "ce4b14861374cad230d871e5c41f613d2db9594bea8f9eafa29f3d4d2b36a9d4"
  },
  "kernelspec": {
   "display_name": "Python 3",
   "language": "python",
   "name": "python3"
  },
  "language_info": {
   "codemirror_mode": {
    "name": "ipython",
    "version": 3
   },
   "file_extension": ".py",
   "mimetype": "text/x-python",
   "name": "python",
   "nbconvert_exporter": "python",
   "pygments_lexer": "ipython3",
   "version": "3.8.6"
  }
 },
 "nbformat": 4,
 "nbformat_minor": 4
}