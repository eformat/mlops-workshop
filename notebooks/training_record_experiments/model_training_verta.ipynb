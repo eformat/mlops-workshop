{
 "cells": [
  {
   "cell_type": "code",
   "execution_count": 1,
   "metadata": {
    "collapsed": true
   },
   "outputs": [],
   "source": [
    "HOST = \"localhost:3000\"\n",
    "\n",
    "PROJECT_NAME = \"CustomerChurn\"\n",
    "EXPERIMENT_NAME = \"DecisionTreeClassifier\""
   ]
  },
  {
   "cell_type": "code",
   "execution_count": 2,
   "outputs": [],
   "source": [
    "import pandas as pd\n",
    "import numpy as np"
   ],
   "metadata": {
    "collapsed": false,
    "pycharm": {
     "name": "#%%\n"
    }
   }
  },
  {
   "cell_type": "code",
   "execution_count": 3,
   "outputs": [],
   "source": [
    "data = pd.read_csv('../../data/data.csv')\n"
   ],
   "metadata": {
    "collapsed": false,
    "pycharm": {
     "name": "#%%\n"
    }
   }
  },
  {
   "cell_type": "code",
   "execution_count": 4,
   "outputs": [
    {
     "name": "stderr",
     "output_type": "stream",
     "text": [
      "/Users/faisalmasood/.pyenv/versions/3.8.11/lib/python3.8/site-packages/category_encoders/utils.py:21: FutureWarning: is_categorical is deprecated and will be removed in a future version.  Use is_categorical_dtype instead\n",
      "  elif pd.api.types.is_categorical(cols):\n"
     ]
    },
    {
     "data": {
      "text/plain": "   gender  SeniorCitizen  Partner  Dependents  tenure  PhoneService  \\\n0       1              0        1           1       1             1   \n1       1              0        2           2       4             1   \n2       2              1        1           1      17             1   \n3       1              0        1           1      22             2   \n4       2              0        2           2      70             1   \n\n   MultipleLines_1  MultipleLines_2  MultipleLines_3  InternetService_1  ...  \\\n0                1                0                0                  1  ...   \n1                0                1                0                  0  ...   \n2                1                0                0                  0  ...   \n3                0                0                1                  1  ...   \n4                1                0                0                  1  ...   \n\n   Contract_1  Contract_2  Contract_3  PaperlessBilling  PaymentMethod_1  \\\n0           1           0           0                 1                1   \n1           1           0           0                 2                1   \n2           0           1           0                 2                0   \n3           0           1           0                 1                0   \n4           0           1           0                 2                0   \n\n   PaymentMethod_2  PaymentMethod_3  PaymentMethod_4  MonthlyCharges  \\\n0                0                0                0           45.65   \n1                0                0                0          101.15   \n2                1                0                0           20.65   \n3                0                1                0           43.75   \n4                0                0                1           74.10   \n\n   TotalCharges  \n0         45.65  \n1        385.90  \n2        330.60  \n3        903.60  \n4       5222.30  \n\n[5 rows x 36 columns]",
      "text/html": "<div>\n<style scoped>\n    .dataframe tbody tr th:only-of-type {\n        vertical-align: middle;\n    }\n\n    .dataframe tbody tr th {\n        vertical-align: top;\n    }\n\n    .dataframe thead th {\n        text-align: right;\n    }\n</style>\n<table border=\"1\" class=\"dataframe\">\n  <thead>\n    <tr style=\"text-align: right;\">\n      <th></th>\n      <th>gender</th>\n      <th>SeniorCitizen</th>\n      <th>Partner</th>\n      <th>Dependents</th>\n      <th>tenure</th>\n      <th>PhoneService</th>\n      <th>MultipleLines_1</th>\n      <th>MultipleLines_2</th>\n      <th>MultipleLines_3</th>\n      <th>InternetService_1</th>\n      <th>...</th>\n      <th>Contract_1</th>\n      <th>Contract_2</th>\n      <th>Contract_3</th>\n      <th>PaperlessBilling</th>\n      <th>PaymentMethod_1</th>\n      <th>PaymentMethod_2</th>\n      <th>PaymentMethod_3</th>\n      <th>PaymentMethod_4</th>\n      <th>MonthlyCharges</th>\n      <th>TotalCharges</th>\n    </tr>\n  </thead>\n  <tbody>\n    <tr>\n      <th>0</th>\n      <td>1</td>\n      <td>0</td>\n      <td>1</td>\n      <td>1</td>\n      <td>1</td>\n      <td>1</td>\n      <td>1</td>\n      <td>0</td>\n      <td>0</td>\n      <td>1</td>\n      <td>...</td>\n      <td>1</td>\n      <td>0</td>\n      <td>0</td>\n      <td>1</td>\n      <td>1</td>\n      <td>0</td>\n      <td>0</td>\n      <td>0</td>\n      <td>45.65</td>\n      <td>45.65</td>\n    </tr>\n    <tr>\n      <th>1</th>\n      <td>1</td>\n      <td>0</td>\n      <td>2</td>\n      <td>2</td>\n      <td>4</td>\n      <td>1</td>\n      <td>0</td>\n      <td>1</td>\n      <td>0</td>\n      <td>0</td>\n      <td>...</td>\n      <td>1</td>\n      <td>0</td>\n      <td>0</td>\n      <td>2</td>\n      <td>1</td>\n      <td>0</td>\n      <td>0</td>\n      <td>0</td>\n      <td>101.15</td>\n      <td>385.90</td>\n    </tr>\n    <tr>\n      <th>2</th>\n      <td>2</td>\n      <td>1</td>\n      <td>1</td>\n      <td>1</td>\n      <td>17</td>\n      <td>1</td>\n      <td>1</td>\n      <td>0</td>\n      <td>0</td>\n      <td>0</td>\n      <td>...</td>\n      <td>0</td>\n      <td>1</td>\n      <td>0</td>\n      <td>2</td>\n      <td>0</td>\n      <td>1</td>\n      <td>0</td>\n      <td>0</td>\n      <td>20.65</td>\n      <td>330.60</td>\n    </tr>\n    <tr>\n      <th>3</th>\n      <td>1</td>\n      <td>0</td>\n      <td>1</td>\n      <td>1</td>\n      <td>22</td>\n      <td>2</td>\n      <td>0</td>\n      <td>0</td>\n      <td>1</td>\n      <td>1</td>\n      <td>...</td>\n      <td>0</td>\n      <td>1</td>\n      <td>0</td>\n      <td>1</td>\n      <td>0</td>\n      <td>0</td>\n      <td>1</td>\n      <td>0</td>\n      <td>43.75</td>\n      <td>903.60</td>\n    </tr>\n    <tr>\n      <th>4</th>\n      <td>2</td>\n      <td>0</td>\n      <td>2</td>\n      <td>2</td>\n      <td>70</td>\n      <td>1</td>\n      <td>1</td>\n      <td>0</td>\n      <td>0</td>\n      <td>1</td>\n      <td>...</td>\n      <td>0</td>\n      <td>1</td>\n      <td>0</td>\n      <td>2</td>\n      <td>0</td>\n      <td>0</td>\n      <td>0</td>\n      <td>1</td>\n      <td>74.10</td>\n      <td>5222.30</td>\n    </tr>\n  </tbody>\n</table>\n<p>5 rows × 36 columns</p>\n</div>"
     },
     "execution_count": 4,
     "metadata": {},
     "output_type": "execute_result"
    }
   ],
   "source": [
    "# do all data massaging\n",
    "# Convert binary variable into numeric so plotting is easier. We need to later take mean\n",
    "data['Churn'] = data['Churn'].map({'Yes': 1, 'No': 0})\n",
    "\n",
    "data.replace(\" \", np.nan, inplace=True)\n",
    "\n",
    "data['TotalCharges'] = pd.to_numeric(data['TotalCharges'])\n",
    "\n",
    "mean = data['TotalCharges'].mean()\n",
    "data.fillna(mean, inplace=True)\n",
    "\n",
    "import category_encoders as ce\n",
    "import joblib\n",
    "\n",
    "names = ['gender', 'Partner', 'Dependents', 'PhoneService', 'StreamingTV', 'StreamingMovies', 'PaperlessBilling']\n",
    "# for column in names:\n",
    "#     labelencoder(column)\n",
    "data_enc = data\n",
    "data_enc = data_enc.drop(['Churn', 'customerID'], axis=1)\n",
    "enc = ce.ordinal.OrdinalEncoder(cols=names)\n",
    "enc.fit(data_enc)\n",
    "labelled_set = enc.transform(data_enc)\n",
    "\n",
    "names = ['MultipleLines', 'InternetService', 'Contract', 'PaymentMethod', 'OnlineSecurity', 'OnlineBackup',\n",
    "         'DeviceProtection', 'TechSupport']\n",
    "\n",
    "ohe = ce.OneHotEncoder(cols=names)\n",
    "data_ohe = data\n",
    "data_ohe = data_ohe.drop(['Churn', 'customerID'], axis=1)\n",
    "ohe.fit(data_ohe)\n",
    "final_set = ohe.transform(labelled_set)\n",
    "\n",
    "final_set.head(5)"
   ],
   "metadata": {
    "collapsed": false,
    "pycharm": {
     "name": "#%%\n"
    }
   }
  },
  {
   "cell_type": "code",
   "execution_count": 5,
   "outputs": [
    {
     "name": "stdout",
     "output_type": "stream",
     "text": [
      "Training Data Shape (5634, 36) (5634,)\n",
      "Testing Data Shape (1409, 36) (1409,)\n"
     ]
    }
   ],
   "source": [
    "from sklearn.model_selection import train_test_split\n",
    "labels = data['Churn']\n",
    "X_train, X_test, y_train, y_test = train_test_split(final_set, labels, test_size=0.2)\n",
    "print ('Training Data Shape',X_train.shape, y_train.shape)\n",
    "print ('Testing Data Shape',X_test.shape, y_test.shape)\n",
    "\n",
    "Y = data['Churn']\n",
    "X = final_set\n",
    "\n"
   ],
   "metadata": {
    "collapsed": false,
    "pycharm": {
     "name": "#%%\n"
    }
   }
  },
  {
   "cell_type": "code",
   "execution_count": 13,
   "outputs": [
    {
     "name": "stdout",
     "output_type": "stream",
     "text": [
      "connection successfully established\n",
      "got existing Project: CustomerChurn\n",
      "got existing Experiment: DecisionTreeClassifier\n"
     ]
    }
   ],
   "source": [
    "from verta import Client\n",
    "from verta.utils import ModelAPI\n",
    "\n",
    "client = Client(HOST)\n",
    "proj = client.set_project(PROJECT_NAME)\n",
    "expt = client.set_experiment(EXPERIMENT_NAME)"
   ],
   "metadata": {
    "collapsed": false,
    "pycharm": {
     "name": "#%%\n"
    }
   }
  },
  {
   "cell_type": "code",
   "execution_count": 14,
   "outputs": [
    {
     "data": {
      "text/plain": "GridSearchCV(estimator=DecisionTreeClassifier(),\n             param_grid={'criterion': ['gini'], 'max_depth': [3, 5, 7, 10],\n                         'min_samples_leaf': [3, 5],\n                         'min_samples_split': [5, 10]})"
     },
     "execution_count": 14,
     "metadata": {},
     "output_type": "execute_result"
    }
   ],
   "source": [
    "from sklearn.model_selection import GridSearchCV\n",
    "from sklearn.tree import DecisionTreeClassifier\n",
    "\n",
    "model = DecisionTreeClassifier()\n",
    "# grid = {\n",
    "#     'max_depth': [5],\n",
    "#     'criterion': ['gini'],\n",
    "#     'min_samples_leaf': [3] ,\n",
    "#     'min_samples_split':[5]\n",
    "# }\n",
    "\n",
    "grid = {\n",
    "    'max_depth': [3,5,7,10],\n",
    "    'criterion': ['gini'],\n",
    "    'min_samples_leaf': [3, 5] ,\n",
    "    'min_samples_split':[5,10]\n",
    "}\n",
    "\n",
    "grid_search = GridSearchCV(model, grid, return_train_score=False)\n",
    "grid_search.fit(X_train, y_train)\n"
   ],
   "metadata": {
    "collapsed": false,
    "pycharm": {
     "name": "#%%\n"
    }
   }
  },
  {
   "cell_type": "code",
   "execution_count": 15,
   "outputs": [
    {
     "name": "stdout",
     "output_type": "stream",
     "text": [
      "created new Dataset: customer_churn_dataset in workspace: personal\n",
      "created new Dataset Version: 1 for customer_churn_dataset\n",
      "created new ExperimentRun: Run 1489916303982083816829\n",
      "Git repository successfully located at /Users/faisalmasood/Dropbox/noindex/tensorflow/github/mlops-workshop/\n",
      "created new ExperimentRun: Run 1489916303982091712298\n",
      "Git repository successfully located at /Users/faisalmasood/Dropbox/noindex/tensorflow/github/mlops-workshop/\n",
      "created new ExperimentRun: Run 1489916303982097643578\n",
      "Git repository successfully located at /Users/faisalmasood/Dropbox/noindex/tensorflow/github/mlops-workshop/\n",
      "created new ExperimentRun: Run 148991630398210348535\n",
      "Git repository successfully located at /Users/faisalmasood/Dropbox/noindex/tensorflow/github/mlops-workshop/\n",
      "created new ExperimentRun: Run 148991630398210992629\n",
      "Git repository successfully located at /Users/faisalmasood/Dropbox/noindex/tensorflow/github/mlops-workshop/\n",
      "created new ExperimentRun: Run 1489916303982116927612\n",
      "Git repository successfully located at /Users/faisalmasood/Dropbox/noindex/tensorflow/github/mlops-workshop/\n",
      "created new ExperimentRun: Run 148991630398212246908\n",
      "Git repository successfully located at /Users/faisalmasood/Dropbox/noindex/tensorflow/github/mlops-workshop/\n",
      "created new ExperimentRun: Run 148991630398212817895\n",
      "Git repository successfully located at /Users/faisalmasood/Dropbox/noindex/tensorflow/github/mlops-workshop/\n",
      "created new ExperimentRun: Run 1489916303982134003782\n",
      "Git repository successfully located at /Users/faisalmasood/Dropbox/noindex/tensorflow/github/mlops-workshop/\n",
      "created new ExperimentRun: Run 148991630398213950591\n",
      "Git repository successfully located at /Users/faisalmasood/Dropbox/noindex/tensorflow/github/mlops-workshop/\n",
      "created new ExperimentRun: Run 148991630398214558528\n",
      "Git repository successfully located at /Users/faisalmasood/Dropbox/noindex/tensorflow/github/mlops-workshop/\n",
      "created new ExperimentRun: Run 148991630398215193098\n",
      "Git repository successfully located at /Users/faisalmasood/Dropbox/noindex/tensorflow/github/mlops-workshop/\n",
      "created new ExperimentRun: Run 148991630398215713654\n",
      "Git repository successfully located at /Users/faisalmasood/Dropbox/noindex/tensorflow/github/mlops-workshop/\n",
      "created new ExperimentRun: Run 14899163039821635885\n",
      "Git repository successfully located at /Users/faisalmasood/Dropbox/noindex/tensorflow/github/mlops-workshop/\n",
      "created new ExperimentRun: Run 148991630398217121664\n",
      "Git repository successfully located at /Users/faisalmasood/Dropbox/noindex/tensorflow/github/mlops-workshop/\n",
      "created new ExperimentRun: Run 148991630398217809907\n",
      "Git repository successfully located at /Users/faisalmasood/Dropbox/noindex/tensorflow/github/mlops-workshop/\n"
     ]
    }
   ],
   "source": [
    "from verta.dataset import Path, S3\n",
    "\n",
    "results = pd.DataFrame(grid_search.cv_results_)\n",
    "\n",
    "dataset = client.get_or_create_dataset(name=\"customer_churn_dataset\",  desc=\"Customer Churn Dataset\")\n",
    "dataset_version = dataset.create_version(S3(\"s3://{}/{}\".format(\"file\", \"AB_NYC_2019.csv\")))\n",
    "\n",
    "\n",
    "for _, run_result in results.iterrows():\n",
    "    run = client.set_experiment_run()\n",
    "\n",
    "    # log training data\n",
    "    run.log_dataset(\"train_data\", dataset_version)\n",
    "\n",
    "    # log hyperparameters\n",
    "    run.log_hyperparameters(run_result['params'])\n",
    "\n",
    "    # log accuracy for each validation fold\n",
    "    for obs_key in [\"split{}_test_score\".format(i) for i in range(5)]:\n",
    "        run.log_observation(\"fold_acc\", run_result[obs_key])\n",
    "\n",
    "    # log summary stats of validation\n",
    "    run.log_metric(\"val_acc_mean\", run_result['mean_test_score'])\n",
    "    run.log_metric(\"val_acc_std\", run_result['std_test_score'])\n",
    "\n",
    "    run.log_dataset_version(\"train\", dataset_version)\n",
    "    run.log_code()"
   ],
   "metadata": {
    "collapsed": false,
    "pycharm": {
     "name": "#%%\n"
    }
   }
  },
  {
   "cell_type": "code",
   "execution_count": 16,
   "outputs": [
    {
     "name": "stdout",
     "output_type": "stream",
     "text": [
      "Validation Accuracy: 0.7994\n",
      "Hyperparameters: {'criterion': 'gini', 'max_depth': 5, 'min_samples_leaf': 5, 'min_samples_split': 10}\n",
      "Training accuracy: 0.7779\n"
     ]
    }
   ],
   "source": [
    "best_run = expt.expt_runs.sort(\"metrics.val_acc_mean\", descending=True)[0]\n",
    "print(\"Validation Accuracy: {:.4f}\".format(best_run.get_metric(\"val_acc_mean\")))\n",
    "\n",
    "best_hyperparams = best_run.get_hyperparameters()\n",
    "print(\"Hyperparameters: {}\".format(best_hyperparams))\n",
    "\n",
    "\n",
    "model = DecisionTreeClassifier(**best_hyperparams)\n",
    "model.fit(X_train, y_train)\n",
    "\n",
    "\n",
    "train_acc = model.score(X_test, y_test)\n",
    "best_run.log_metric(\"train_acc\", train_acc)\n",
    "print(\"Training accuracy: {:.4f}\".format(train_acc))"
   ],
   "metadata": {
    "collapsed": false,
    "pycharm": {
     "name": "#%%\n"
    }
   }
  },
  {
   "cell_type": "code",
   "execution_count": 17,
   "outputs": [
    {
     "name": "stdout",
     "output_type": "stream",
     "text": [
      "upload complete (model_api.json)\n",
      "upload complete (custom_modules)\n",
      "upload complete (model.pkl)\n"
     ]
    }
   ],
   "source": [
    "from verta.environment import Python\n",
    "\n",
    "best_run.log_model(model, overwrite=True)\n",
    "\n",
    "# registered_model = client.get_or_create_registered_model(name=\"CustomerChurn\")\n",
    "# registered_model.create_standard_model(model, name=\"v1\", environment= Python(Python.read_pip_environment()))"
   ],
   "metadata": {
    "collapsed": false,
    "pycharm": {
     "name": "#%%\n"
    }
   }
  },
  {
   "cell_type": "code",
   "execution_count": null,
   "outputs": [],
   "source": [],
   "metadata": {
    "collapsed": false,
    "pycharm": {
     "name": "#%%\n"
    }
   }
  }
 ],
 "metadata": {
  "kernelspec": {
   "display_name": "Python 3",
   "language": "python",
   "name": "python3"
  },
  "language_info": {
   "codemirror_mode": {
    "name": "ipython",
    "version": 2
   },
   "file_extension": ".py",
   "mimetype": "text/x-python",
   "name": "python",
   "nbconvert_exporter": "python",
   "pygments_lexer": "ipython2",
   "version": "2.7.6"
  }
 },
 "nbformat": 4,
 "nbformat_minor": 0
}